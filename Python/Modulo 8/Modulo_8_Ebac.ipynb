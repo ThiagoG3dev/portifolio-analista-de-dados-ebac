{
  "nbformat": 4,
  "nbformat_minor": 0,
  "metadata": {
    "colab": {
      "provenance": []
    },
    "kernelspec": {
      "name": "python3",
      "display_name": "Python 3"
    },
    "language_info": {
      "name": "python"
    }
  },
  "cells": [
    {
      "cell_type": "code",
      "execution_count": 1,
      "metadata": {
        "id": "afxj4j5joerV"
      },
      "outputs": [],
      "source": [
        "import random"
      ]
    },
    {
      "cell_type": "code",
      "source": [
        "numero_aleatorio = random.random()\n",
        "print(numero_aleatorio)"
      ],
      "metadata": {
        "colab": {
          "base_uri": "https://localhost:8080/"
        },
        "id": "jvp-RaoLpFLk",
        "outputId": "d843f0c0-b2bf-414d-a55f-ce879d53af60"
      },
      "execution_count": 6,
      "outputs": [
        {
          "output_type": "stream",
          "name": "stdout",
          "text": [
            "0.1968220172814784\n"
          ]
        }
      ]
    },
    {
      "cell_type": "code",
      "source": [
        "# choice -- escolha de um elemento da lista\n",
        "escolha = random.choice([1, 2, 3])\n",
        "print(escolha)"
      ],
      "metadata": {
        "colab": {
          "base_uri": "https://localhost:8080/"
        },
        "id": "lq5DBF2dpOAv",
        "outputId": "d507b1b0-7822-43ba-c343-24fb61317887"
      },
      "execution_count": 7,
      "outputs": [
        {
          "output_type": "stream",
          "name": "stdout",
          "text": [
            "1\n"
          ]
        }
      ]
    },
    {
      "cell_type": "code",
      "source": [
        "import math"
      ],
      "metadata": {
        "id": "qJq354hxpzqz"
      },
      "execution_count": 13,
      "outputs": []
    },
    {
      "cell_type": "code",
      "source": [
        "# math - potencia do numero\n",
        "potencia = math.pow(10, 10)\n",
        "print(potencia)"
      ],
      "metadata": {
        "colab": {
          "base_uri": "https://localhost:8080/"
        },
        "id": "R7OWs1-Qp0kj",
        "outputId": "68a9027b-d4a7-43bc-8595-91803628b37b"
      },
      "execution_count": 14,
      "outputs": [
        {
          "output_type": "stream",
          "name": "stdout",
          "text": [
            "10000000000.0\n"
          ]
        }
      ]
    },
    {
      "cell_type": "code",
      "source": [
        "# ceil - arredondamento do numero pra cima\n",
        "num = math.ceil(10.1)\n",
        "print(num)"
      ],
      "metadata": {
        "colab": {
          "base_uri": "https://localhost:8080/"
        },
        "id": "RXh9sfcbp7wR",
        "outputId": "0cb5db08-08c0-49e4-9e51-abd50c130ca1"
      },
      "execution_count": 16,
      "outputs": [
        {
          "output_type": "stream",
          "name": "stdout",
          "text": [
            "11\n"
          ]
        }
      ]
    },
    {
      "cell_type": "code",
      "source": [
        "from time import time, sleep"
      ],
      "metadata": {
        "id": "sJnwrMwOqE71"
      },
      "execution_count": 23,
      "outputs": []
    },
    {
      "cell_type": "code",
      "source": [
        "print(time())"
      ],
      "metadata": {
        "colab": {
          "base_uri": "https://localhost:8080/"
        },
        "id": "Umi5hWCxqncS",
        "outputId": "22cebf96-cd10-4bd2-e336-389cbfb9f3b1"
      },
      "execution_count": 19,
      "outputs": [
        {
          "output_type": "stream",
          "name": "stdout",
          "text": [
            "1704911869.8642783\n"
          ]
        }
      ]
    },
    {
      "cell_type": "code",
      "source": [
        "sleep(5)\n"
      ],
      "metadata": {
        "id": "bjCzNZrAqpU3"
      },
      "execution_count": 24,
      "outputs": []
    },
    {
      "cell_type": "code",
      "source": [
        "from datetime import datetime as dt"
      ],
      "metadata": {
        "id": "MjdCHfvCqrKv"
      },
      "execution_count": 25,
      "outputs": []
    },
    {
      "cell_type": "code",
      "source": [
        "print(dt.now())"
      ],
      "metadata": {
        "colab": {
          "base_uri": "https://localhost:8080/"
        },
        "id": "EMTCjG7VrIKR",
        "outputId": "8856ea5c-8496-4c06-99d5-53ced816d1f3"
      },
      "execution_count": 27,
      "outputs": [
        {
          "output_type": "stream",
          "name": "stdout",
          "text": [
            "2024-01-10 18:40:06.054724\n"
          ]
        }
      ]
    },
    {
      "cell_type": "code",
      "source": [
        "print(dt.now().day)\n"
      ],
      "metadata": {
        "colab": {
          "base_uri": "https://localhost:8080/"
        },
        "id": "IhwC-_EVrKig",
        "outputId": "6014a138-8b2b-4b5a-8a84-3e07b70a06d8"
      },
      "execution_count": 29,
      "outputs": [
        {
          "output_type": "stream",
          "name": "stdout",
          "text": [
            "10\n"
          ]
        }
      ]
    },
    {
      "cell_type": "code",
      "source": [
        "print(dt.now().year)"
      ],
      "metadata": {
        "colab": {
          "base_uri": "https://localhost:8080/"
        },
        "id": "XdhKOuv9rO9E",
        "outputId": "d8b1d9c4-04f4-4936-ac4f-628b4d2d93f3"
      },
      "execution_count": 31,
      "outputs": [
        {
          "output_type": "stream",
          "name": "stdout",
          "text": [
            "2024\n"
          ]
        }
      ]
    },
    {
      "cell_type": "code",
      "source": [
        "class ArquivoCSV(object):\n",
        "\n",
        "  def __init__(self, arquivo: str):\n",
        "    self.arquivo = arquivo\n",
        "    self.conteudo = self._extrair_conteudo()\n",
        "    self.colunas = self._extrair_nome_colunas()\n",
        "\n",
        "  def _extrair_conteudo(self):\n",
        "    conteudo = None\n",
        "    with open(file=self.arquivo, mode='r', encoding='utf8') as arquivo:\n",
        "      conteudo = arquivo.readlines()\n",
        "    return conteudo\n",
        "\n",
        "  def _extrair_nome_colunas(self):\n",
        "    return self.conteudo[0].strip().split(sep=',')\n",
        "\n",
        "  def extrair_coluna(self, indice_coluna: str):\n",
        "    coluna = list()\n",
        "    for linha in self.conteudo:\n",
        "      conteudo_linha = linha.strip().split(sep=',')\n",
        "      coluna.append(conteudo_linha[indice_coluna])\n",
        "    coluna.pop(0)\n",
        "    return coluna"
      ],
      "metadata": {
        "id": "hvcHMBearSLk"
      },
      "execution_count": 33,
      "outputs": []
    },
    {
      "cell_type": "code",
      "source": [
        "%%writefile banco.csv\n",
        "age,job,marital,education,default,balance,housing,loan\n",
        "30,unemployed,married,primary,no,1787,no,no\n",
        "33,services,married,secondary,no,4789,yes,yes\n",
        "35,management,single,tertiary,no,1350,yes,no\n",
        "30,management,married,tertiary,no,1476,yes,yes\n",
        "59,blue-collar,married,secondary,no,0,yes,no\n",
        "35,management,single,tertiary,no,747,no,no\n",
        "36,self-employed,married,tertiary,no,307,yes,no\n",
        "39,technician,married,secondary,no,147,yes,no\n",
        "41,entrepreneur,married,tertiary,no,221,yes,no\n",
        "43,services,married,primary,no,-88,yes,yes"
      ],
      "metadata": {
        "colab": {
          "base_uri": "https://localhost:8080/"
        },
        "id": "kQXFU7X6r6I3",
        "outputId": "0508b51d-1dd0-4d7f-e2a1-d5ee79f3002b"
      },
      "execution_count": 35,
      "outputs": [
        {
          "output_type": "stream",
          "name": "stdout",
          "text": [
            "Overwriting banco.csv\n"
          ]
        }
      ]
    },
    {
      "cell_type": "code",
      "source": [
        "arquivo_banco = ArquivoCSV(arquivo=\"./banco.csv\")"
      ],
      "metadata": {
        "id": "Y9llO8EzsTDJ"
      },
      "execution_count": 37,
      "outputs": []
    },
    {
      "cell_type": "code",
      "source": [
        "education = arquivo_banco.extrair_coluna(indice_coluna=3)\n",
        "print(education)"
      ],
      "metadata": {
        "colab": {
          "base_uri": "https://localhost:8080/"
        },
        "id": "m7o82mMKsFEx",
        "outputId": "4e741939-ac94-4cf9-c8c5-47793b53ddb7"
      },
      "execution_count": 38,
      "outputs": [
        {
          "output_type": "stream",
          "name": "stdout",
          "text": [
            "['primary', 'secondary', 'tertiary', 'tertiary', 'secondary', 'tertiary', 'tertiary', 'secondary', 'tertiary', 'primary']\n"
          ]
        }
      ]
    },
    {
      "cell_type": "code",
      "source": [
        "for palavra in education:\n",
        "  print(palavra)"
      ],
      "metadata": {
        "colab": {
          "base_uri": "https://localhost:8080/"
        },
        "id": "K8nMAOcBscnI",
        "outputId": "32fc7323-ea6d-4a7b-ea02-5eec776e5afa"
      },
      "execution_count": 39,
      "outputs": [
        {
          "output_type": "stream",
          "name": "stdout",
          "text": [
            "primary\n",
            "secondary\n",
            "tertiary\n",
            "tertiary\n",
            "secondary\n",
            "tertiary\n",
            "tertiary\n",
            "secondary\n",
            "tertiary\n",
            "primary\n"
          ]
        }
      ]
    },
    {
      "cell_type": "code",
      "source": [
        "from arquivo_csv import ArquivoCSV\n",
        "\n",
        "arquivo_banco_modulo = ArquivoCSV(arquivo=\"./banco.csv\")"
      ],
      "metadata": {
        "id": "ZzCF08Qcsghn"
      },
      "execution_count": 42,
      "outputs": []
    },
    {
      "cell_type": "code",
      "source": [
        "education_1 = arquivo_banco_modulo.extrair_coluna(indice_coluna=3)\n",
        "\n",
        "for palavra in education_1:\n",
        "  print(palavra)"
      ],
      "metadata": {
        "colab": {
          "base_uri": "https://localhost:8080/"
        },
        "id": "nlqPFP2Ns8H0",
        "outputId": "ed7d14a2-29fe-4b3d-ca60-1edb1572ebc2"
      },
      "execution_count": 44,
      "outputs": [
        {
          "output_type": "stream",
          "name": "stdout",
          "text": [
            "primary\n",
            "secondary\n",
            "tertiary\n",
            "tertiary\n",
            "secondary\n",
            "tertiary\n",
            "tertiary\n",
            "secondary\n",
            "tertiary\n",
            "primary\n"
          ]
        }
      ]
    },
    {
      "cell_type": "code",
      "source": [
        "%%writefile noticia.txt\n",
        "Egito cobra quase US$ 1 bi para liberar navio que bloqueou Canal de Suez\n",
        "Segundo autoridades, valor será utilizado para recompor as perdas provocados pelo encalhamento da embarcação de quase 400 metros\n"
      ],
      "metadata": {
        "colab": {
          "base_uri": "https://localhost:8080/"
        },
        "id": "GqDZfV1Yt9SG",
        "outputId": "53f6fecd-aa20-486f-efd5-231466b3c502"
      },
      "execution_count": 1,
      "outputs": [
        {
          "output_type": "stream",
          "name": "stdout",
          "text": [
            "Writing noticia.txt\n"
          ]
        }
      ]
    },
    {
      "cell_type": "code",
      "source": [
        "# primeiro o nome do arquivo depois o nome da Class\n",
        "from ArquivoTXT import ArquivoTXT\n",
        "\n",
        "arquivo_noticia = ArquivoTXT(arquivo=\"./noticia.txt\")"
      ],
      "metadata": {
        "id": "2pRbyHQ5t_Dt"
      },
      "execution_count": 50,
      "outputs": []
    },
    {
      "cell_type": "code",
      "source": [
        "titulo = arquivo_noticia.extrair_linha(numero_linha=1)\n",
        "print(titulo)"
      ],
      "metadata": {
        "colab": {
          "base_uri": "https://localhost:8080/"
        },
        "id": "1UYhoeMVvI4l",
        "outputId": "9e6ef987-44b5-4ccb-f43a-f678a6eb99a1"
      },
      "execution_count": 56,
      "outputs": [
        {
          "output_type": "stream",
          "name": "stdout",
          "text": [
            "Egito cobra quase US$ 1 bi para liberar navio que bloqueou Canal de Suez\n",
            "\n"
          ]
        }
      ]
    },
    {
      "cell_type": "code",
      "source": [
        "# from pasta.arquivo / import Class do arquivo\n",
        "from extrair.arquivoTXT import ArquivoTXT\n",
        "\n",
        "arquivo_noticia = ArquivoTXT(arquivo=\"./noticia.txt\")\n"
      ],
      "metadata": {
        "id": "wRRXreeGv91X"
      },
      "execution_count": 20,
      "outputs": []
    },
    {
      "cell_type": "code",
      "source": [
        "# variavel = nome_do_arquivo.nome_da_funcao(funcao)\n",
        "titulo = arquivo_noticia.extrair_linha(numero_linha=1)\n",
        "print(titulo)"
      ],
      "metadata": {
        "colab": {
          "base_uri": "https://localhost:8080/"
        },
        "id": "s2jEZnV1xoO0",
        "outputId": "625ae032-ce86-4c7a-8f6b-e5bd0004ee15"
      },
      "execution_count": 23,
      "outputs": [
        {
          "output_type": "stream",
          "name": "stdout",
          "text": [
            "Egito cobra quase US$ 1 bi para liberar navio que bloqueou Canal de Suez\n",
            "\n"
          ]
        }
      ]
    },
    {
      "cell_type": "code",
      "source": [
        "import requests as req\n",
        "import json\n",
        "\n",
        "# trazer informacao da web\n",
        "response = req.get('https://www2.cetip.com.br/ConsultarTaxaDi/ConsultarTaxaDICetip.aspx')\n",
        "\n",
        "# verificar se deu certo\n",
        "print(f'status code: {response.status_code}')\n",
        "\n",
        "# Informação da web\n",
        "print(response.text)\n",
        "\n",
        "# transformar a informacao em um dicionario\n",
        "data = json.loads(response.text)\n",
        "print(data)\n",
        "print(type(data))\n",
        "\n",
        "cdi = None\n",
        "\n",
        "# formatar dicionario com .items()\n",
        "for key, value in data.items():\n",
        "  # achar a palavra \" taxa \"\n",
        "  if key == 'taxa':\n",
        "    # trocar \" . \" por \" , \"\n",
        "    cdi = value.replace(',', '.')\n",
        "    # converter em float\n",
        "    cdi = float(cdi)\n",
        "\n",
        "print(cdi)\n",
        "print(type(cdi))"
      ],
      "metadata": {
        "colab": {
          "base_uri": "https://localhost:8080/"
        },
        "id": "1P3ng4x31Z2K",
        "outputId": "fddf2069-9e8f-4e41-b9d7-9d764d1b9d45"
      },
      "execution_count": 24,
      "outputs": [
        {
          "output_type": "stream",
          "name": "stdout",
          "text": [
            "status code: 200\n",
            "{\"taxa\":\"11,65\",\"dataTaxa\":\"09/01/2024\",\"indice\":\"42.936,83\",\"dataIndice\":\"10/01/2024\"}\n",
            "{'taxa': '11,65', 'dataTaxa': '09/01/2024', 'indice': '42.936,83', 'dataIndice': '10/01/2024'}\n",
            "<class 'dict'>\n",
            "11.65\n",
            "<class 'float'>\n"
          ]
        }
      ]
    },
    {
      "cell_type": "code",
      "source": [
        "\n",
        "import wget\n",
        "# trazer arquivo da web . zip\n",
        "wget.download(url='https://archive.ics.uci.edu/ml/machine-learning-databases/00312/dow_jones_index.zip', out='./dados.zip')\n",
        "\n",
        "# descompactar o arquivo\n",
        "import zipfile\n",
        "\n",
        "with zipfile.ZipFile('./dados.zip', 'r') as fp:\n",
        "  fp.extractall('./dados')\n",
        "\n",
        "\"\"\"\n",
        "arquivo de dados é um arquivo separado por virgulas, o famoso csv. Vamos renomear o arquivo de dados\n",
        "para que ele tenha a extensão csv com o pacote nativo os.\n",
        "\n",
        "\"\"\"\n",
        "import os\n",
        "\n",
        "os.rename('./dados/dow_jones_index.data', './dados/dow_jones_index.csv')"
      ],
      "metadata": {
        "id": "w3VezxKG4ZKq"
      },
      "execution_count": null,
      "outputs": []
    }
  ]
}