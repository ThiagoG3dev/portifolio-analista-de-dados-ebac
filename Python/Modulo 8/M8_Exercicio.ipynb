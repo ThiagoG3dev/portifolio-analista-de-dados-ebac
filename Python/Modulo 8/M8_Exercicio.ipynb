{
  "nbformat": 4,
  "nbformat_minor": 0,
  "metadata": {
    "colab": {
      "provenance": [],
      "toc_visible": true
    },
    "kernelspec": {
      "name": "python3",
      "display_name": "Python 3"
    }
  },
  "cells": [
    {
      "cell_type": "markdown",
      "metadata": {
        "id": "KJqp9AANOCtf"
      },
      "source": [
        "<img src=\"https://raw.githubusercontent.com/andre-marcos-perez/ebac-course-utils/main/media/logo/newebac_logo_black_half.png\" alt=\"ebac-logo\">\n",
        "\n",
        "---\n",
        "\n",
        "# **Módulo ** | Módulos e pacotes\n",
        "Caderno de **Exercícios**<br>\n",
        "Professor [André Perez](https://www.linkedin.com/in/andremarcosperez/)\n",
        "\n",
        "---"
      ]
    },
    {
      "cell_type": "markdown",
      "metadata": {
        "id": "d9jDtUbDOE1-"
      },
      "source": [
        "# **Tópicos**\n",
        "\n",
        "<ol type=\"1\">\n",
        "  <li>from / import / as;</li>\n",
        "  <li>Módulo;</li>\n",
        "  <li>Pacote;</li>\n",
        "  <li>Baixando pacotes.</li>\n",
        "</ol>"
      ]
    },
    {
      "cell_type": "markdown",
      "metadata": {
        "id": "SmoHgt-lwkpD"
      },
      "source": [
        "---"
      ]
    },
    {
      "cell_type": "markdown",
      "metadata": {
        "id": "GABI6OW8OfQ2"
      },
      "source": [
        "# **Exercícios**"
      ]
    },
    {
      "cell_type": "markdown",
      "metadata": {
        "id": "muD1vxozykSC"
      },
      "source": [
        "## 0\\. Preparação do ambiente"
      ]
    },
    {
      "cell_type": "markdown",
      "metadata": {
        "id": "ahrFfCuBxJKs"
      },
      "source": [
        "Neste exercício vamos utilizar a base de dados de ações da bolsa de valores dos EUA, a Dow Jones. Os dados estão disponíveis para *download* neste [link](https://archive.ics.uci.edu/ml/datasets/Dow+Jones+Index). Vamos utilizar o pacote `wget` para fazer o *download* dos dados."
      ]
    },
    {
      "cell_type": "markdown",
      "metadata": {
        "id": "AtPc2994meNR"
      },
      "source": [
        " - Instalando o pacote `wget` na versão 3.2."
      ]
    },
    {
      "cell_type": "code",
      "metadata": {
        "id": "DzM3--8Gk_mU",
        "colab": {
          "base_uri": "https://localhost:8080/"
        },
        "outputId": "b5b38c06-2151-477d-8c2b-c1d1238da546"
      },
      "source": [
        "!pip install wget==3.2"
      ],
      "execution_count": 1,
      "outputs": [
        {
          "output_type": "stream",
          "name": "stdout",
          "text": [
            "Collecting wget==3.2\n",
            "  Downloading wget-3.2.zip (10 kB)\n",
            "  Preparing metadata (setup.py) ... \u001b[?25l\u001b[?25hdone\n",
            "Building wheels for collected packages: wget\n",
            "  Building wheel for wget (setup.py) ... \u001b[?25l\u001b[?25hdone\n",
            "  Created wheel for wget: filename=wget-3.2-py3-none-any.whl size=9655 sha256=8f804330090cc0c5f38d957d17e3627e09db8e87aac6f9e7350554e450556b33\n",
            "  Stored in directory: /root/.cache/pip/wheels/8b/f1/7f/5c94f0a7a505ca1c81cd1d9208ae2064675d97582078e6c769\n",
            "Successfully built wget\n",
            "Installing collected packages: wget\n",
            "Successfully installed wget-3.2\n"
          ]
        }
      ]
    },
    {
      "cell_type": "markdown",
      "metadata": {
        "id": "tVc1aUTmmkIU"
      },
      "source": [
        " - Fazendo o download dos dados no arquivo compactado `dados.zip`."
      ]
    },
    {
      "cell_type": "code",
      "metadata": {
        "id": "SZWlsi2blOOt",
        "colab": {
          "base_uri": "https://localhost:8080/",
          "height": 35
        },
        "outputId": "e9c309c7-678b-4d9d-ac97-e41be65e643d"
      },
      "source": [
        "import wget\n",
        "\n",
        "wget.download(url='https://archive.ics.uci.edu/ml/machine-learning-databases/00312/dow_jones_index.zip', out='./dados.zip')"
      ],
      "execution_count": 2,
      "outputs": [
        {
          "output_type": "execute_result",
          "data": {
            "text/plain": [
              "'./dados.zip'"
            ],
            "application/vnd.google.colaboratory.intrinsic+json": {
              "type": "string"
            }
          },
          "metadata": {},
          "execution_count": 2
        }
      ]
    },
    {
      "cell_type": "markdown",
      "metadata": {
        "id": "339oiie2mvCP"
      },
      "source": [
        " - Descompactando os `dados` na pasta dados com o pacote nativo `zipfile`."
      ]
    },
    {
      "cell_type": "code",
      "metadata": {
        "id": "6tFPV081loK4"
      },
      "source": [
        "import zipfile\n",
        "\n",
        "with zipfile.ZipFile('./dados.zip', 'r') as fp:\n",
        "  fp.extractall('./dados')"
      ],
      "execution_count": 3,
      "outputs": []
    },
    {
      "cell_type": "markdown",
      "metadata": {
        "id": "KI9zQRT2xa7m"
      },
      "source": [
        "Verifique a pasta dados criada, ela deve conter dois arquivos:\n",
        "\n",
        " - **dow_jones_index.data**: um arquivo com os dados;\n",
        " - **dow_jones_index.names**: um arquivo com a descrição completa dos dados.\n",
        "\n",
        "É possível observar que o arquivo de dados é um arquivo separado por virgulas, o famoso `csv`. Vamos renomear o arquivo de dados para que ele tenha a extensão `csv` com o pacote nativo `os`."
      ]
    },
    {
      "cell_type": "markdown",
      "metadata": {
        "id": "5k7LLQU5n8aY"
      },
      "source": [
        "- Renomeando o arquivo com o pacote nativo `os`."
      ]
    },
    {
      "cell_type": "code",
      "metadata": {
        "id": "PyZ2zqwcn5CU"
      },
      "source": [
        "import os\n",
        "\n",
        "os.rename('./dados/dow_jones_index.data', './dados/dow_jones_index.csv')"
      ],
      "execution_count": 4,
      "outputs": []
    },
    {
      "cell_type": "markdown",
      "metadata": {
        "id": "2Zf74P1yoeYc"
      },
      "source": [
        "Pronto! Abra o arquivo e o Google Colab irá apresentar uma visualização bem legal dos dados."
      ]
    },
    {
      "cell_type": "markdown",
      "metadata": {
        "id": "zMN1Q3jdwoJm"
      },
      "source": [
        "---"
      ]
    },
    {
      "cell_type": "markdown",
      "metadata": {
        "id": "FwqgmwxakNh6"
      },
      "source": [
        "## 1\\. Pandas"
      ]
    },
    {
      "cell_type": "markdown",
      "metadata": {
        "id": "It_mfyHzkRJ8"
      },
      "source": [
        "Para processar os dados, vamos utilizar o pacote `pandas` na versão `1.1.5`. A documentação completa por ser encontrada neste [link](https://pandas.pydata.org/docs/)"
      ]
    },
    {
      "cell_type": "code",
      "metadata": {
        "id": "DF3DkjPjpn1X"
      },
      "source": [
        "!pip install pandas==1.1.5"
      ],
      "execution_count": null,
      "outputs": []
    },
    {
      "cell_type": "markdown",
      "metadata": {
        "id": "CqVcTZE-wyBt"
      },
      "source": [
        "Vamos importar o pacote com o apelido (alias) `pd`."
      ]
    },
    {
      "cell_type": "code",
      "metadata": {
        "id": "qjA_H6WapxK3"
      },
      "source": [
        "import pandas as pd"
      ],
      "execution_count": 5,
      "outputs": []
    },
    {
      "cell_type": "markdown",
      "metadata": {
        "id": "KFQ77on-w0Fo"
      },
      "source": [
        "Estamos prontos para ler o arquivo."
      ]
    },
    {
      "cell_type": "code",
      "metadata": {
        "id": "-1yL07iwqWk3"
      },
      "source": [
        "df = pd.read_csv('./dados/dow_jones_index.csv')"
      ],
      "execution_count": 6,
      "outputs": []
    },
    {
      "cell_type": "markdown",
      "metadata": {
        "id": "mnLvLSWCxGt_"
      },
      "source": [
        "O pandas trabalha com o conceito de dataframe, uma estrutura de dados com muitos métodos e atributos que aceleram o processamento de dados. Alguns exemplos:"
      ]
    },
    {
      "cell_type": "markdown",
      "metadata": {
        "id": "rf6pevg7xIuQ"
      },
      "source": [
        " - Visualizando as `n` primeiras linhas:"
      ]
    },
    {
      "cell_type": "code",
      "metadata": {
        "id": "fqF7AQvRqn69",
        "colab": {
          "base_uri": "https://localhost:8080/",
          "height": 379
        },
        "outputId": "19bc3c95-cd98-4066-8601-eeab4598830c"
      },
      "source": [
        "df.head(n=10)"
      ],
      "execution_count": 7,
      "outputs": [
        {
          "output_type": "execute_result",
          "data": {
            "text/plain": [
              "   quarter stock       date    open    high     low   close     volume  \\\n",
              "0        1    AA   1/7/2011  $15.82  $16.72  $15.78  $16.42  239655616   \n",
              "1        1    AA  1/14/2011  $16.71  $16.71  $15.64  $15.97  242963398   \n",
              "2        1    AA  1/21/2011  $16.19  $16.38  $15.60  $15.79  138428495   \n",
              "3        1    AA  1/28/2011  $15.87  $16.63  $15.82  $16.13  151379173   \n",
              "4        1    AA   2/4/2011  $16.18  $17.39  $16.18  $17.14  154387761   \n",
              "5        1    AA  2/11/2011  $17.33  $17.48  $16.97  $17.37  114691279   \n",
              "6        1    AA  2/18/2011  $17.39  $17.68  $17.28  $17.28   80023895   \n",
              "7        1    AA  2/25/2011  $16.98  $17.15  $15.96  $16.68  132981863   \n",
              "8        1    AA   3/4/2011  $16.81  $16.94  $16.13  $16.58  109493077   \n",
              "9        1    AA  3/11/2011  $16.58  $16.75  $15.42  $16.03  114332562   \n",
              "\n",
              "   percent_change_price  percent_change_volume_over_last_wk  \\\n",
              "0              3.792670                                 NaN   \n",
              "1             -4.428490                            1.380223   \n",
              "2             -2.470660                          -43.024959   \n",
              "3              1.638310                            9.355500   \n",
              "4              5.933250                            1.987452   \n",
              "5              0.230814                          -25.712195   \n",
              "6             -0.632547                          -30.226696   \n",
              "7             -1.766780                           66.177694   \n",
              "8             -1.368230                          -17.663150   \n",
              "9             -3.317250                            4.419900   \n",
              "\n",
              "   previous_weeks_volume next_weeks_open next_weeks_close  \\\n",
              "0                    NaN          $16.71           $15.97   \n",
              "1            239655616.0          $16.19           $15.79   \n",
              "2            242963398.0          $15.87           $16.13   \n",
              "3            138428495.0          $16.18           $17.14   \n",
              "4            151379173.0          $17.33           $17.37   \n",
              "5            154387761.0          $17.39           $17.28   \n",
              "6            114691279.0          $16.98           $16.68   \n",
              "7             80023895.0          $16.81           $16.58   \n",
              "8            132981863.0          $16.58           $16.03   \n",
              "9            109493077.0          $15.95           $16.11   \n",
              "\n",
              "   percent_change_next_weeks_price  days_to_next_dividend  \\\n",
              "0                        -4.428490                     26   \n",
              "1                        -2.470660                     19   \n",
              "2                         1.638310                     12   \n",
              "3                         5.933250                      5   \n",
              "4                         0.230814                     97   \n",
              "5                        -0.632547                     90   \n",
              "6                        -1.766780                     83   \n",
              "7                        -1.368230                     76   \n",
              "8                        -3.317250                     69   \n",
              "9                         1.003130                     62   \n",
              "\n",
              "   percent_return_next_dividend  \n",
              "0                      0.182704  \n",
              "1                      0.187852  \n",
              "2                      0.189994  \n",
              "3                      0.185989  \n",
              "4                      0.175029  \n",
              "5                      0.172712  \n",
              "6                      0.173611  \n",
              "7                      0.179856  \n",
              "8                      0.180941  \n",
              "9                      0.187149  "
            ],
            "text/html": [
              "\n",
              "  <div id=\"df-299bdfce-c074-45a2-b777-303207aed740\" class=\"colab-df-container\">\n",
              "    <div>\n",
              "<style scoped>\n",
              "    .dataframe tbody tr th:only-of-type {\n",
              "        vertical-align: middle;\n",
              "    }\n",
              "\n",
              "    .dataframe tbody tr th {\n",
              "        vertical-align: top;\n",
              "    }\n",
              "\n",
              "    .dataframe thead th {\n",
              "        text-align: right;\n",
              "    }\n",
              "</style>\n",
              "<table border=\"1\" class=\"dataframe\">\n",
              "  <thead>\n",
              "    <tr style=\"text-align: right;\">\n",
              "      <th></th>\n",
              "      <th>quarter</th>\n",
              "      <th>stock</th>\n",
              "      <th>date</th>\n",
              "      <th>open</th>\n",
              "      <th>high</th>\n",
              "      <th>low</th>\n",
              "      <th>close</th>\n",
              "      <th>volume</th>\n",
              "      <th>percent_change_price</th>\n",
              "      <th>percent_change_volume_over_last_wk</th>\n",
              "      <th>previous_weeks_volume</th>\n",
              "      <th>next_weeks_open</th>\n",
              "      <th>next_weeks_close</th>\n",
              "      <th>percent_change_next_weeks_price</th>\n",
              "      <th>days_to_next_dividend</th>\n",
              "      <th>percent_return_next_dividend</th>\n",
              "    </tr>\n",
              "  </thead>\n",
              "  <tbody>\n",
              "    <tr>\n",
              "      <th>0</th>\n",
              "      <td>1</td>\n",
              "      <td>AA</td>\n",
              "      <td>1/7/2011</td>\n",
              "      <td>$15.82</td>\n",
              "      <td>$16.72</td>\n",
              "      <td>$15.78</td>\n",
              "      <td>$16.42</td>\n",
              "      <td>239655616</td>\n",
              "      <td>3.792670</td>\n",
              "      <td>NaN</td>\n",
              "      <td>NaN</td>\n",
              "      <td>$16.71</td>\n",
              "      <td>$15.97</td>\n",
              "      <td>-4.428490</td>\n",
              "      <td>26</td>\n",
              "      <td>0.182704</td>\n",
              "    </tr>\n",
              "    <tr>\n",
              "      <th>1</th>\n",
              "      <td>1</td>\n",
              "      <td>AA</td>\n",
              "      <td>1/14/2011</td>\n",
              "      <td>$16.71</td>\n",
              "      <td>$16.71</td>\n",
              "      <td>$15.64</td>\n",
              "      <td>$15.97</td>\n",
              "      <td>242963398</td>\n",
              "      <td>-4.428490</td>\n",
              "      <td>1.380223</td>\n",
              "      <td>239655616.0</td>\n",
              "      <td>$16.19</td>\n",
              "      <td>$15.79</td>\n",
              "      <td>-2.470660</td>\n",
              "      <td>19</td>\n",
              "      <td>0.187852</td>\n",
              "    </tr>\n",
              "    <tr>\n",
              "      <th>2</th>\n",
              "      <td>1</td>\n",
              "      <td>AA</td>\n",
              "      <td>1/21/2011</td>\n",
              "      <td>$16.19</td>\n",
              "      <td>$16.38</td>\n",
              "      <td>$15.60</td>\n",
              "      <td>$15.79</td>\n",
              "      <td>138428495</td>\n",
              "      <td>-2.470660</td>\n",
              "      <td>-43.024959</td>\n",
              "      <td>242963398.0</td>\n",
              "      <td>$15.87</td>\n",
              "      <td>$16.13</td>\n",
              "      <td>1.638310</td>\n",
              "      <td>12</td>\n",
              "      <td>0.189994</td>\n",
              "    </tr>\n",
              "    <tr>\n",
              "      <th>3</th>\n",
              "      <td>1</td>\n",
              "      <td>AA</td>\n",
              "      <td>1/28/2011</td>\n",
              "      <td>$15.87</td>\n",
              "      <td>$16.63</td>\n",
              "      <td>$15.82</td>\n",
              "      <td>$16.13</td>\n",
              "      <td>151379173</td>\n",
              "      <td>1.638310</td>\n",
              "      <td>9.355500</td>\n",
              "      <td>138428495.0</td>\n",
              "      <td>$16.18</td>\n",
              "      <td>$17.14</td>\n",
              "      <td>5.933250</td>\n",
              "      <td>5</td>\n",
              "      <td>0.185989</td>\n",
              "    </tr>\n",
              "    <tr>\n",
              "      <th>4</th>\n",
              "      <td>1</td>\n",
              "      <td>AA</td>\n",
              "      <td>2/4/2011</td>\n",
              "      <td>$16.18</td>\n",
              "      <td>$17.39</td>\n",
              "      <td>$16.18</td>\n",
              "      <td>$17.14</td>\n",
              "      <td>154387761</td>\n",
              "      <td>5.933250</td>\n",
              "      <td>1.987452</td>\n",
              "      <td>151379173.0</td>\n",
              "      <td>$17.33</td>\n",
              "      <td>$17.37</td>\n",
              "      <td>0.230814</td>\n",
              "      <td>97</td>\n",
              "      <td>0.175029</td>\n",
              "    </tr>\n",
              "    <tr>\n",
              "      <th>5</th>\n",
              "      <td>1</td>\n",
              "      <td>AA</td>\n",
              "      <td>2/11/2011</td>\n",
              "      <td>$17.33</td>\n",
              "      <td>$17.48</td>\n",
              "      <td>$16.97</td>\n",
              "      <td>$17.37</td>\n",
              "      <td>114691279</td>\n",
              "      <td>0.230814</td>\n",
              "      <td>-25.712195</td>\n",
              "      <td>154387761.0</td>\n",
              "      <td>$17.39</td>\n",
              "      <td>$17.28</td>\n",
              "      <td>-0.632547</td>\n",
              "      <td>90</td>\n",
              "      <td>0.172712</td>\n",
              "    </tr>\n",
              "    <tr>\n",
              "      <th>6</th>\n",
              "      <td>1</td>\n",
              "      <td>AA</td>\n",
              "      <td>2/18/2011</td>\n",
              "      <td>$17.39</td>\n",
              "      <td>$17.68</td>\n",
              "      <td>$17.28</td>\n",
              "      <td>$17.28</td>\n",
              "      <td>80023895</td>\n",
              "      <td>-0.632547</td>\n",
              "      <td>-30.226696</td>\n",
              "      <td>114691279.0</td>\n",
              "      <td>$16.98</td>\n",
              "      <td>$16.68</td>\n",
              "      <td>-1.766780</td>\n",
              "      <td>83</td>\n",
              "      <td>0.173611</td>\n",
              "    </tr>\n",
              "    <tr>\n",
              "      <th>7</th>\n",
              "      <td>1</td>\n",
              "      <td>AA</td>\n",
              "      <td>2/25/2011</td>\n",
              "      <td>$16.98</td>\n",
              "      <td>$17.15</td>\n",
              "      <td>$15.96</td>\n",
              "      <td>$16.68</td>\n",
              "      <td>132981863</td>\n",
              "      <td>-1.766780</td>\n",
              "      <td>66.177694</td>\n",
              "      <td>80023895.0</td>\n",
              "      <td>$16.81</td>\n",
              "      <td>$16.58</td>\n",
              "      <td>-1.368230</td>\n",
              "      <td>76</td>\n",
              "      <td>0.179856</td>\n",
              "    </tr>\n",
              "    <tr>\n",
              "      <th>8</th>\n",
              "      <td>1</td>\n",
              "      <td>AA</td>\n",
              "      <td>3/4/2011</td>\n",
              "      <td>$16.81</td>\n",
              "      <td>$16.94</td>\n",
              "      <td>$16.13</td>\n",
              "      <td>$16.58</td>\n",
              "      <td>109493077</td>\n",
              "      <td>-1.368230</td>\n",
              "      <td>-17.663150</td>\n",
              "      <td>132981863.0</td>\n",
              "      <td>$16.58</td>\n",
              "      <td>$16.03</td>\n",
              "      <td>-3.317250</td>\n",
              "      <td>69</td>\n",
              "      <td>0.180941</td>\n",
              "    </tr>\n",
              "    <tr>\n",
              "      <th>9</th>\n",
              "      <td>1</td>\n",
              "      <td>AA</td>\n",
              "      <td>3/11/2011</td>\n",
              "      <td>$16.58</td>\n",
              "      <td>$16.75</td>\n",
              "      <td>$15.42</td>\n",
              "      <td>$16.03</td>\n",
              "      <td>114332562</td>\n",
              "      <td>-3.317250</td>\n",
              "      <td>4.419900</td>\n",
              "      <td>109493077.0</td>\n",
              "      <td>$15.95</td>\n",
              "      <td>$16.11</td>\n",
              "      <td>1.003130</td>\n",
              "      <td>62</td>\n",
              "      <td>0.187149</td>\n",
              "    </tr>\n",
              "  </tbody>\n",
              "</table>\n",
              "</div>\n",
              "    <div class=\"colab-df-buttons\">\n",
              "\n",
              "  <div class=\"colab-df-container\">\n",
              "    <button class=\"colab-df-convert\" onclick=\"convertToInteractive('df-299bdfce-c074-45a2-b777-303207aed740')\"\n",
              "            title=\"Convert this dataframe to an interactive table.\"\n",
              "            style=\"display:none;\">\n",
              "\n",
              "  <svg xmlns=\"http://www.w3.org/2000/svg\" height=\"24px\" viewBox=\"0 -960 960 960\">\n",
              "    <path d=\"M120-120v-720h720v720H120Zm60-500h600v-160H180v160Zm220 220h160v-160H400v160Zm0 220h160v-160H400v160ZM180-400h160v-160H180v160Zm440 0h160v-160H620v160ZM180-180h160v-160H180v160Zm440 0h160v-160H620v160Z\"/>\n",
              "  </svg>\n",
              "    </button>\n",
              "\n",
              "  <style>\n",
              "    .colab-df-container {\n",
              "      display:flex;\n",
              "      gap: 12px;\n",
              "    }\n",
              "\n",
              "    .colab-df-convert {\n",
              "      background-color: #E8F0FE;\n",
              "      border: none;\n",
              "      border-radius: 50%;\n",
              "      cursor: pointer;\n",
              "      display: none;\n",
              "      fill: #1967D2;\n",
              "      height: 32px;\n",
              "      padding: 0 0 0 0;\n",
              "      width: 32px;\n",
              "    }\n",
              "\n",
              "    .colab-df-convert:hover {\n",
              "      background-color: #E2EBFA;\n",
              "      box-shadow: 0px 1px 2px rgba(60, 64, 67, 0.3), 0px 1px 3px 1px rgba(60, 64, 67, 0.15);\n",
              "      fill: #174EA6;\n",
              "    }\n",
              "\n",
              "    .colab-df-buttons div {\n",
              "      margin-bottom: 4px;\n",
              "    }\n",
              "\n",
              "    [theme=dark] .colab-df-convert {\n",
              "      background-color: #3B4455;\n",
              "      fill: #D2E3FC;\n",
              "    }\n",
              "\n",
              "    [theme=dark] .colab-df-convert:hover {\n",
              "      background-color: #434B5C;\n",
              "      box-shadow: 0px 1px 3px 1px rgba(0, 0, 0, 0.15);\n",
              "      filter: drop-shadow(0px 1px 2px rgba(0, 0, 0, 0.3));\n",
              "      fill: #FFFFFF;\n",
              "    }\n",
              "  </style>\n",
              "\n",
              "    <script>\n",
              "      const buttonEl =\n",
              "        document.querySelector('#df-299bdfce-c074-45a2-b777-303207aed740 button.colab-df-convert');\n",
              "      buttonEl.style.display =\n",
              "        google.colab.kernel.accessAllowed ? 'block' : 'none';\n",
              "\n",
              "      async function convertToInteractive(key) {\n",
              "        const element = document.querySelector('#df-299bdfce-c074-45a2-b777-303207aed740');\n",
              "        const dataTable =\n",
              "          await google.colab.kernel.invokeFunction('convertToInteractive',\n",
              "                                                    [key], {});\n",
              "        if (!dataTable) return;\n",
              "\n",
              "        const docLinkHtml = 'Like what you see? Visit the ' +\n",
              "          '<a target=\"_blank\" href=https://colab.research.google.com/notebooks/data_table.ipynb>data table notebook</a>'\n",
              "          + ' to learn more about interactive tables.';\n",
              "        element.innerHTML = '';\n",
              "        dataTable['output_type'] = 'display_data';\n",
              "        await google.colab.output.renderOutput(dataTable, element);\n",
              "        const docLink = document.createElement('div');\n",
              "        docLink.innerHTML = docLinkHtml;\n",
              "        element.appendChild(docLink);\n",
              "      }\n",
              "    </script>\n",
              "  </div>\n",
              "\n",
              "\n",
              "<div id=\"df-e63a4373-e26d-4298-bf85-25e9100e815f\">\n",
              "  <button class=\"colab-df-quickchart\" onclick=\"quickchart('df-e63a4373-e26d-4298-bf85-25e9100e815f')\"\n",
              "            title=\"Suggest charts\"\n",
              "            style=\"display:none;\">\n",
              "\n",
              "<svg xmlns=\"http://www.w3.org/2000/svg\" height=\"24px\"viewBox=\"0 0 24 24\"\n",
              "     width=\"24px\">\n",
              "    <g>\n",
              "        <path d=\"M19 3H5c-1.1 0-2 .9-2 2v14c0 1.1.9 2 2 2h14c1.1 0 2-.9 2-2V5c0-1.1-.9-2-2-2zM9 17H7v-7h2v7zm4 0h-2V7h2v10zm4 0h-2v-4h2v4z\"/>\n",
              "    </g>\n",
              "</svg>\n",
              "  </button>\n",
              "\n",
              "<style>\n",
              "  .colab-df-quickchart {\n",
              "      --bg-color: #E8F0FE;\n",
              "      --fill-color: #1967D2;\n",
              "      --hover-bg-color: #E2EBFA;\n",
              "      --hover-fill-color: #174EA6;\n",
              "      --disabled-fill-color: #AAA;\n",
              "      --disabled-bg-color: #DDD;\n",
              "  }\n",
              "\n",
              "  [theme=dark] .colab-df-quickchart {\n",
              "      --bg-color: #3B4455;\n",
              "      --fill-color: #D2E3FC;\n",
              "      --hover-bg-color: #434B5C;\n",
              "      --hover-fill-color: #FFFFFF;\n",
              "      --disabled-bg-color: #3B4455;\n",
              "      --disabled-fill-color: #666;\n",
              "  }\n",
              "\n",
              "  .colab-df-quickchart {\n",
              "    background-color: var(--bg-color);\n",
              "    border: none;\n",
              "    border-radius: 50%;\n",
              "    cursor: pointer;\n",
              "    display: none;\n",
              "    fill: var(--fill-color);\n",
              "    height: 32px;\n",
              "    padding: 0;\n",
              "    width: 32px;\n",
              "  }\n",
              "\n",
              "  .colab-df-quickchart:hover {\n",
              "    background-color: var(--hover-bg-color);\n",
              "    box-shadow: 0 1px 2px rgba(60, 64, 67, 0.3), 0 1px 3px 1px rgba(60, 64, 67, 0.15);\n",
              "    fill: var(--button-hover-fill-color);\n",
              "  }\n",
              "\n",
              "  .colab-df-quickchart-complete:disabled,\n",
              "  .colab-df-quickchart-complete:disabled:hover {\n",
              "    background-color: var(--disabled-bg-color);\n",
              "    fill: var(--disabled-fill-color);\n",
              "    box-shadow: none;\n",
              "  }\n",
              "\n",
              "  .colab-df-spinner {\n",
              "    border: 2px solid var(--fill-color);\n",
              "    border-color: transparent;\n",
              "    border-bottom-color: var(--fill-color);\n",
              "    animation:\n",
              "      spin 1s steps(1) infinite;\n",
              "  }\n",
              "\n",
              "  @keyframes spin {\n",
              "    0% {\n",
              "      border-color: transparent;\n",
              "      border-bottom-color: var(--fill-color);\n",
              "      border-left-color: var(--fill-color);\n",
              "    }\n",
              "    20% {\n",
              "      border-color: transparent;\n",
              "      border-left-color: var(--fill-color);\n",
              "      border-top-color: var(--fill-color);\n",
              "    }\n",
              "    30% {\n",
              "      border-color: transparent;\n",
              "      border-left-color: var(--fill-color);\n",
              "      border-top-color: var(--fill-color);\n",
              "      border-right-color: var(--fill-color);\n",
              "    }\n",
              "    40% {\n",
              "      border-color: transparent;\n",
              "      border-right-color: var(--fill-color);\n",
              "      border-top-color: var(--fill-color);\n",
              "    }\n",
              "    60% {\n",
              "      border-color: transparent;\n",
              "      border-right-color: var(--fill-color);\n",
              "    }\n",
              "    80% {\n",
              "      border-color: transparent;\n",
              "      border-right-color: var(--fill-color);\n",
              "      border-bottom-color: var(--fill-color);\n",
              "    }\n",
              "    90% {\n",
              "      border-color: transparent;\n",
              "      border-bottom-color: var(--fill-color);\n",
              "    }\n",
              "  }\n",
              "</style>\n",
              "\n",
              "  <script>\n",
              "    async function quickchart(key) {\n",
              "      const quickchartButtonEl =\n",
              "        document.querySelector('#' + key + ' button');\n",
              "      quickchartButtonEl.disabled = true;  // To prevent multiple clicks.\n",
              "      quickchartButtonEl.classList.add('colab-df-spinner');\n",
              "      try {\n",
              "        const charts = await google.colab.kernel.invokeFunction(\n",
              "            'suggestCharts', [key], {});\n",
              "      } catch (error) {\n",
              "        console.error('Error during call to suggestCharts:', error);\n",
              "      }\n",
              "      quickchartButtonEl.classList.remove('colab-df-spinner');\n",
              "      quickchartButtonEl.classList.add('colab-df-quickchart-complete');\n",
              "    }\n",
              "    (() => {\n",
              "      let quickchartButtonEl =\n",
              "        document.querySelector('#df-e63a4373-e26d-4298-bf85-25e9100e815f button');\n",
              "      quickchartButtonEl.style.display =\n",
              "        google.colab.kernel.accessAllowed ? 'block' : 'none';\n",
              "    })();\n",
              "  </script>\n",
              "</div>\n",
              "\n",
              "    </div>\n",
              "  </div>\n"
            ]
          },
          "metadata": {},
          "execution_count": 7
        }
      ]
    },
    {
      "cell_type": "markdown",
      "metadata": {
        "id": "Jna7T1eqxRmH"
      },
      "source": [
        " - Visualizando o nome das colunas:"
      ]
    },
    {
      "cell_type": "code",
      "metadata": {
        "id": "bX_7C45pxU8Q",
        "colab": {
          "base_uri": "https://localhost:8080/"
        },
        "outputId": "d581fce8-16aa-48d4-f8e2-cca66c400f29"
      },
      "source": [
        "df.columns.to_list()"
      ],
      "execution_count": 8,
      "outputs": [
        {
          "output_type": "execute_result",
          "data": {
            "text/plain": [
              "['quarter',\n",
              " 'stock',\n",
              " 'date',\n",
              " 'open',\n",
              " 'high',\n",
              " 'low',\n",
              " 'close',\n",
              " 'volume',\n",
              " 'percent_change_price',\n",
              " 'percent_change_volume_over_last_wk',\n",
              " 'previous_weeks_volume',\n",
              " 'next_weeks_open',\n",
              " 'next_weeks_close',\n",
              " 'percent_change_next_weeks_price',\n",
              " 'days_to_next_dividend',\n",
              " 'percent_return_next_dividend']"
            ]
          },
          "metadata": {},
          "execution_count": 8
        }
      ]
    },
    {
      "cell_type": "markdown",
      "metadata": {
        "id": "sqLB9abQxbE-"
      },
      "source": [
        " - Verificando o número de linhas e colunas."
      ]
    },
    {
      "cell_type": "code",
      "metadata": {
        "id": "sBrOUuUVxe7A",
        "colab": {
          "base_uri": "https://localhost:8080/"
        },
        "outputId": "b6e6d649-b488-4688-cd8a-597f1592b24d"
      },
      "source": [
        "linhas, colunas = df.shape\n",
        "print(f'Número de linhas: {linhas}')\n",
        "print(f'Número de colunas: {colunas}')"
      ],
      "execution_count": 9,
      "outputs": [
        {
          "output_type": "stream",
          "name": "stdout",
          "text": [
            "Número de linhas: 750\n",
            "Número de colunas: 16\n"
          ]
        }
      ]
    },
    {
      "cell_type": "markdown",
      "metadata": {
        "id": "bSN4zYEKyC7L"
      },
      "source": [
        "Vamos selecionar os valores de abertura, fechamento, máximo e mínimo das ações do McDonalds, listado na Dow Jones como MCD:"
      ]
    },
    {
      "cell_type": "markdown",
      "metadata": {
        "id": "CyTuPJmgzbZd"
      },
      "source": [
        " - Selecionando as linha do dataframe original `df` em que a coluna `stock` é igual a `MCD`."
      ]
    },
    {
      "cell_type": "code",
      "metadata": {
        "id": "25XUDMPqqwgH"
      },
      "source": [
        "df_mcd = df[df['stock'] == 'MCD']"
      ],
      "execution_count": 18,
      "outputs": []
    },
    {
      "cell_type": "markdown",
      "metadata": {
        "id": "ga7Z_GA0zxzA"
      },
      "source": [
        " - Selecionando apenas as colunas de data e valores de ações."
      ]
    },
    {
      "cell_type": "code",
      "metadata": {
        "id": "95LDI4jCrMGI"
      },
      "source": [
        "df_mcd = df_mcd[['date', 'open', 'high', 'low', 'close']]"
      ],
      "execution_count": 19,
      "outputs": []
    },
    {
      "cell_type": "markdown",
      "metadata": {
        "id": "ApnHMNYOyQ8T"
      },
      "source": [
        "Excelente, o problema é que as colunas com os valores possuem o carater `$` e são do tipo texto (`object` no `pandas`)."
      ]
    },
    {
      "cell_type": "code",
      "metadata": {
        "id": "DDZZralSr0Zk",
        "colab": {
          "base_uri": "https://localhost:8080/",
          "height": 359
        },
        "outputId": "7d099d1d-3e7c-41e5-8d7c-e98428801402"
      },
      "source": [
        "df_mcd.head(n=10)"
      ],
      "execution_count": 20,
      "outputs": [
        {
          "output_type": "execute_result",
          "data": {
            "text/plain": [
              "          date    open    high     low   close\n",
              "216   1/7/2011  $77.10  $77.59  $73.59  $74.37\n",
              "217  1/14/2011  $74.25  $74.49  $72.46  $74.06\n",
              "218  1/21/2011  $74.65  $75.75  $74.31  $75.01\n",
              "219  1/28/2011  $74.25  $75.85  $73.05  $73.28\n",
              "220   2/4/2011  $73.80  $74.50  $73.08  $74.05\n",
              "221  2/11/2011  $74.13  $76.32  $73.30  $76.14\n",
              "222  2/18/2011  $76.07  $76.45  $75.70  $76.13\n",
              "223  2/25/2011  $75.95  $76.45  $74.42  $74.44\n",
              "224   3/4/2011  $74.51  $76.63  $73.64  $76.03\n",
              "225  3/11/2011  $76.38  $77.25  $74.97  $76.73"
            ],
            "text/html": [
              "\n",
              "  <div id=\"df-499147c4-1689-4683-a143-48141d1e1388\" class=\"colab-df-container\">\n",
              "    <div>\n",
              "<style scoped>\n",
              "    .dataframe tbody tr th:only-of-type {\n",
              "        vertical-align: middle;\n",
              "    }\n",
              "\n",
              "    .dataframe tbody tr th {\n",
              "        vertical-align: top;\n",
              "    }\n",
              "\n",
              "    .dataframe thead th {\n",
              "        text-align: right;\n",
              "    }\n",
              "</style>\n",
              "<table border=\"1\" class=\"dataframe\">\n",
              "  <thead>\n",
              "    <tr style=\"text-align: right;\">\n",
              "      <th></th>\n",
              "      <th>date</th>\n",
              "      <th>open</th>\n",
              "      <th>high</th>\n",
              "      <th>low</th>\n",
              "      <th>close</th>\n",
              "    </tr>\n",
              "  </thead>\n",
              "  <tbody>\n",
              "    <tr>\n",
              "      <th>216</th>\n",
              "      <td>1/7/2011</td>\n",
              "      <td>$77.10</td>\n",
              "      <td>$77.59</td>\n",
              "      <td>$73.59</td>\n",
              "      <td>$74.37</td>\n",
              "    </tr>\n",
              "    <tr>\n",
              "      <th>217</th>\n",
              "      <td>1/14/2011</td>\n",
              "      <td>$74.25</td>\n",
              "      <td>$74.49</td>\n",
              "      <td>$72.46</td>\n",
              "      <td>$74.06</td>\n",
              "    </tr>\n",
              "    <tr>\n",
              "      <th>218</th>\n",
              "      <td>1/21/2011</td>\n",
              "      <td>$74.65</td>\n",
              "      <td>$75.75</td>\n",
              "      <td>$74.31</td>\n",
              "      <td>$75.01</td>\n",
              "    </tr>\n",
              "    <tr>\n",
              "      <th>219</th>\n",
              "      <td>1/28/2011</td>\n",
              "      <td>$74.25</td>\n",
              "      <td>$75.85</td>\n",
              "      <td>$73.05</td>\n",
              "      <td>$73.28</td>\n",
              "    </tr>\n",
              "    <tr>\n",
              "      <th>220</th>\n",
              "      <td>2/4/2011</td>\n",
              "      <td>$73.80</td>\n",
              "      <td>$74.50</td>\n",
              "      <td>$73.08</td>\n",
              "      <td>$74.05</td>\n",
              "    </tr>\n",
              "    <tr>\n",
              "      <th>221</th>\n",
              "      <td>2/11/2011</td>\n",
              "      <td>$74.13</td>\n",
              "      <td>$76.32</td>\n",
              "      <td>$73.30</td>\n",
              "      <td>$76.14</td>\n",
              "    </tr>\n",
              "    <tr>\n",
              "      <th>222</th>\n",
              "      <td>2/18/2011</td>\n",
              "      <td>$76.07</td>\n",
              "      <td>$76.45</td>\n",
              "      <td>$75.70</td>\n",
              "      <td>$76.13</td>\n",
              "    </tr>\n",
              "    <tr>\n",
              "      <th>223</th>\n",
              "      <td>2/25/2011</td>\n",
              "      <td>$75.95</td>\n",
              "      <td>$76.45</td>\n",
              "      <td>$74.42</td>\n",
              "      <td>$74.44</td>\n",
              "    </tr>\n",
              "    <tr>\n",
              "      <th>224</th>\n",
              "      <td>3/4/2011</td>\n",
              "      <td>$74.51</td>\n",
              "      <td>$76.63</td>\n",
              "      <td>$73.64</td>\n",
              "      <td>$76.03</td>\n",
              "    </tr>\n",
              "    <tr>\n",
              "      <th>225</th>\n",
              "      <td>3/11/2011</td>\n",
              "      <td>$76.38</td>\n",
              "      <td>$77.25</td>\n",
              "      <td>$74.97</td>\n",
              "      <td>$76.73</td>\n",
              "    </tr>\n",
              "  </tbody>\n",
              "</table>\n",
              "</div>\n",
              "    <div class=\"colab-df-buttons\">\n",
              "\n",
              "  <div class=\"colab-df-container\">\n",
              "    <button class=\"colab-df-convert\" onclick=\"convertToInteractive('df-499147c4-1689-4683-a143-48141d1e1388')\"\n",
              "            title=\"Convert this dataframe to an interactive table.\"\n",
              "            style=\"display:none;\">\n",
              "\n",
              "  <svg xmlns=\"http://www.w3.org/2000/svg\" height=\"24px\" viewBox=\"0 -960 960 960\">\n",
              "    <path d=\"M120-120v-720h720v720H120Zm60-500h600v-160H180v160Zm220 220h160v-160H400v160Zm0 220h160v-160H400v160ZM180-400h160v-160H180v160Zm440 0h160v-160H620v160ZM180-180h160v-160H180v160Zm440 0h160v-160H620v160Z\"/>\n",
              "  </svg>\n",
              "    </button>\n",
              "\n",
              "  <style>\n",
              "    .colab-df-container {\n",
              "      display:flex;\n",
              "      gap: 12px;\n",
              "    }\n",
              "\n",
              "    .colab-df-convert {\n",
              "      background-color: #E8F0FE;\n",
              "      border: none;\n",
              "      border-radius: 50%;\n",
              "      cursor: pointer;\n",
              "      display: none;\n",
              "      fill: #1967D2;\n",
              "      height: 32px;\n",
              "      padding: 0 0 0 0;\n",
              "      width: 32px;\n",
              "    }\n",
              "\n",
              "    .colab-df-convert:hover {\n",
              "      background-color: #E2EBFA;\n",
              "      box-shadow: 0px 1px 2px rgba(60, 64, 67, 0.3), 0px 1px 3px 1px rgba(60, 64, 67, 0.15);\n",
              "      fill: #174EA6;\n",
              "    }\n",
              "\n",
              "    .colab-df-buttons div {\n",
              "      margin-bottom: 4px;\n",
              "    }\n",
              "\n",
              "    [theme=dark] .colab-df-convert {\n",
              "      background-color: #3B4455;\n",
              "      fill: #D2E3FC;\n",
              "    }\n",
              "\n",
              "    [theme=dark] .colab-df-convert:hover {\n",
              "      background-color: #434B5C;\n",
              "      box-shadow: 0px 1px 3px 1px rgba(0, 0, 0, 0.15);\n",
              "      filter: drop-shadow(0px 1px 2px rgba(0, 0, 0, 0.3));\n",
              "      fill: #FFFFFF;\n",
              "    }\n",
              "  </style>\n",
              "\n",
              "    <script>\n",
              "      const buttonEl =\n",
              "        document.querySelector('#df-499147c4-1689-4683-a143-48141d1e1388 button.colab-df-convert');\n",
              "      buttonEl.style.display =\n",
              "        google.colab.kernel.accessAllowed ? 'block' : 'none';\n",
              "\n",
              "      async function convertToInteractive(key) {\n",
              "        const element = document.querySelector('#df-499147c4-1689-4683-a143-48141d1e1388');\n",
              "        const dataTable =\n",
              "          await google.colab.kernel.invokeFunction('convertToInteractive',\n",
              "                                                    [key], {});\n",
              "        if (!dataTable) return;\n",
              "\n",
              "        const docLinkHtml = 'Like what you see? Visit the ' +\n",
              "          '<a target=\"_blank\" href=https://colab.research.google.com/notebooks/data_table.ipynb>data table notebook</a>'\n",
              "          + ' to learn more about interactive tables.';\n",
              "        element.innerHTML = '';\n",
              "        dataTable['output_type'] = 'display_data';\n",
              "        await google.colab.output.renderOutput(dataTable, element);\n",
              "        const docLink = document.createElement('div');\n",
              "        docLink.innerHTML = docLinkHtml;\n",
              "        element.appendChild(docLink);\n",
              "      }\n",
              "    </script>\n",
              "  </div>\n",
              "\n",
              "\n",
              "<div id=\"df-e00c50b4-8a4b-4dfd-8595-574dce302c57\">\n",
              "  <button class=\"colab-df-quickchart\" onclick=\"quickchart('df-e00c50b4-8a4b-4dfd-8595-574dce302c57')\"\n",
              "            title=\"Suggest charts\"\n",
              "            style=\"display:none;\">\n",
              "\n",
              "<svg xmlns=\"http://www.w3.org/2000/svg\" height=\"24px\"viewBox=\"0 0 24 24\"\n",
              "     width=\"24px\">\n",
              "    <g>\n",
              "        <path d=\"M19 3H5c-1.1 0-2 .9-2 2v14c0 1.1.9 2 2 2h14c1.1 0 2-.9 2-2V5c0-1.1-.9-2-2-2zM9 17H7v-7h2v7zm4 0h-2V7h2v10zm4 0h-2v-4h2v4z\"/>\n",
              "    </g>\n",
              "</svg>\n",
              "  </button>\n",
              "\n",
              "<style>\n",
              "  .colab-df-quickchart {\n",
              "      --bg-color: #E8F0FE;\n",
              "      --fill-color: #1967D2;\n",
              "      --hover-bg-color: #E2EBFA;\n",
              "      --hover-fill-color: #174EA6;\n",
              "      --disabled-fill-color: #AAA;\n",
              "      --disabled-bg-color: #DDD;\n",
              "  }\n",
              "\n",
              "  [theme=dark] .colab-df-quickchart {\n",
              "      --bg-color: #3B4455;\n",
              "      --fill-color: #D2E3FC;\n",
              "      --hover-bg-color: #434B5C;\n",
              "      --hover-fill-color: #FFFFFF;\n",
              "      --disabled-bg-color: #3B4455;\n",
              "      --disabled-fill-color: #666;\n",
              "  }\n",
              "\n",
              "  .colab-df-quickchart {\n",
              "    background-color: var(--bg-color);\n",
              "    border: none;\n",
              "    border-radius: 50%;\n",
              "    cursor: pointer;\n",
              "    display: none;\n",
              "    fill: var(--fill-color);\n",
              "    height: 32px;\n",
              "    padding: 0;\n",
              "    width: 32px;\n",
              "  }\n",
              "\n",
              "  .colab-df-quickchart:hover {\n",
              "    background-color: var(--hover-bg-color);\n",
              "    box-shadow: 0 1px 2px rgba(60, 64, 67, 0.3), 0 1px 3px 1px rgba(60, 64, 67, 0.15);\n",
              "    fill: var(--button-hover-fill-color);\n",
              "  }\n",
              "\n",
              "  .colab-df-quickchart-complete:disabled,\n",
              "  .colab-df-quickchart-complete:disabled:hover {\n",
              "    background-color: var(--disabled-bg-color);\n",
              "    fill: var(--disabled-fill-color);\n",
              "    box-shadow: none;\n",
              "  }\n",
              "\n",
              "  .colab-df-spinner {\n",
              "    border: 2px solid var(--fill-color);\n",
              "    border-color: transparent;\n",
              "    border-bottom-color: var(--fill-color);\n",
              "    animation:\n",
              "      spin 1s steps(1) infinite;\n",
              "  }\n",
              "\n",
              "  @keyframes spin {\n",
              "    0% {\n",
              "      border-color: transparent;\n",
              "      border-bottom-color: var(--fill-color);\n",
              "      border-left-color: var(--fill-color);\n",
              "    }\n",
              "    20% {\n",
              "      border-color: transparent;\n",
              "      border-left-color: var(--fill-color);\n",
              "      border-top-color: var(--fill-color);\n",
              "    }\n",
              "    30% {\n",
              "      border-color: transparent;\n",
              "      border-left-color: var(--fill-color);\n",
              "      border-top-color: var(--fill-color);\n",
              "      border-right-color: var(--fill-color);\n",
              "    }\n",
              "    40% {\n",
              "      border-color: transparent;\n",
              "      border-right-color: var(--fill-color);\n",
              "      border-top-color: var(--fill-color);\n",
              "    }\n",
              "    60% {\n",
              "      border-color: transparent;\n",
              "      border-right-color: var(--fill-color);\n",
              "    }\n",
              "    80% {\n",
              "      border-color: transparent;\n",
              "      border-right-color: var(--fill-color);\n",
              "      border-bottom-color: var(--fill-color);\n",
              "    }\n",
              "    90% {\n",
              "      border-color: transparent;\n",
              "      border-bottom-color: var(--fill-color);\n",
              "    }\n",
              "  }\n",
              "</style>\n",
              "\n",
              "  <script>\n",
              "    async function quickchart(key) {\n",
              "      const quickchartButtonEl =\n",
              "        document.querySelector('#' + key + ' button');\n",
              "      quickchartButtonEl.disabled = true;  // To prevent multiple clicks.\n",
              "      quickchartButtonEl.classList.add('colab-df-spinner');\n",
              "      try {\n",
              "        const charts = await google.colab.kernel.invokeFunction(\n",
              "            'suggestCharts', [key], {});\n",
              "      } catch (error) {\n",
              "        console.error('Error during call to suggestCharts:', error);\n",
              "      }\n",
              "      quickchartButtonEl.classList.remove('colab-df-spinner');\n",
              "      quickchartButtonEl.classList.add('colab-df-quickchart-complete');\n",
              "    }\n",
              "    (() => {\n",
              "      let quickchartButtonEl =\n",
              "        document.querySelector('#df-e00c50b4-8a4b-4dfd-8595-574dce302c57 button');\n",
              "      quickchartButtonEl.style.display =\n",
              "        google.colab.kernel.accessAllowed ? 'block' : 'none';\n",
              "    })();\n",
              "  </script>\n",
              "</div>\n",
              "\n",
              "    </div>\n",
              "  </div>\n"
            ]
          },
          "metadata": {},
          "execution_count": 20
        }
      ]
    },
    {
      "cell_type": "code",
      "metadata": {
        "id": "8cx7gP6TyjOu",
        "colab": {
          "base_uri": "https://localhost:8080/"
        },
        "outputId": "af7851f8-78d2-4543-b480-43e409eebe7e"
      },
      "source": [
        "df_mcd.dtypes"
      ],
      "execution_count": 21,
      "outputs": [
        {
          "output_type": "execute_result",
          "data": {
            "text/plain": [
              "date     object\n",
              "open     object\n",
              "high     object\n",
              "low      object\n",
              "close    object\n",
              "dtype: object"
            ]
          },
          "metadata": {},
          "execution_count": 21
        }
      ]
    },
    {
      "cell_type": "markdown",
      "metadata": {
        "id": "IsSYxtOOys72"
      },
      "source": [
        "Vamos limpar as colunas com o método `apply`, que permite a aplicação de uma função anônima (`lambda`) qualquer. A função `lambda` remove o caracter **$** e faz a conversão do tipo de `str` para `float`."
      ]
    },
    {
      "cell_type": "code",
      "metadata": {
        "id": "u3OGT0r_sFCJ"
      },
      "source": [
        "for col in ['open', 'high', 'low', 'close']:\n",
        "  df_mcd[col] = df_mcd[col].apply(lambda value: float(value.split(sep='$')[-1]))"
      ],
      "execution_count": 22,
      "outputs": []
    },
    {
      "cell_type": "markdown",
      "metadata": {
        "id": "4xEkH-RdzLUi"
      },
      "source": [
        "Verifique novamente os dados e seus tipos."
      ]
    },
    {
      "cell_type": "code",
      "metadata": {
        "id": "4w3-4q1gsv3Y",
        "colab": {
          "base_uri": "https://localhost:8080/",
          "height": 359
        },
        "outputId": "4da41af8-c105-4d7f-ec7b-46be7a0f830f"
      },
      "source": [
        "df_mcd.head(n=10)"
      ],
      "execution_count": 23,
      "outputs": [
        {
          "output_type": "execute_result",
          "data": {
            "text/plain": [
              "          date   open   high    low  close\n",
              "216   1/7/2011  77.10  77.59  73.59  74.37\n",
              "217  1/14/2011  74.25  74.49  72.46  74.06\n",
              "218  1/21/2011  74.65  75.75  74.31  75.01\n",
              "219  1/28/2011  74.25  75.85  73.05  73.28\n",
              "220   2/4/2011  73.80  74.50  73.08  74.05\n",
              "221  2/11/2011  74.13  76.32  73.30  76.14\n",
              "222  2/18/2011  76.07  76.45  75.70  76.13\n",
              "223  2/25/2011  75.95  76.45  74.42  74.44\n",
              "224   3/4/2011  74.51  76.63  73.64  76.03\n",
              "225  3/11/2011  76.38  77.25  74.97  76.73"
            ],
            "text/html": [
              "\n",
              "  <div id=\"df-134bf036-1615-4f86-a0d2-c83b620682c1\" class=\"colab-df-container\">\n",
              "    <div>\n",
              "<style scoped>\n",
              "    .dataframe tbody tr th:only-of-type {\n",
              "        vertical-align: middle;\n",
              "    }\n",
              "\n",
              "    .dataframe tbody tr th {\n",
              "        vertical-align: top;\n",
              "    }\n",
              "\n",
              "    .dataframe thead th {\n",
              "        text-align: right;\n",
              "    }\n",
              "</style>\n",
              "<table border=\"1\" class=\"dataframe\">\n",
              "  <thead>\n",
              "    <tr style=\"text-align: right;\">\n",
              "      <th></th>\n",
              "      <th>date</th>\n",
              "      <th>open</th>\n",
              "      <th>high</th>\n",
              "      <th>low</th>\n",
              "      <th>close</th>\n",
              "    </tr>\n",
              "  </thead>\n",
              "  <tbody>\n",
              "    <tr>\n",
              "      <th>216</th>\n",
              "      <td>1/7/2011</td>\n",
              "      <td>77.10</td>\n",
              "      <td>77.59</td>\n",
              "      <td>73.59</td>\n",
              "      <td>74.37</td>\n",
              "    </tr>\n",
              "    <tr>\n",
              "      <th>217</th>\n",
              "      <td>1/14/2011</td>\n",
              "      <td>74.25</td>\n",
              "      <td>74.49</td>\n",
              "      <td>72.46</td>\n",
              "      <td>74.06</td>\n",
              "    </tr>\n",
              "    <tr>\n",
              "      <th>218</th>\n",
              "      <td>1/21/2011</td>\n",
              "      <td>74.65</td>\n",
              "      <td>75.75</td>\n",
              "      <td>74.31</td>\n",
              "      <td>75.01</td>\n",
              "    </tr>\n",
              "    <tr>\n",
              "      <th>219</th>\n",
              "      <td>1/28/2011</td>\n",
              "      <td>74.25</td>\n",
              "      <td>75.85</td>\n",
              "      <td>73.05</td>\n",
              "      <td>73.28</td>\n",
              "    </tr>\n",
              "    <tr>\n",
              "      <th>220</th>\n",
              "      <td>2/4/2011</td>\n",
              "      <td>73.80</td>\n",
              "      <td>74.50</td>\n",
              "      <td>73.08</td>\n",
              "      <td>74.05</td>\n",
              "    </tr>\n",
              "    <tr>\n",
              "      <th>221</th>\n",
              "      <td>2/11/2011</td>\n",
              "      <td>74.13</td>\n",
              "      <td>76.32</td>\n",
              "      <td>73.30</td>\n",
              "      <td>76.14</td>\n",
              "    </tr>\n",
              "    <tr>\n",
              "      <th>222</th>\n",
              "      <td>2/18/2011</td>\n",
              "      <td>76.07</td>\n",
              "      <td>76.45</td>\n",
              "      <td>75.70</td>\n",
              "      <td>76.13</td>\n",
              "    </tr>\n",
              "    <tr>\n",
              "      <th>223</th>\n",
              "      <td>2/25/2011</td>\n",
              "      <td>75.95</td>\n",
              "      <td>76.45</td>\n",
              "      <td>74.42</td>\n",
              "      <td>74.44</td>\n",
              "    </tr>\n",
              "    <tr>\n",
              "      <th>224</th>\n",
              "      <td>3/4/2011</td>\n",
              "      <td>74.51</td>\n",
              "      <td>76.63</td>\n",
              "      <td>73.64</td>\n",
              "      <td>76.03</td>\n",
              "    </tr>\n",
              "    <tr>\n",
              "      <th>225</th>\n",
              "      <td>3/11/2011</td>\n",
              "      <td>76.38</td>\n",
              "      <td>77.25</td>\n",
              "      <td>74.97</td>\n",
              "      <td>76.73</td>\n",
              "    </tr>\n",
              "  </tbody>\n",
              "</table>\n",
              "</div>\n",
              "    <div class=\"colab-df-buttons\">\n",
              "\n",
              "  <div class=\"colab-df-container\">\n",
              "    <button class=\"colab-df-convert\" onclick=\"convertToInteractive('df-134bf036-1615-4f86-a0d2-c83b620682c1')\"\n",
              "            title=\"Convert this dataframe to an interactive table.\"\n",
              "            style=\"display:none;\">\n",
              "\n",
              "  <svg xmlns=\"http://www.w3.org/2000/svg\" height=\"24px\" viewBox=\"0 -960 960 960\">\n",
              "    <path d=\"M120-120v-720h720v720H120Zm60-500h600v-160H180v160Zm220 220h160v-160H400v160Zm0 220h160v-160H400v160ZM180-400h160v-160H180v160Zm440 0h160v-160H620v160ZM180-180h160v-160H180v160Zm440 0h160v-160H620v160Z\"/>\n",
              "  </svg>\n",
              "    </button>\n",
              "\n",
              "  <style>\n",
              "    .colab-df-container {\n",
              "      display:flex;\n",
              "      gap: 12px;\n",
              "    }\n",
              "\n",
              "    .colab-df-convert {\n",
              "      background-color: #E8F0FE;\n",
              "      border: none;\n",
              "      border-radius: 50%;\n",
              "      cursor: pointer;\n",
              "      display: none;\n",
              "      fill: #1967D2;\n",
              "      height: 32px;\n",
              "      padding: 0 0 0 0;\n",
              "      width: 32px;\n",
              "    }\n",
              "\n",
              "    .colab-df-convert:hover {\n",
              "      background-color: #E2EBFA;\n",
              "      box-shadow: 0px 1px 2px rgba(60, 64, 67, 0.3), 0px 1px 3px 1px rgba(60, 64, 67, 0.15);\n",
              "      fill: #174EA6;\n",
              "    }\n",
              "\n",
              "    .colab-df-buttons div {\n",
              "      margin-bottom: 4px;\n",
              "    }\n",
              "\n",
              "    [theme=dark] .colab-df-convert {\n",
              "      background-color: #3B4455;\n",
              "      fill: #D2E3FC;\n",
              "    }\n",
              "\n",
              "    [theme=dark] .colab-df-convert:hover {\n",
              "      background-color: #434B5C;\n",
              "      box-shadow: 0px 1px 3px 1px rgba(0, 0, 0, 0.15);\n",
              "      filter: drop-shadow(0px 1px 2px rgba(0, 0, 0, 0.3));\n",
              "      fill: #FFFFFF;\n",
              "    }\n",
              "  </style>\n",
              "\n",
              "    <script>\n",
              "      const buttonEl =\n",
              "        document.querySelector('#df-134bf036-1615-4f86-a0d2-c83b620682c1 button.colab-df-convert');\n",
              "      buttonEl.style.display =\n",
              "        google.colab.kernel.accessAllowed ? 'block' : 'none';\n",
              "\n",
              "      async function convertToInteractive(key) {\n",
              "        const element = document.querySelector('#df-134bf036-1615-4f86-a0d2-c83b620682c1');\n",
              "        const dataTable =\n",
              "          await google.colab.kernel.invokeFunction('convertToInteractive',\n",
              "                                                    [key], {});\n",
              "        if (!dataTable) return;\n",
              "\n",
              "        const docLinkHtml = 'Like what you see? Visit the ' +\n",
              "          '<a target=\"_blank\" href=https://colab.research.google.com/notebooks/data_table.ipynb>data table notebook</a>'\n",
              "          + ' to learn more about interactive tables.';\n",
              "        element.innerHTML = '';\n",
              "        dataTable['output_type'] = 'display_data';\n",
              "        await google.colab.output.renderOutput(dataTable, element);\n",
              "        const docLink = document.createElement('div');\n",
              "        docLink.innerHTML = docLinkHtml;\n",
              "        element.appendChild(docLink);\n",
              "      }\n",
              "    </script>\n",
              "  </div>\n",
              "\n",
              "\n",
              "<div id=\"df-cc39e368-c415-4041-b998-a0c1d3242389\">\n",
              "  <button class=\"colab-df-quickchart\" onclick=\"quickchart('df-cc39e368-c415-4041-b998-a0c1d3242389')\"\n",
              "            title=\"Suggest charts\"\n",
              "            style=\"display:none;\">\n",
              "\n",
              "<svg xmlns=\"http://www.w3.org/2000/svg\" height=\"24px\"viewBox=\"0 0 24 24\"\n",
              "     width=\"24px\">\n",
              "    <g>\n",
              "        <path d=\"M19 3H5c-1.1 0-2 .9-2 2v14c0 1.1.9 2 2 2h14c1.1 0 2-.9 2-2V5c0-1.1-.9-2-2-2zM9 17H7v-7h2v7zm4 0h-2V7h2v10zm4 0h-2v-4h2v4z\"/>\n",
              "    </g>\n",
              "</svg>\n",
              "  </button>\n",
              "\n",
              "<style>\n",
              "  .colab-df-quickchart {\n",
              "      --bg-color: #E8F0FE;\n",
              "      --fill-color: #1967D2;\n",
              "      --hover-bg-color: #E2EBFA;\n",
              "      --hover-fill-color: #174EA6;\n",
              "      --disabled-fill-color: #AAA;\n",
              "      --disabled-bg-color: #DDD;\n",
              "  }\n",
              "\n",
              "  [theme=dark] .colab-df-quickchart {\n",
              "      --bg-color: #3B4455;\n",
              "      --fill-color: #D2E3FC;\n",
              "      --hover-bg-color: #434B5C;\n",
              "      --hover-fill-color: #FFFFFF;\n",
              "      --disabled-bg-color: #3B4455;\n",
              "      --disabled-fill-color: #666;\n",
              "  }\n",
              "\n",
              "  .colab-df-quickchart {\n",
              "    background-color: var(--bg-color);\n",
              "    border: none;\n",
              "    border-radius: 50%;\n",
              "    cursor: pointer;\n",
              "    display: none;\n",
              "    fill: var(--fill-color);\n",
              "    height: 32px;\n",
              "    padding: 0;\n",
              "    width: 32px;\n",
              "  }\n",
              "\n",
              "  .colab-df-quickchart:hover {\n",
              "    background-color: var(--hover-bg-color);\n",
              "    box-shadow: 0 1px 2px rgba(60, 64, 67, 0.3), 0 1px 3px 1px rgba(60, 64, 67, 0.15);\n",
              "    fill: var(--button-hover-fill-color);\n",
              "  }\n",
              "\n",
              "  .colab-df-quickchart-complete:disabled,\n",
              "  .colab-df-quickchart-complete:disabled:hover {\n",
              "    background-color: var(--disabled-bg-color);\n",
              "    fill: var(--disabled-fill-color);\n",
              "    box-shadow: none;\n",
              "  }\n",
              "\n",
              "  .colab-df-spinner {\n",
              "    border: 2px solid var(--fill-color);\n",
              "    border-color: transparent;\n",
              "    border-bottom-color: var(--fill-color);\n",
              "    animation:\n",
              "      spin 1s steps(1) infinite;\n",
              "  }\n",
              "\n",
              "  @keyframes spin {\n",
              "    0% {\n",
              "      border-color: transparent;\n",
              "      border-bottom-color: var(--fill-color);\n",
              "      border-left-color: var(--fill-color);\n",
              "    }\n",
              "    20% {\n",
              "      border-color: transparent;\n",
              "      border-left-color: var(--fill-color);\n",
              "      border-top-color: var(--fill-color);\n",
              "    }\n",
              "    30% {\n",
              "      border-color: transparent;\n",
              "      border-left-color: var(--fill-color);\n",
              "      border-top-color: var(--fill-color);\n",
              "      border-right-color: var(--fill-color);\n",
              "    }\n",
              "    40% {\n",
              "      border-color: transparent;\n",
              "      border-right-color: var(--fill-color);\n",
              "      border-top-color: var(--fill-color);\n",
              "    }\n",
              "    60% {\n",
              "      border-color: transparent;\n",
              "      border-right-color: var(--fill-color);\n",
              "    }\n",
              "    80% {\n",
              "      border-color: transparent;\n",
              "      border-right-color: var(--fill-color);\n",
              "      border-bottom-color: var(--fill-color);\n",
              "    }\n",
              "    90% {\n",
              "      border-color: transparent;\n",
              "      border-bottom-color: var(--fill-color);\n",
              "    }\n",
              "  }\n",
              "</style>\n",
              "\n",
              "  <script>\n",
              "    async function quickchart(key) {\n",
              "      const quickchartButtonEl =\n",
              "        document.querySelector('#' + key + ' button');\n",
              "      quickchartButtonEl.disabled = true;  // To prevent multiple clicks.\n",
              "      quickchartButtonEl.classList.add('colab-df-spinner');\n",
              "      try {\n",
              "        const charts = await google.colab.kernel.invokeFunction(\n",
              "            'suggestCharts', [key], {});\n",
              "      } catch (error) {\n",
              "        console.error('Error during call to suggestCharts:', error);\n",
              "      }\n",
              "      quickchartButtonEl.classList.remove('colab-df-spinner');\n",
              "      quickchartButtonEl.classList.add('colab-df-quickchart-complete');\n",
              "    }\n",
              "    (() => {\n",
              "      let quickchartButtonEl =\n",
              "        document.querySelector('#df-cc39e368-c415-4041-b998-a0c1d3242389 button');\n",
              "      quickchartButtonEl.style.display =\n",
              "        google.colab.kernel.accessAllowed ? 'block' : 'none';\n",
              "    })();\n",
              "  </script>\n",
              "</div>\n",
              "\n",
              "    </div>\n",
              "  </div>\n"
            ]
          },
          "metadata": {},
          "execution_count": 23
        }
      ]
    },
    {
      "cell_type": "code",
      "metadata": {
        "id": "FDZyy9SVzPoK",
        "colab": {
          "base_uri": "https://localhost:8080/"
        },
        "outputId": "449e7e22-0092-4d80-b027-e6b179077853"
      },
      "source": [
        "df_mcd.dtypes"
      ],
      "execution_count": 24,
      "outputs": [
        {
          "output_type": "execute_result",
          "data": {
            "text/plain": [
              "date      object\n",
              "open     float64\n",
              "high     float64\n",
              "low      float64\n",
              "close    float64\n",
              "dtype: object"
            ]
          },
          "metadata": {},
          "execution_count": 24
        }
      ]
    },
    {
      "cell_type": "markdown",
      "metadata": {
        "id": "lIzrYVGWkRJ9"
      },
      "source": [
        "Excelente, agora podemos explorar os dados visualmente."
      ]
    },
    {
      "cell_type": "markdown",
      "metadata": {
        "id": "_-TI78q1yuQa"
      },
      "source": [
        "**Agora é a sua vez!** Conduza o mesmo processo para extrair e tratar os dados da empresa Coca-Cola (`stock` column igual a `KO`)."
      ]
    },
    {
      "cell_type": "markdown",
      "metadata": {
        "id": "NUd49lN4-Wyv"
      },
      "source": [
        " - Selecionando as linha do dataframe original `df` em que a coluna `stock` é igual a `KO`."
      ]
    },
    {
      "cell_type": "code",
      "metadata": {
        "id": "fGbOS3kNzNNF"
      },
      "source": [
        "# extração e tratamento dos dados da empresa Coca-Cola.\n",
        "df_KO = df[df['stock'] == 'KO']"
      ],
      "execution_count": 25,
      "outputs": []
    },
    {
      "cell_type": "markdown",
      "metadata": {
        "id": "7fRSH8d4-IcX"
      },
      "source": [
        "Vamos selecionar os valores de abertura, fechamento, máximo e mínimo das ações da empresa Coca-Cola, listado na Dow Jones como KO:"
      ]
    },
    {
      "cell_type": "markdown",
      "metadata": {
        "id": "rXOSpT2A-dyR"
      },
      "source": [
        " - Selecionando apenas as colunas de data e valores de ações."
      ]
    },
    {
      "cell_type": "code",
      "source": [
        "df_KO = df_KO[['date', 'open', 'high', 'low', 'close']]"
      ],
      "metadata": {
        "id": "H8BPfG8t-eZu"
      },
      "execution_count": 26,
      "outputs": []
    },
    {
      "cell_type": "markdown",
      "metadata": {
        "id": "6GzON3XR-ohH"
      },
      "source": [
        "Excelente, o problema é que as colunas com os valores possuem o carater `$` e são do tipo texto (`object` no `pandas`)."
      ]
    },
    {
      "cell_type": "code",
      "metadata": {
        "id": "N-rvXLbD-ven",
        "colab": {
          "base_uri": "https://localhost:8080/",
          "height": 359
        },
        "outputId": "82a5c973-c1f0-45d4-c916-00494132da9e"
      },
      "source": [
        "# Visualize os dados do dataframe\n",
        "df_KO.head(n=10)"
      ],
      "execution_count": 28,
      "outputs": [
        {
          "output_type": "execute_result",
          "data": {
            "text/plain": [
              "          date    open    high     low   close\n",
              "204   1/7/2011  $65.88  $65.88  $62.56  $62.92\n",
              "205  1/14/2011  $62.70  $63.86  $62.56  $63.13\n",
              "206  1/21/2011  $63.21  $63.92  $62.72  $62.77\n",
              "207  1/28/2011  $62.87  $63.31  $62.14  $62.21\n",
              "208   2/4/2011  $62.32  $63.48  $61.89  $62.56\n",
              "209  2/11/2011  $62.67  $64.75  $62.32  $63.57\n",
              "210  2/18/2011  $63.67  $64.72  $62.55  $64.55\n",
              "211  2/25/2011  $63.36  $64.40  $63.33  $64.31\n",
              "212   3/4/2011  $64.17  $65.87  $63.86  $65.21\n",
              "213  3/11/2011  $65.32  $65.84  $64.47  $64.81"
            ],
            "text/html": [
              "\n",
              "  <div id=\"df-6d3669f4-a22f-4d2f-b90e-ada775be4e0d\" class=\"colab-df-container\">\n",
              "    <div>\n",
              "<style scoped>\n",
              "    .dataframe tbody tr th:only-of-type {\n",
              "        vertical-align: middle;\n",
              "    }\n",
              "\n",
              "    .dataframe tbody tr th {\n",
              "        vertical-align: top;\n",
              "    }\n",
              "\n",
              "    .dataframe thead th {\n",
              "        text-align: right;\n",
              "    }\n",
              "</style>\n",
              "<table border=\"1\" class=\"dataframe\">\n",
              "  <thead>\n",
              "    <tr style=\"text-align: right;\">\n",
              "      <th></th>\n",
              "      <th>date</th>\n",
              "      <th>open</th>\n",
              "      <th>high</th>\n",
              "      <th>low</th>\n",
              "      <th>close</th>\n",
              "    </tr>\n",
              "  </thead>\n",
              "  <tbody>\n",
              "    <tr>\n",
              "      <th>204</th>\n",
              "      <td>1/7/2011</td>\n",
              "      <td>$65.88</td>\n",
              "      <td>$65.88</td>\n",
              "      <td>$62.56</td>\n",
              "      <td>$62.92</td>\n",
              "    </tr>\n",
              "    <tr>\n",
              "      <th>205</th>\n",
              "      <td>1/14/2011</td>\n",
              "      <td>$62.70</td>\n",
              "      <td>$63.86</td>\n",
              "      <td>$62.56</td>\n",
              "      <td>$63.13</td>\n",
              "    </tr>\n",
              "    <tr>\n",
              "      <th>206</th>\n",
              "      <td>1/21/2011</td>\n",
              "      <td>$63.21</td>\n",
              "      <td>$63.92</td>\n",
              "      <td>$62.72</td>\n",
              "      <td>$62.77</td>\n",
              "    </tr>\n",
              "    <tr>\n",
              "      <th>207</th>\n",
              "      <td>1/28/2011</td>\n",
              "      <td>$62.87</td>\n",
              "      <td>$63.31</td>\n",
              "      <td>$62.14</td>\n",
              "      <td>$62.21</td>\n",
              "    </tr>\n",
              "    <tr>\n",
              "      <th>208</th>\n",
              "      <td>2/4/2011</td>\n",
              "      <td>$62.32</td>\n",
              "      <td>$63.48</td>\n",
              "      <td>$61.89</td>\n",
              "      <td>$62.56</td>\n",
              "    </tr>\n",
              "    <tr>\n",
              "      <th>209</th>\n",
              "      <td>2/11/2011</td>\n",
              "      <td>$62.67</td>\n",
              "      <td>$64.75</td>\n",
              "      <td>$62.32</td>\n",
              "      <td>$63.57</td>\n",
              "    </tr>\n",
              "    <tr>\n",
              "      <th>210</th>\n",
              "      <td>2/18/2011</td>\n",
              "      <td>$63.67</td>\n",
              "      <td>$64.72</td>\n",
              "      <td>$62.55</td>\n",
              "      <td>$64.55</td>\n",
              "    </tr>\n",
              "    <tr>\n",
              "      <th>211</th>\n",
              "      <td>2/25/2011</td>\n",
              "      <td>$63.36</td>\n",
              "      <td>$64.40</td>\n",
              "      <td>$63.33</td>\n",
              "      <td>$64.31</td>\n",
              "    </tr>\n",
              "    <tr>\n",
              "      <th>212</th>\n",
              "      <td>3/4/2011</td>\n",
              "      <td>$64.17</td>\n",
              "      <td>$65.87</td>\n",
              "      <td>$63.86</td>\n",
              "      <td>$65.21</td>\n",
              "    </tr>\n",
              "    <tr>\n",
              "      <th>213</th>\n",
              "      <td>3/11/2011</td>\n",
              "      <td>$65.32</td>\n",
              "      <td>$65.84</td>\n",
              "      <td>$64.47</td>\n",
              "      <td>$64.81</td>\n",
              "    </tr>\n",
              "  </tbody>\n",
              "</table>\n",
              "</div>\n",
              "    <div class=\"colab-df-buttons\">\n",
              "\n",
              "  <div class=\"colab-df-container\">\n",
              "    <button class=\"colab-df-convert\" onclick=\"convertToInteractive('df-6d3669f4-a22f-4d2f-b90e-ada775be4e0d')\"\n",
              "            title=\"Convert this dataframe to an interactive table.\"\n",
              "            style=\"display:none;\">\n",
              "\n",
              "  <svg xmlns=\"http://www.w3.org/2000/svg\" height=\"24px\" viewBox=\"0 -960 960 960\">\n",
              "    <path d=\"M120-120v-720h720v720H120Zm60-500h600v-160H180v160Zm220 220h160v-160H400v160Zm0 220h160v-160H400v160ZM180-400h160v-160H180v160Zm440 0h160v-160H620v160ZM180-180h160v-160H180v160Zm440 0h160v-160H620v160Z\"/>\n",
              "  </svg>\n",
              "    </button>\n",
              "\n",
              "  <style>\n",
              "    .colab-df-container {\n",
              "      display:flex;\n",
              "      gap: 12px;\n",
              "    }\n",
              "\n",
              "    .colab-df-convert {\n",
              "      background-color: #E8F0FE;\n",
              "      border: none;\n",
              "      border-radius: 50%;\n",
              "      cursor: pointer;\n",
              "      display: none;\n",
              "      fill: #1967D2;\n",
              "      height: 32px;\n",
              "      padding: 0 0 0 0;\n",
              "      width: 32px;\n",
              "    }\n",
              "\n",
              "    .colab-df-convert:hover {\n",
              "      background-color: #E2EBFA;\n",
              "      box-shadow: 0px 1px 2px rgba(60, 64, 67, 0.3), 0px 1px 3px 1px rgba(60, 64, 67, 0.15);\n",
              "      fill: #174EA6;\n",
              "    }\n",
              "\n",
              "    .colab-df-buttons div {\n",
              "      margin-bottom: 4px;\n",
              "    }\n",
              "\n",
              "    [theme=dark] .colab-df-convert {\n",
              "      background-color: #3B4455;\n",
              "      fill: #D2E3FC;\n",
              "    }\n",
              "\n",
              "    [theme=dark] .colab-df-convert:hover {\n",
              "      background-color: #434B5C;\n",
              "      box-shadow: 0px 1px 3px 1px rgba(0, 0, 0, 0.15);\n",
              "      filter: drop-shadow(0px 1px 2px rgba(0, 0, 0, 0.3));\n",
              "      fill: #FFFFFF;\n",
              "    }\n",
              "  </style>\n",
              "\n",
              "    <script>\n",
              "      const buttonEl =\n",
              "        document.querySelector('#df-6d3669f4-a22f-4d2f-b90e-ada775be4e0d button.colab-df-convert');\n",
              "      buttonEl.style.display =\n",
              "        google.colab.kernel.accessAllowed ? 'block' : 'none';\n",
              "\n",
              "      async function convertToInteractive(key) {\n",
              "        const element = document.querySelector('#df-6d3669f4-a22f-4d2f-b90e-ada775be4e0d');\n",
              "        const dataTable =\n",
              "          await google.colab.kernel.invokeFunction('convertToInteractive',\n",
              "                                                    [key], {});\n",
              "        if (!dataTable) return;\n",
              "\n",
              "        const docLinkHtml = 'Like what you see? Visit the ' +\n",
              "          '<a target=\"_blank\" href=https://colab.research.google.com/notebooks/data_table.ipynb>data table notebook</a>'\n",
              "          + ' to learn more about interactive tables.';\n",
              "        element.innerHTML = '';\n",
              "        dataTable['output_type'] = 'display_data';\n",
              "        await google.colab.output.renderOutput(dataTable, element);\n",
              "        const docLink = document.createElement('div');\n",
              "        docLink.innerHTML = docLinkHtml;\n",
              "        element.appendChild(docLink);\n",
              "      }\n",
              "    </script>\n",
              "  </div>\n",
              "\n",
              "\n",
              "<div id=\"df-2c17c2f3-eee3-46ac-bc05-47e404620b5b\">\n",
              "  <button class=\"colab-df-quickchart\" onclick=\"quickchart('df-2c17c2f3-eee3-46ac-bc05-47e404620b5b')\"\n",
              "            title=\"Suggest charts\"\n",
              "            style=\"display:none;\">\n",
              "\n",
              "<svg xmlns=\"http://www.w3.org/2000/svg\" height=\"24px\"viewBox=\"0 0 24 24\"\n",
              "     width=\"24px\">\n",
              "    <g>\n",
              "        <path d=\"M19 3H5c-1.1 0-2 .9-2 2v14c0 1.1.9 2 2 2h14c1.1 0 2-.9 2-2V5c0-1.1-.9-2-2-2zM9 17H7v-7h2v7zm4 0h-2V7h2v10zm4 0h-2v-4h2v4z\"/>\n",
              "    </g>\n",
              "</svg>\n",
              "  </button>\n",
              "\n",
              "<style>\n",
              "  .colab-df-quickchart {\n",
              "      --bg-color: #E8F0FE;\n",
              "      --fill-color: #1967D2;\n",
              "      --hover-bg-color: #E2EBFA;\n",
              "      --hover-fill-color: #174EA6;\n",
              "      --disabled-fill-color: #AAA;\n",
              "      --disabled-bg-color: #DDD;\n",
              "  }\n",
              "\n",
              "  [theme=dark] .colab-df-quickchart {\n",
              "      --bg-color: #3B4455;\n",
              "      --fill-color: #D2E3FC;\n",
              "      --hover-bg-color: #434B5C;\n",
              "      --hover-fill-color: #FFFFFF;\n",
              "      --disabled-bg-color: #3B4455;\n",
              "      --disabled-fill-color: #666;\n",
              "  }\n",
              "\n",
              "  .colab-df-quickchart {\n",
              "    background-color: var(--bg-color);\n",
              "    border: none;\n",
              "    border-radius: 50%;\n",
              "    cursor: pointer;\n",
              "    display: none;\n",
              "    fill: var(--fill-color);\n",
              "    height: 32px;\n",
              "    padding: 0;\n",
              "    width: 32px;\n",
              "  }\n",
              "\n",
              "  .colab-df-quickchart:hover {\n",
              "    background-color: var(--hover-bg-color);\n",
              "    box-shadow: 0 1px 2px rgba(60, 64, 67, 0.3), 0 1px 3px 1px rgba(60, 64, 67, 0.15);\n",
              "    fill: var(--button-hover-fill-color);\n",
              "  }\n",
              "\n",
              "  .colab-df-quickchart-complete:disabled,\n",
              "  .colab-df-quickchart-complete:disabled:hover {\n",
              "    background-color: var(--disabled-bg-color);\n",
              "    fill: var(--disabled-fill-color);\n",
              "    box-shadow: none;\n",
              "  }\n",
              "\n",
              "  .colab-df-spinner {\n",
              "    border: 2px solid var(--fill-color);\n",
              "    border-color: transparent;\n",
              "    border-bottom-color: var(--fill-color);\n",
              "    animation:\n",
              "      spin 1s steps(1) infinite;\n",
              "  }\n",
              "\n",
              "  @keyframes spin {\n",
              "    0% {\n",
              "      border-color: transparent;\n",
              "      border-bottom-color: var(--fill-color);\n",
              "      border-left-color: var(--fill-color);\n",
              "    }\n",
              "    20% {\n",
              "      border-color: transparent;\n",
              "      border-left-color: var(--fill-color);\n",
              "      border-top-color: var(--fill-color);\n",
              "    }\n",
              "    30% {\n",
              "      border-color: transparent;\n",
              "      border-left-color: var(--fill-color);\n",
              "      border-top-color: var(--fill-color);\n",
              "      border-right-color: var(--fill-color);\n",
              "    }\n",
              "    40% {\n",
              "      border-color: transparent;\n",
              "      border-right-color: var(--fill-color);\n",
              "      border-top-color: var(--fill-color);\n",
              "    }\n",
              "    60% {\n",
              "      border-color: transparent;\n",
              "      border-right-color: var(--fill-color);\n",
              "    }\n",
              "    80% {\n",
              "      border-color: transparent;\n",
              "      border-right-color: var(--fill-color);\n",
              "      border-bottom-color: var(--fill-color);\n",
              "    }\n",
              "    90% {\n",
              "      border-color: transparent;\n",
              "      border-bottom-color: var(--fill-color);\n",
              "    }\n",
              "  }\n",
              "</style>\n",
              "\n",
              "  <script>\n",
              "    async function quickchart(key) {\n",
              "      const quickchartButtonEl =\n",
              "        document.querySelector('#' + key + ' button');\n",
              "      quickchartButtonEl.disabled = true;  // To prevent multiple clicks.\n",
              "      quickchartButtonEl.classList.add('colab-df-spinner');\n",
              "      try {\n",
              "        const charts = await google.colab.kernel.invokeFunction(\n",
              "            'suggestCharts', [key], {});\n",
              "      } catch (error) {\n",
              "        console.error('Error during call to suggestCharts:', error);\n",
              "      }\n",
              "      quickchartButtonEl.classList.remove('colab-df-spinner');\n",
              "      quickchartButtonEl.classList.add('colab-df-quickchart-complete');\n",
              "    }\n",
              "    (() => {\n",
              "      let quickchartButtonEl =\n",
              "        document.querySelector('#df-2c17c2f3-eee3-46ac-bc05-47e404620b5b button');\n",
              "      quickchartButtonEl.style.display =\n",
              "        google.colab.kernel.accessAllowed ? 'block' : 'none';\n",
              "    })();\n",
              "  </script>\n",
              "</div>\n",
              "\n",
              "    </div>\n",
              "  </div>\n"
            ]
          },
          "metadata": {},
          "execution_count": 28
        }
      ]
    },
    {
      "cell_type": "code",
      "source": [
        "# Verifique o tipo dos dados\n",
        "df_KO.dtypes"
      ],
      "metadata": {
        "id": "R-ElTN_P-zOZ",
        "colab": {
          "base_uri": "https://localhost:8080/"
        },
        "outputId": "4c446852-e6dc-4ca1-edd7-acb9458fa43b"
      },
      "execution_count": 29,
      "outputs": [
        {
          "output_type": "execute_result",
          "data": {
            "text/plain": [
              "date     object\n",
              "open     object\n",
              "high     object\n",
              "low      object\n",
              "close    object\n",
              "dtype: object"
            ]
          },
          "metadata": {},
          "execution_count": 29
        }
      ]
    },
    {
      "cell_type": "markdown",
      "metadata": {
        "id": "92hVLZwJ-19w"
      },
      "source": [
        "Vamos limpar as colunas com o método `apply`, que permite a aplicação de uma função anônima (`lambda`) qualquer. A função `lambda` remove o caracter **$** e faz a conversão do tipo de `str` para `float`."
      ]
    },
    {
      "cell_type": "code",
      "source": [
        "for col in ['open', 'high', 'low', 'close']:\n",
        "  df_KO[col] = df_KO[col].apply(lambda value: float(value.split(sep='$')[-1]))"
      ],
      "metadata": {
        "id": "bmSrE0Bx-5-U"
      },
      "execution_count": 30,
      "outputs": []
    },
    {
      "cell_type": "markdown",
      "metadata": {
        "id": "X5jYir-f_Axf"
      },
      "source": [
        "Verifique novamente os dados e seus tipos."
      ]
    },
    {
      "cell_type": "code",
      "source": [
        "# Visualize novamente os dados do dataframe\n",
        "df_KO.head(n=10)"
      ],
      "metadata": {
        "id": "8xyny0qy_BU0",
        "colab": {
          "base_uri": "https://localhost:8080/",
          "height": 359
        },
        "outputId": "91c72d96-21e1-4a2f-f5af-2f3131b41435"
      },
      "execution_count": 31,
      "outputs": [
        {
          "output_type": "execute_result",
          "data": {
            "text/plain": [
              "          date   open   high    low  close\n",
              "204   1/7/2011  65.88  65.88  62.56  62.92\n",
              "205  1/14/2011  62.70  63.86  62.56  63.13\n",
              "206  1/21/2011  63.21  63.92  62.72  62.77\n",
              "207  1/28/2011  62.87  63.31  62.14  62.21\n",
              "208   2/4/2011  62.32  63.48  61.89  62.56\n",
              "209  2/11/2011  62.67  64.75  62.32  63.57\n",
              "210  2/18/2011  63.67  64.72  62.55  64.55\n",
              "211  2/25/2011  63.36  64.40  63.33  64.31\n",
              "212   3/4/2011  64.17  65.87  63.86  65.21\n",
              "213  3/11/2011  65.32  65.84  64.47  64.81"
            ],
            "text/html": [
              "\n",
              "  <div id=\"df-e7125a66-031b-45a2-9fab-4e20a53f7edb\" class=\"colab-df-container\">\n",
              "    <div>\n",
              "<style scoped>\n",
              "    .dataframe tbody tr th:only-of-type {\n",
              "        vertical-align: middle;\n",
              "    }\n",
              "\n",
              "    .dataframe tbody tr th {\n",
              "        vertical-align: top;\n",
              "    }\n",
              "\n",
              "    .dataframe thead th {\n",
              "        text-align: right;\n",
              "    }\n",
              "</style>\n",
              "<table border=\"1\" class=\"dataframe\">\n",
              "  <thead>\n",
              "    <tr style=\"text-align: right;\">\n",
              "      <th></th>\n",
              "      <th>date</th>\n",
              "      <th>open</th>\n",
              "      <th>high</th>\n",
              "      <th>low</th>\n",
              "      <th>close</th>\n",
              "    </tr>\n",
              "  </thead>\n",
              "  <tbody>\n",
              "    <tr>\n",
              "      <th>204</th>\n",
              "      <td>1/7/2011</td>\n",
              "      <td>65.88</td>\n",
              "      <td>65.88</td>\n",
              "      <td>62.56</td>\n",
              "      <td>62.92</td>\n",
              "    </tr>\n",
              "    <tr>\n",
              "      <th>205</th>\n",
              "      <td>1/14/2011</td>\n",
              "      <td>62.70</td>\n",
              "      <td>63.86</td>\n",
              "      <td>62.56</td>\n",
              "      <td>63.13</td>\n",
              "    </tr>\n",
              "    <tr>\n",
              "      <th>206</th>\n",
              "      <td>1/21/2011</td>\n",
              "      <td>63.21</td>\n",
              "      <td>63.92</td>\n",
              "      <td>62.72</td>\n",
              "      <td>62.77</td>\n",
              "    </tr>\n",
              "    <tr>\n",
              "      <th>207</th>\n",
              "      <td>1/28/2011</td>\n",
              "      <td>62.87</td>\n",
              "      <td>63.31</td>\n",
              "      <td>62.14</td>\n",
              "      <td>62.21</td>\n",
              "    </tr>\n",
              "    <tr>\n",
              "      <th>208</th>\n",
              "      <td>2/4/2011</td>\n",
              "      <td>62.32</td>\n",
              "      <td>63.48</td>\n",
              "      <td>61.89</td>\n",
              "      <td>62.56</td>\n",
              "    </tr>\n",
              "    <tr>\n",
              "      <th>209</th>\n",
              "      <td>2/11/2011</td>\n",
              "      <td>62.67</td>\n",
              "      <td>64.75</td>\n",
              "      <td>62.32</td>\n",
              "      <td>63.57</td>\n",
              "    </tr>\n",
              "    <tr>\n",
              "      <th>210</th>\n",
              "      <td>2/18/2011</td>\n",
              "      <td>63.67</td>\n",
              "      <td>64.72</td>\n",
              "      <td>62.55</td>\n",
              "      <td>64.55</td>\n",
              "    </tr>\n",
              "    <tr>\n",
              "      <th>211</th>\n",
              "      <td>2/25/2011</td>\n",
              "      <td>63.36</td>\n",
              "      <td>64.40</td>\n",
              "      <td>63.33</td>\n",
              "      <td>64.31</td>\n",
              "    </tr>\n",
              "    <tr>\n",
              "      <th>212</th>\n",
              "      <td>3/4/2011</td>\n",
              "      <td>64.17</td>\n",
              "      <td>65.87</td>\n",
              "      <td>63.86</td>\n",
              "      <td>65.21</td>\n",
              "    </tr>\n",
              "    <tr>\n",
              "      <th>213</th>\n",
              "      <td>3/11/2011</td>\n",
              "      <td>65.32</td>\n",
              "      <td>65.84</td>\n",
              "      <td>64.47</td>\n",
              "      <td>64.81</td>\n",
              "    </tr>\n",
              "  </tbody>\n",
              "</table>\n",
              "</div>\n",
              "    <div class=\"colab-df-buttons\">\n",
              "\n",
              "  <div class=\"colab-df-container\">\n",
              "    <button class=\"colab-df-convert\" onclick=\"convertToInteractive('df-e7125a66-031b-45a2-9fab-4e20a53f7edb')\"\n",
              "            title=\"Convert this dataframe to an interactive table.\"\n",
              "            style=\"display:none;\">\n",
              "\n",
              "  <svg xmlns=\"http://www.w3.org/2000/svg\" height=\"24px\" viewBox=\"0 -960 960 960\">\n",
              "    <path d=\"M120-120v-720h720v720H120Zm60-500h600v-160H180v160Zm220 220h160v-160H400v160Zm0 220h160v-160H400v160ZM180-400h160v-160H180v160Zm440 0h160v-160H620v160ZM180-180h160v-160H180v160Zm440 0h160v-160H620v160Z\"/>\n",
              "  </svg>\n",
              "    </button>\n",
              "\n",
              "  <style>\n",
              "    .colab-df-container {\n",
              "      display:flex;\n",
              "      gap: 12px;\n",
              "    }\n",
              "\n",
              "    .colab-df-convert {\n",
              "      background-color: #E8F0FE;\n",
              "      border: none;\n",
              "      border-radius: 50%;\n",
              "      cursor: pointer;\n",
              "      display: none;\n",
              "      fill: #1967D2;\n",
              "      height: 32px;\n",
              "      padding: 0 0 0 0;\n",
              "      width: 32px;\n",
              "    }\n",
              "\n",
              "    .colab-df-convert:hover {\n",
              "      background-color: #E2EBFA;\n",
              "      box-shadow: 0px 1px 2px rgba(60, 64, 67, 0.3), 0px 1px 3px 1px rgba(60, 64, 67, 0.15);\n",
              "      fill: #174EA6;\n",
              "    }\n",
              "\n",
              "    .colab-df-buttons div {\n",
              "      margin-bottom: 4px;\n",
              "    }\n",
              "\n",
              "    [theme=dark] .colab-df-convert {\n",
              "      background-color: #3B4455;\n",
              "      fill: #D2E3FC;\n",
              "    }\n",
              "\n",
              "    [theme=dark] .colab-df-convert:hover {\n",
              "      background-color: #434B5C;\n",
              "      box-shadow: 0px 1px 3px 1px rgba(0, 0, 0, 0.15);\n",
              "      filter: drop-shadow(0px 1px 2px rgba(0, 0, 0, 0.3));\n",
              "      fill: #FFFFFF;\n",
              "    }\n",
              "  </style>\n",
              "\n",
              "    <script>\n",
              "      const buttonEl =\n",
              "        document.querySelector('#df-e7125a66-031b-45a2-9fab-4e20a53f7edb button.colab-df-convert');\n",
              "      buttonEl.style.display =\n",
              "        google.colab.kernel.accessAllowed ? 'block' : 'none';\n",
              "\n",
              "      async function convertToInteractive(key) {\n",
              "        const element = document.querySelector('#df-e7125a66-031b-45a2-9fab-4e20a53f7edb');\n",
              "        const dataTable =\n",
              "          await google.colab.kernel.invokeFunction('convertToInteractive',\n",
              "                                                    [key], {});\n",
              "        if (!dataTable) return;\n",
              "\n",
              "        const docLinkHtml = 'Like what you see? Visit the ' +\n",
              "          '<a target=\"_blank\" href=https://colab.research.google.com/notebooks/data_table.ipynb>data table notebook</a>'\n",
              "          + ' to learn more about interactive tables.';\n",
              "        element.innerHTML = '';\n",
              "        dataTable['output_type'] = 'display_data';\n",
              "        await google.colab.output.renderOutput(dataTable, element);\n",
              "        const docLink = document.createElement('div');\n",
              "        docLink.innerHTML = docLinkHtml;\n",
              "        element.appendChild(docLink);\n",
              "      }\n",
              "    </script>\n",
              "  </div>\n",
              "\n",
              "\n",
              "<div id=\"df-ee705e43-9f80-47a6-9f7a-597d8dcaa0a1\">\n",
              "  <button class=\"colab-df-quickchart\" onclick=\"quickchart('df-ee705e43-9f80-47a6-9f7a-597d8dcaa0a1')\"\n",
              "            title=\"Suggest charts\"\n",
              "            style=\"display:none;\">\n",
              "\n",
              "<svg xmlns=\"http://www.w3.org/2000/svg\" height=\"24px\"viewBox=\"0 0 24 24\"\n",
              "     width=\"24px\">\n",
              "    <g>\n",
              "        <path d=\"M19 3H5c-1.1 0-2 .9-2 2v14c0 1.1.9 2 2 2h14c1.1 0 2-.9 2-2V5c0-1.1-.9-2-2-2zM9 17H7v-7h2v7zm4 0h-2V7h2v10zm4 0h-2v-4h2v4z\"/>\n",
              "    </g>\n",
              "</svg>\n",
              "  </button>\n",
              "\n",
              "<style>\n",
              "  .colab-df-quickchart {\n",
              "      --bg-color: #E8F0FE;\n",
              "      --fill-color: #1967D2;\n",
              "      --hover-bg-color: #E2EBFA;\n",
              "      --hover-fill-color: #174EA6;\n",
              "      --disabled-fill-color: #AAA;\n",
              "      --disabled-bg-color: #DDD;\n",
              "  }\n",
              "\n",
              "  [theme=dark] .colab-df-quickchart {\n",
              "      --bg-color: #3B4455;\n",
              "      --fill-color: #D2E3FC;\n",
              "      --hover-bg-color: #434B5C;\n",
              "      --hover-fill-color: #FFFFFF;\n",
              "      --disabled-bg-color: #3B4455;\n",
              "      --disabled-fill-color: #666;\n",
              "  }\n",
              "\n",
              "  .colab-df-quickchart {\n",
              "    background-color: var(--bg-color);\n",
              "    border: none;\n",
              "    border-radius: 50%;\n",
              "    cursor: pointer;\n",
              "    display: none;\n",
              "    fill: var(--fill-color);\n",
              "    height: 32px;\n",
              "    padding: 0;\n",
              "    width: 32px;\n",
              "  }\n",
              "\n",
              "  .colab-df-quickchart:hover {\n",
              "    background-color: var(--hover-bg-color);\n",
              "    box-shadow: 0 1px 2px rgba(60, 64, 67, 0.3), 0 1px 3px 1px rgba(60, 64, 67, 0.15);\n",
              "    fill: var(--button-hover-fill-color);\n",
              "  }\n",
              "\n",
              "  .colab-df-quickchart-complete:disabled,\n",
              "  .colab-df-quickchart-complete:disabled:hover {\n",
              "    background-color: var(--disabled-bg-color);\n",
              "    fill: var(--disabled-fill-color);\n",
              "    box-shadow: none;\n",
              "  }\n",
              "\n",
              "  .colab-df-spinner {\n",
              "    border: 2px solid var(--fill-color);\n",
              "    border-color: transparent;\n",
              "    border-bottom-color: var(--fill-color);\n",
              "    animation:\n",
              "      spin 1s steps(1) infinite;\n",
              "  }\n",
              "\n",
              "  @keyframes spin {\n",
              "    0% {\n",
              "      border-color: transparent;\n",
              "      border-bottom-color: var(--fill-color);\n",
              "      border-left-color: var(--fill-color);\n",
              "    }\n",
              "    20% {\n",
              "      border-color: transparent;\n",
              "      border-left-color: var(--fill-color);\n",
              "      border-top-color: var(--fill-color);\n",
              "    }\n",
              "    30% {\n",
              "      border-color: transparent;\n",
              "      border-left-color: var(--fill-color);\n",
              "      border-top-color: var(--fill-color);\n",
              "      border-right-color: var(--fill-color);\n",
              "    }\n",
              "    40% {\n",
              "      border-color: transparent;\n",
              "      border-right-color: var(--fill-color);\n",
              "      border-top-color: var(--fill-color);\n",
              "    }\n",
              "    60% {\n",
              "      border-color: transparent;\n",
              "      border-right-color: var(--fill-color);\n",
              "    }\n",
              "    80% {\n",
              "      border-color: transparent;\n",
              "      border-right-color: var(--fill-color);\n",
              "      border-bottom-color: var(--fill-color);\n",
              "    }\n",
              "    90% {\n",
              "      border-color: transparent;\n",
              "      border-bottom-color: var(--fill-color);\n",
              "    }\n",
              "  }\n",
              "</style>\n",
              "\n",
              "  <script>\n",
              "    async function quickchart(key) {\n",
              "      const quickchartButtonEl =\n",
              "        document.querySelector('#' + key + ' button');\n",
              "      quickchartButtonEl.disabled = true;  // To prevent multiple clicks.\n",
              "      quickchartButtonEl.classList.add('colab-df-spinner');\n",
              "      try {\n",
              "        const charts = await google.colab.kernel.invokeFunction(\n",
              "            'suggestCharts', [key], {});\n",
              "      } catch (error) {\n",
              "        console.error('Error during call to suggestCharts:', error);\n",
              "      }\n",
              "      quickchartButtonEl.classList.remove('colab-df-spinner');\n",
              "      quickchartButtonEl.classList.add('colab-df-quickchart-complete');\n",
              "    }\n",
              "    (() => {\n",
              "      let quickchartButtonEl =\n",
              "        document.querySelector('#df-ee705e43-9f80-47a6-9f7a-597d8dcaa0a1 button');\n",
              "      quickchartButtonEl.style.display =\n",
              "        google.colab.kernel.accessAllowed ? 'block' : 'none';\n",
              "    })();\n",
              "  </script>\n",
              "</div>\n",
              "\n",
              "    </div>\n",
              "  </div>\n"
            ]
          },
          "metadata": {},
          "execution_count": 31
        }
      ]
    },
    {
      "cell_type": "code",
      "source": [
        "# Verifique novamente o tipo dos dados\n",
        "df_KO.dtypes"
      ],
      "metadata": {
        "id": "R6e7i5ry_BhV",
        "colab": {
          "base_uri": "https://localhost:8080/"
        },
        "outputId": "a1183210-4918-4ff1-b1ac-6ff238517162"
      },
      "execution_count": 32,
      "outputs": [
        {
          "output_type": "execute_result",
          "data": {
            "text/plain": [
              "date      object\n",
              "open     float64\n",
              "high     float64\n",
              "low      float64\n",
              "close    float64\n",
              "dtype: object"
            ]
          },
          "metadata": {},
          "execution_count": 32
        }
      ]
    },
    {
      "cell_type": "markdown",
      "metadata": {
        "id": "pNBMYO0g--1X"
      },
      "source": [
        "Excelente, agora podemos explorar os dados visualmente."
      ]
    },
    {
      "cell_type": "markdown",
      "metadata": {
        "id": "AAyOBwWQkRJ-"
      },
      "source": [
        "---"
      ]
    },
    {
      "cell_type": "markdown",
      "metadata": {
        "id": "1YCQI-BskR5H"
      },
      "source": [
        "## 2\\. Seaborn"
      ]
    },
    {
      "cell_type": "markdown",
      "metadata": {
        "id": "VSgsKxY4kR5I"
      },
      "source": [
        "Para visualizar os dados, vamos utilizar o pacote `seaborn` na versão `0.11.1`. A documentação completa por ser encontrada neste [link](https://seaborn.pydata.org/)"
      ]
    },
    {
      "cell_type": "code",
      "metadata": {
        "id": "fYNfn2eDs1MN"
      },
      "source": [
        "!pip install seaborn==0.11.1"
      ],
      "execution_count": null,
      "outputs": []
    },
    {
      "cell_type": "markdown",
      "metadata": {
        "id": "DtuGrHyQ0CJ-"
      },
      "source": [
        "Vamos importar o pacote com o apelido (alias) `sns`."
      ]
    },
    {
      "cell_type": "code",
      "metadata": {
        "id": "fAeWYQjis8E5"
      },
      "source": [
        "import seaborn as sns"
      ],
      "execution_count": 33,
      "outputs": []
    },
    {
      "cell_type": "markdown",
      "metadata": {
        "id": "TqYmOY1m0Eh3"
      },
      "source": [
        "Vamos visualizar os valores de abertura das ações ao longo do tempo."
      ]
    },
    {
      "cell_type": "code",
      "metadata": {
        "id": "7-5D1wKcwAuO",
        "colab": {
          "base_uri": "https://localhost:8080/",
          "height": 540
        },
        "outputId": "553abd05-c6f9-4012-d514-27b6b497b8b0"
      },
      "source": [
        "plot = sns.lineplot(x=\"date\", y=\"open\", data=df_mcd)\n",
        "_ = plot.set_xticklabels(labels=df_mcd['date'], rotation=90)"
      ],
      "execution_count": 34,
      "outputs": [
        {
          "output_type": "stream",
          "name": "stderr",
          "text": [
            "<ipython-input-34-533bf4eae097>:2: UserWarning: FixedFormatter should only be used together with FixedLocator\n",
            "  _ = plot.set_xticklabels(labels=df_mcd['date'], rotation=90)\n"
          ]
        },
        {
          "output_type": "display_data",
          "data": {
            "text/plain": [
              "<Figure size 640x480 with 1 Axes>"
            ],
            "image/png": "[encoded data removed]"
          },
          "metadata": {}
        }
      ]
    },
    {
      "cell_type": "markdown",
      "metadata": {
        "id": "gh5Fz23t0MA-"
      },
      "source": [
        "Vamos também visualizar os valores de fechamento das ações ao longo do tempo."
      ]
    },
    {
      "cell_type": "code",
      "metadata": {
        "id": "5QARzs47wP_O",
        "colab": {
          "base_uri": "https://localhost:8080/",
          "height": 449
        },
        "outputId": "e9bb7d5a-3595-4fa7-c828-02b452ecba9d"
      },
      "source": [
        "plot = sns.lineplot(x=\"date\", y=\"close\", data=df_mcd)\n",
        "_ = plot.set_xticklabels(labels=df_mcd['date'], rotation=90)"
      ],
      "execution_count": 35,
      "outputs": [
        {
          "output_type": "display_data",
          "data": {
            "text/plain": [
              "<Figure size 640x480 with 1 Axes>"
            ],
            "image/png": "[encoded data removed]"
          },
          "metadata": {}
        }
      ]
    },
    {
      "cell_type": "markdown",
      "metadata": {
        "id": "08BOzhId0TfH"
      },
      "source": [
        "Para facilitar a comparação, vamo visualizar os quatro valores no mesmo gráfico."
      ]
    },
    {
      "cell_type": "code",
      "metadata": {
        "id": "boKoMZbXtAJV",
        "colab": {
          "base_uri": "https://localhost:8080/",
          "height": 540
        },
        "outputId": "428eb56a-d0b5-47f8-ea28-37c8c24ddb15"
      },
      "source": [
        "plot = sns.lineplot(x=\"date\", y=\"value\", hue='variable', data=pd.melt(df_mcd, ['date']))\n",
        "_ = plot.set_xticklabels(labels=df_mcd['date'], rotation=90)"
      ],
      "execution_count": 36,
      "outputs": [
        {
          "output_type": "stream",
          "name": "stderr",
          "text": [
            "<ipython-input-36-754274876e32>:2: UserWarning: FixedFormatter should only be used together with FixedLocator\n",
            "  _ = plot.set_xticklabels(labels=df_mcd['date'], rotation=90)\n"
          ]
        },
        {
          "output_type": "display_data",
          "data": {
            "text/plain": [
              "<Figure size 640x480 with 1 Axes>"
            ],
            "image/png": "[encoded data removed]"
          },
          "metadata": {}
        }
      ]
    },
    {
      "cell_type": "markdown",
      "metadata": {
        "id": "H6nM4hJQ1mnb"
      },
      "source": [
        "Para finalizar, vamos salvar o gráfico numa figura."
      ]
    },
    {
      "cell_type": "code",
      "metadata": {
        "id": "I7Wncbvd1lzE"
      },
      "source": [
        "plot.figure.savefig(\"./mcd.png\")"
      ],
      "execution_count": 37,
      "outputs": []
    },
    {
      "cell_type": "markdown",
      "metadata": {
        "id": "4mJNcUM7kR5J"
      },
      "source": [
        "**Agora é a sua vez,** faça o gráfico acima para a empresa Coca-Cola e salve a imagem com o nome `ko.png`."
      ]
    },
    {
      "cell_type": "code",
      "metadata": {
        "id": "0S_xMlt_zjwV",
        "colab": {
          "base_uri": "https://localhost:8080/",
          "height": 359
        },
        "outputId": "afbad7c8-4642-4e41-8494-9287a5ea001a"
      },
      "source": [
        "# visualização dos dados da Coca-Cola.\n",
        "df_KO.head(n=10)"
      ],
      "execution_count": 39,
      "outputs": [
        {
          "output_type": "execute_result",
          "data": {
            "text/plain": [
              "          date   open   high    low  close\n",
              "204   1/7/2011  65.88  65.88  62.56  62.92\n",
              "205  1/14/2011  62.70  63.86  62.56  63.13\n",
              "206  1/21/2011  63.21  63.92  62.72  62.77\n",
              "207  1/28/2011  62.87  63.31  62.14  62.21\n",
              "208   2/4/2011  62.32  63.48  61.89  62.56\n",
              "209  2/11/2011  62.67  64.75  62.32  63.57\n",
              "210  2/18/2011  63.67  64.72  62.55  64.55\n",
              "211  2/25/2011  63.36  64.40  63.33  64.31\n",
              "212   3/4/2011  64.17  65.87  63.86  65.21\n",
              "213  3/11/2011  65.32  65.84  64.47  64.81"
            ],
            "text/html": [
              "\n",
              "  <div id=\"df-1a1bdda0-e7ec-44b5-91d3-1f97265c8f49\" class=\"colab-df-container\">\n",
              "    <div>\n",
              "<style scoped>\n",
              "    .dataframe tbody tr th:only-of-type {\n",
              "        vertical-align: middle;\n",
              "    }\n",
              "\n",
              "    .dataframe tbody tr th {\n",
              "        vertical-align: top;\n",
              "    }\n",
              "\n",
              "    .dataframe thead th {\n",
              "        text-align: right;\n",
              "    }\n",
              "</style>\n",
              "<table border=\"1\" class=\"dataframe\">\n",
              "  <thead>\n",
              "    <tr style=\"text-align: right;\">\n",
              "      <th></th>\n",
              "      <th>date</th>\n",
              "      <th>open</th>\n",
              "      <th>high</th>\n",
              "      <th>low</th>\n",
              "      <th>close</th>\n",
              "    </tr>\n",
              "  </thead>\n",
              "  <tbody>\n",
              "    <tr>\n",
              "      <th>204</th>\n",
              "      <td>1/7/2011</td>\n",
              "      <td>65.88</td>\n",
              "      <td>65.88</td>\n",
              "      <td>62.56</td>\n",
              "      <td>62.92</td>\n",
              "    </tr>\n",
              "    <tr>\n",
              "      <th>205</th>\n",
              "      <td>1/14/2011</td>\n",
              "      <td>62.70</td>\n",
              "      <td>63.86</td>\n",
              "      <td>62.56</td>\n",
              "      <td>63.13</td>\n",
              "    </tr>\n",
              "    <tr>\n",
              "      <th>206</th>\n",
              "      <td>1/21/2011</td>\n",
              "      <td>63.21</td>\n",
              "      <td>63.92</td>\n",
              "      <td>62.72</td>\n",
              "      <td>62.77</td>\n",
              "    </tr>\n",
              "    <tr>\n",
              "      <th>207</th>\n",
              "      <td>1/28/2011</td>\n",
              "      <td>62.87</td>\n",
              "      <td>63.31</td>\n",
              "      <td>62.14</td>\n",
              "      <td>62.21</td>\n",
              "    </tr>\n",
              "    <tr>\n",
              "      <th>208</th>\n",
              "      <td>2/4/2011</td>\n",
              "      <td>62.32</td>\n",
              "      <td>63.48</td>\n",
              "      <td>61.89</td>\n",
              "      <td>62.56</td>\n",
              "    </tr>\n",
              "    <tr>\n",
              "      <th>209</th>\n",
              "      <td>2/11/2011</td>\n",
              "      <td>62.67</td>\n",
              "      <td>64.75</td>\n",
              "      <td>62.32</td>\n",
              "      <td>63.57</td>\n",
              "    </tr>\n",
              "    <tr>\n",
              "      <th>210</th>\n",
              "      <td>2/18/2011</td>\n",
              "      <td>63.67</td>\n",
              "      <td>64.72</td>\n",
              "      <td>62.55</td>\n",
              "      <td>64.55</td>\n",
              "    </tr>\n",
              "    <tr>\n",
              "      <th>211</th>\n",
              "      <td>2/25/2011</td>\n",
              "      <td>63.36</td>\n",
              "      <td>64.40</td>\n",
              "      <td>63.33</td>\n",
              "      <td>64.31</td>\n",
              "    </tr>\n",
              "    <tr>\n",
              "      <th>212</th>\n",
              "      <td>3/4/2011</td>\n",
              "      <td>64.17</td>\n",
              "      <td>65.87</td>\n",
              "      <td>63.86</td>\n",
              "      <td>65.21</td>\n",
              "    </tr>\n",
              "    <tr>\n",
              "      <th>213</th>\n",
              "      <td>3/11/2011</td>\n",
              "      <td>65.32</td>\n",
              "      <td>65.84</td>\n",
              "      <td>64.47</td>\n",
              "      <td>64.81</td>\n",
              "    </tr>\n",
              "  </tbody>\n",
              "</table>\n",
              "</div>\n",
              "    <div class=\"colab-df-buttons\">\n",
              "\n",
              "  <div class=\"colab-df-container\">\n",
              "    <button class=\"colab-df-convert\" onclick=\"convertToInteractive('df-1a1bdda0-e7ec-44b5-91d3-1f97265c8f49')\"\n",
              "            title=\"Convert this dataframe to an interactive table.\"\n",
              "            style=\"display:none;\">\n",
              "\n",
              "  <svg xmlns=\"http://www.w3.org/2000/svg\" height=\"24px\" viewBox=\"0 -960 960 960\">\n",
              "    <path d=\"M120-120v-720h720v720H120Zm60-500h600v-160H180v160Zm220 220h160v-160H400v160Zm0 220h160v-160H400v160ZM180-400h160v-160H180v160Zm440 0h160v-160H620v160ZM180-180h160v-160H180v160Zm440 0h160v-160H620v160Z\"/>\n",
              "  </svg>\n",
              "    </button>\n",
              "\n",
              "  <style>\n",
              "    .colab-df-container {\n",
              "      display:flex;\n",
              "      gap: 12px;\n",
              "    }\n",
              "\n",
              "    .colab-df-convert {\n",
              "      background-color: #E8F0FE;\n",
              "      border: none;\n",
              "      border-radius: 50%;\n",
              "      cursor: pointer;\n",
              "      display: none;\n",
              "      fill: #1967D2;\n",
              "      height: 32px;\n",
              "      padding: 0 0 0 0;\n",
              "      width: 32px;\n",
              "    }\n",
              "\n",
              "    .colab-df-convert:hover {\n",
              "      background-color: #E2EBFA;\n",
              "      box-shadow: 0px 1px 2px rgba(60, 64, 67, 0.3), 0px 1px 3px 1px rgba(60, 64, 67, 0.15);\n",
              "      fill: #174EA6;\n",
              "    }\n",
              "\n",
              "    .colab-df-buttons div {\n",
              "      margin-bottom: 4px;\n",
              "    }\n",
              "\n",
              "    [theme=dark] .colab-df-convert {\n",
              "      background-color: #3B4455;\n",
              "      fill: #D2E3FC;\n",
              "    }\n",
              "\n",
              "    [theme=dark] .colab-df-convert:hover {\n",
              "      background-color: #434B5C;\n",
              "      box-shadow: 0px 1px 3px 1px rgba(0, 0, 0, 0.15);\n",
              "      filter: drop-shadow(0px 1px 2px rgba(0, 0, 0, 0.3));\n",
              "      fill: #FFFFFF;\n",
              "    }\n",
              "  </style>\n",
              "\n",
              "    <script>\n",
              "      const buttonEl =\n",
              "        document.querySelector('#df-1a1bdda0-e7ec-44b5-91d3-1f97265c8f49 button.colab-df-convert');\n",
              "      buttonEl.style.display =\n",
              "        google.colab.kernel.accessAllowed ? 'block' : 'none';\n",
              "\n",
              "      async function convertToInteractive(key) {\n",
              "        const element = document.querySelector('#df-1a1bdda0-e7ec-44b5-91d3-1f97265c8f49');\n",
              "        const dataTable =\n",
              "          await google.colab.kernel.invokeFunction('convertToInteractive',\n",
              "                                                    [key], {});\n",
              "        if (!dataTable) return;\n",
              "\n",
              "        const docLinkHtml = 'Like what you see? Visit the ' +\n",
              "          '<a target=\"_blank\" href=https://colab.research.google.com/notebooks/data_table.ipynb>data table notebook</a>'\n",
              "          + ' to learn more about interactive tables.';\n",
              "        element.innerHTML = '';\n",
              "        dataTable['output_type'] = 'display_data';\n",
              "        await google.colab.output.renderOutput(dataTable, element);\n",
              "        const docLink = document.createElement('div');\n",
              "        docLink.innerHTML = docLinkHtml;\n",
              "        element.appendChild(docLink);\n",
              "      }\n",
              "    </script>\n",
              "  </div>\n",
              "\n",
              "\n",
              "<div id=\"df-6e39b24c-455a-4113-90e5-13092f8c5cee\">\n",
              "  <button class=\"colab-df-quickchart\" onclick=\"quickchart('df-6e39b24c-455a-4113-90e5-13092f8c5cee')\"\n",
              "            title=\"Suggest charts\"\n",
              "            style=\"display:none;\">\n",
              "\n",
              "<svg xmlns=\"http://www.w3.org/2000/svg\" height=\"24px\"viewBox=\"0 0 24 24\"\n",
              "     width=\"24px\">\n",
              "    <g>\n",
              "        <path d=\"M19 3H5c-1.1 0-2 .9-2 2v14c0 1.1.9 2 2 2h14c1.1 0 2-.9 2-2V5c0-1.1-.9-2-2-2zM9 17H7v-7h2v7zm4 0h-2V7h2v10zm4 0h-2v-4h2v4z\"/>\n",
              "    </g>\n",
              "</svg>\n",
              "  </button>\n",
              "\n",
              "<style>\n",
              "  .colab-df-quickchart {\n",
              "      --bg-color: #E8F0FE;\n",
              "      --fill-color: #1967D2;\n",
              "      --hover-bg-color: #E2EBFA;\n",
              "      --hover-fill-color: #174EA6;\n",
              "      --disabled-fill-color: #AAA;\n",
              "      --disabled-bg-color: #DDD;\n",
              "  }\n",
              "\n",
              "  [theme=dark] .colab-df-quickchart {\n",
              "      --bg-color: #3B4455;\n",
              "      --fill-color: #D2E3FC;\n",
              "      --hover-bg-color: #434B5C;\n",
              "      --hover-fill-color: #FFFFFF;\n",
              "      --disabled-bg-color: #3B4455;\n",
              "      --disabled-fill-color: #666;\n",
              "  }\n",
              "\n",
              "  .colab-df-quickchart {\n",
              "    background-color: var(--bg-color);\n",
              "    border: none;\n",
              "    border-radius: 50%;\n",
              "    cursor: pointer;\n",
              "    display: none;\n",
              "    fill: var(--fill-color);\n",
              "    height: 32px;\n",
              "    padding: 0;\n",
              "    width: 32px;\n",
              "  }\n",
              "\n",
              "  .colab-df-quickchart:hover {\n",
              "    background-color: var(--hover-bg-color);\n",
              "    box-shadow: 0 1px 2px rgba(60, 64, 67, 0.3), 0 1px 3px 1px rgba(60, 64, 67, 0.15);\n",
              "    fill: var(--button-hover-fill-color);\n",
              "  }\n",
              "\n",
              "  .colab-df-quickchart-complete:disabled,\n",
              "  .colab-df-quickchart-complete:disabled:hover {\n",
              "    background-color: var(--disabled-bg-color);\n",
              "    fill: var(--disabled-fill-color);\n",
              "    box-shadow: none;\n",
              "  }\n",
              "\n",
              "  .colab-df-spinner {\n",
              "    border: 2px solid var(--fill-color);\n",
              "    border-color: transparent;\n",
              "    border-bottom-color: var(--fill-color);\n",
              "    animation:\n",
              "      spin 1s steps(1) infinite;\n",
              "  }\n",
              "\n",
              "  @keyframes spin {\n",
              "    0% {\n",
              "      border-color: transparent;\n",
              "      border-bottom-color: var(--fill-color);\n",
              "      border-left-color: var(--fill-color);\n",
              "    }\n",
              "    20% {\n",
              "      border-color: transparent;\n",
              "      border-left-color: var(--fill-color);\n",
              "      border-top-color: var(--fill-color);\n",
              "    }\n",
              "    30% {\n",
              "      border-color: transparent;\n",
              "      border-left-color: var(--fill-color);\n",
              "      border-top-color: var(--fill-color);\n",
              "      border-right-color: var(--fill-color);\n",
              "    }\n",
              "    40% {\n",
              "      border-color: transparent;\n",
              "      border-right-color: var(--fill-color);\n",
              "      border-top-color: var(--fill-color);\n",
              "    }\n",
              "    60% {\n",
              "      border-color: transparent;\n",
              "      border-right-color: var(--fill-color);\n",
              "    }\n",
              "    80% {\n",
              "      border-color: transparent;\n",
              "      border-right-color: var(--fill-color);\n",
              "      border-bottom-color: var(--fill-color);\n",
              "    }\n",
              "    90% {\n",
              "      border-color: transparent;\n",
              "      border-bottom-color: var(--fill-color);\n",
              "    }\n",
              "  }\n",
              "</style>\n",
              "\n",
              "  <script>\n",
              "    async function quickchart(key) {\n",
              "      const quickchartButtonEl =\n",
              "        document.querySelector('#' + key + ' button');\n",
              "      quickchartButtonEl.disabled = true;  // To prevent multiple clicks.\n",
              "      quickchartButtonEl.classList.add('colab-df-spinner');\n",
              "      try {\n",
              "        const charts = await google.colab.kernel.invokeFunction(\n",
              "            'suggestCharts', [key], {});\n",
              "      } catch (error) {\n",
              "        console.error('Error during call to suggestCharts:', error);\n",
              "      }\n",
              "      quickchartButtonEl.classList.remove('colab-df-spinner');\n",
              "      quickchartButtonEl.classList.add('colab-df-quickchart-complete');\n",
              "    }\n",
              "    (() => {\n",
              "      let quickchartButtonEl =\n",
              "        document.querySelector('#df-6e39b24c-455a-4113-90e5-13092f8c5cee button');\n",
              "      quickchartButtonEl.style.display =\n",
              "        google.colab.kernel.accessAllowed ? 'block' : 'none';\n",
              "    })();\n",
              "  </script>\n",
              "</div>\n",
              "\n",
              "    </div>\n",
              "  </div>\n"
            ]
          },
          "metadata": {},
          "execution_count": 39
        }
      ]
    },
    {
      "cell_type": "markdown",
      "metadata": {
        "id": "0rYmjC-q_jCc"
      },
      "source": [
        "Vamos visualizar os valores de abertura das ações ao longo do tempo."
      ]
    },
    {
      "cell_type": "code",
      "source": [
        "plot = sns.lineplot(x=\"date\", y=\"open\", data=df_KO)\n",
        "_ = plot.set_xticklabels(labels=df_KO['date'], rotation=90)"
      ],
      "metadata": {
        "id": "SxPl6w-s_kVm",
        "colab": {
          "base_uri": "https://localhost:8080/",
          "height": 540
        },
        "outputId": "7a334d35-3b4d-4d43-d7cf-006be323e2d1"
      },
      "execution_count": 40,
      "outputs": [
        {
          "output_type": "stream",
          "name": "stderr",
          "text": [
            "<ipython-input-40-adf1b8587c79>:2: UserWarning: FixedFormatter should only be used together with FixedLocator\n",
            "  _ = plot.set_xticklabels(labels=df_KO['date'], rotation=90)\n"
          ]
        },
        {
          "output_type": "display_data",
          "data": {
            "text/plain": [
              "<Figure size 640x480 with 1 Axes>"
            ],
            "image/png": "[encoded data removed]"
          },
          "metadata": {}
        }
      ]
    },
    {
      "cell_type": "markdown",
      "metadata": {
        "id": "d3GrC1rl_m4_"
      },
      "source": [
        "Vamos também visualizar os valores de fechamento das ações ao longo do tempo."
      ]
    },
    {
      "cell_type": "code",
      "source": [
        "plot = sns.lineplot(x=\"date\", y=\"close\", data=df_mcd)\n",
        "_ = plot.set_xticklabels(labels=df_mcd['date'], rotation=90)"
      ],
      "metadata": {
        "id": "VBSyo4p3_nvb",
        "colab": {
          "base_uri": "https://localhost:8080/",
          "height": 540
        },
        "outputId": "59c06bb1-4311-4b2c-afb6-245cce91cce3"
      },
      "execution_count": 41,
      "outputs": [
        {
          "output_type": "stream",
          "name": "stderr",
          "text": [
            "<ipython-input-41-1af5daa54bb0>:2: UserWarning: FixedFormatter should only be used together with FixedLocator\n",
            "  _ = plot.set_xticklabels(labels=df_mcd['date'], rotation=90)\n"
          ]
        },
        {
          "output_type": "display_data",
          "data": {
            "text/plain": [
              "<Figure size 640x480 with 1 Axes>"
            ],
            "image/png": "[encoded data removed]"
          },
          "metadata": {}
        }
      ]
    },
    {
      "cell_type": "markdown",
      "metadata": {
        "id": "a9hHy2nA_qII"
      },
      "source": [
        "Para facilitar a comparação, vamo visualizar os quatro valores no mesmo gráfico."
      ]
    },
    {
      "cell_type": "code",
      "source": [
        "plot = sns.lineplot(x=\"date\", y=\"value\", hue='variable', data=pd.melt(df_mcd, ['date']))\n",
        "_ = plot.set_xticklabels(labels=df_mcd['date'], rotation=90)"
      ],
      "metadata": {
        "id": "CM8Ghjdw_rt7",
        "colab": {
          "base_uri": "https://localhost:8080/",
          "height": 540
        },
        "outputId": "7e3e096d-6381-4381-a309-d8897637b17e"
      },
      "execution_count": 42,
      "outputs": [
        {
          "output_type": "stream",
          "name": "stderr",
          "text": [
            "<ipython-input-42-754274876e32>:2: UserWarning: FixedFormatter should only be used together with FixedLocator\n",
            "  _ = plot.set_xticklabels(labels=df_mcd['date'], rotation=90)\n"
          ]
        },
        {
          "output_type": "display_data",
          "data": {
            "text/plain": [
              "<Figure size 640x480 with 1 Axes>"
            ],
            "image/png": "[encoded data removed]"
          },
          "metadata": {}
        }
      ]
    },
    {
      "cell_type": "markdown",
      "metadata": {
        "id": "A1ul0Eve_vW3"
      },
      "source": [
        "Para finalizar, vamos salvar o gráfico numa figura."
      ]
    },
    {
      "cell_type": "code",
      "source": [
        "plot.figure.savefig(\"./ko.png\")"
      ],
      "metadata": {
        "id": "V7yzkTck_wFv"
      },
      "execution_count": 43,
      "outputs": []
    },
    {
      "cell_type": "markdown",
      "metadata": {
        "id": "fYM0WRi0zoQx"
      },
      "source": [
        "Analise as duas imagens e escreva pelo menos um *insight* que você consegue extrair dos dados. Fique a vontade para escrever quantos *insights* você quiser."
      ]
    },
    {
      "cell_type": "markdown",
      "source": [
        "Obs: *Insights* são observações sobre o que você percebe/entende/interpreta em suas análises. No caso deste exercício, você vai analisar os dados dos gráficos da empresa McDonalds e da empresa Cola-Cola e notar o que os dados gerados podem ser interessante, que tipo de interpretação o comportamento dos dados estão te trazendo."
      ],
      "metadata": {
        "id": "0RT4NASCA5QI"
      }
    },
    {
      "cell_type": "markdown",
      "metadata": {
        "id": "xGcI2Yl-0xBY"
      },
      "source": [
        "**Insight #1**: ..."
      ]
    },
    {
      "cell_type": "markdown",
      "metadata": {
        "id": "8Ubx9z_NkR5K"
      },
      "source": [
        "---"
      ]
    }
  ]
}