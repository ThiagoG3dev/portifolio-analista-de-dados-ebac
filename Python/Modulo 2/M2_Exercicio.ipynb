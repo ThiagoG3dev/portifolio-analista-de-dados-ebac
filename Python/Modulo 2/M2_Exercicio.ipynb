{
  "nbformat": 4,
  "nbformat_minor": 0,
  "metadata": {
    "colab": {
      "provenance": [],
      "toc_visible": true
    },
    "kernelspec": {
      "name": "python3",
      "display_name": "Python 3"
    }
  },
  "cells": [
    {
      "cell_type": "markdown",
      "metadata": {
        "id": "KJqp9AANOCtf"
      },
      "source": [
        "<img src=\"https://raw.githubusercontent.com/andre-marcos-perez/ebac-course-utils/main/media/logo/newebac_logo_black_half.png\" alt=\"ebac-logo\">\n",
        "\n",
        "---\n",
        "\n",
        "# **Módulo** | Python: Estruturas de Dados\n",
        "Caderno de **Exercícios**<br>\n",
        "Professor [André Perez](https://www.linkedin.com/in/andremarcosperez/)\n",
        "\n",
        "---"
      ]
    },
    {
      "cell_type": "markdown",
      "metadata": {
        "id": "d9jDtUbDOE1-"
      },
      "source": [
        "# **Tópicos**\n",
        "\n",
        "<ol type=\"1\">\n",
        "  <li>Listas;</li>\n",
        "  <li>Conjuntos;</li>\n",
        "  <li>Dicionários.</li>\n",
        "</ol>"
      ]
    },
    {
      "cell_type": "markdown",
      "metadata": {
        "id": "SmoHgt-lwkpD"
      },
      "source": [
        "---"
      ]
    },
    {
      "cell_type": "markdown",
      "metadata": {
        "id": "GABI6OW8OfQ2"
      },
      "source": [
        "# **Exercícios**"
      ]
    },
    {
      "cell_type": "markdown",
      "metadata": {
        "id": "muD1vxozykSC"
      },
      "source": [
        "## 1\\. Listas"
      ]
    },
    {
      "cell_type": "markdown",
      "metadata": {
        "id": "ahrFfCuBxJKs"
      },
      "source": [
        "Criei uma lista chamada `filmes` com o nome dos 10 primeiros filmes mais bem avaliados no site no [IMDB](https://www.imdb.com/chart/top/). Imprima o resultado."
      ]
    },
    {
      "cell_type": "code",
      "metadata": {
        "id": "OgL6Hv3bzOHI"
      },
      "source": [
        "filmes = [\"Um sonho de liberdade\" , \"Poderoso Chefao\" , \"Batman cavaleiro das trevas\" , \"Poderoso Chefao 2\" , \"12 homens e uma sentença\" , \"A lista de schindle\" , \"O senhor dos aneis : O retorno dos Reis\" , \"Pulp Fiction\" , \"O senhor dos aneis : A sociedade dos aneis\" , \"Tres homens em conflito\"]"
      ],
      "execution_count": 1,
      "outputs": []
    },
    {
      "cell_type": "markdown",
      "metadata": {
        "id": "KI9zQRT2xa7m"
      },
      "source": [
        "Simule a movimentação do *ranking*. Utilize os métodos `insert` e `pop` para trocar a posição do primeiro e do segundo filme da lista. Imprima o resultado.\n",
        "\n"
      ]
    },
    {
      "cell_type": "code",
      "metadata": {
        "id": "zX3mA3_GzrXH",
        "colab": {
          "base_uri": "https://localhost:8080/"
        },
        "outputId": "24fa0479-cdc7-4660-ac88-cd5fa4fd7d6a"
      },
      "source": [
        "filmes.pop(1)\n",
        "print(filmes)\n",
        "print(len(filmes))"
      ],
      "execution_count": 11,
      "outputs": [
        {
          "output_type": "stream",
          "name": "stdout",
          "text": [
            "['Um sonho de liberdade', '12 homens e uma sentença', 'Pulp Fiction', 'Poderoso Chefao 2', 'O senhor dos aneis : O retorno dos Reis', 'Tres homens em conflito', 'Poderoso Chefao', 'O senhor dos aneis : A sociedade dos aneis', 'Batman cavaleiro das trevas', 'A lista de schindle']\n",
            "10\n"
          ]
        }
      ]
    },
    {
      "cell_type": "code",
      "source": [
        "filmes.insert(1, \"Poderoso Chefao\")\n",
        "print(filmes)\n",
        "print(len(filmes))"
      ],
      "metadata": {
        "colab": {
          "base_uri": "https://localhost:8080/"
        },
        "id": "ho-jYaZsZRkE",
        "outputId": "1c730767-cf96-4169-fb4b-d8289c391adc"
      },
      "execution_count": 10,
      "outputs": [
        {
          "output_type": "stream",
          "name": "stdout",
          "text": [
            "['Um sonho de liberdade', 'Poderoso Chefao', '12 homens e uma sentença', 'Pulp Fiction', 'Poderoso Chefao 2', 'O senhor dos aneis : O retorno dos Reis', 'Tres homens em conflito', 'Poderoso Chefao', 'O senhor dos aneis : A sociedade dos aneis', 'Batman cavaleiro das trevas', 'A lista de schindle']\n",
            "11\n"
          ]
        }
      ]
    },
    {
      "cell_type": "markdown",
      "metadata": {
        "id": "zMN1Q3jdwoJm"
      },
      "source": [
        "---"
      ]
    },
    {
      "cell_type": "markdown",
      "metadata": {
        "id": "lxa5L6uF0ZJE"
      },
      "source": [
        "## 2\\. Conjuntos"
      ]
    },
    {
      "cell_type": "markdown",
      "metadata": {
        "id": "9JahS2Kj0d5u"
      },
      "source": [
        "Aconteceu um erro no seu *ranking*. Simule a duplicação dos três últimos filmes da lista. Imprima o resultado."
      ]
    },
    {
      "cell_type": "code",
      "metadata": {
        "id": "BnjnLBNC6PGe",
        "colab": {
          "base_uri": "https://localhost:8080/"
        },
        "outputId": "91cd4031-51b6-460a-85d9-0f12ae597e8e"
      },
      "source": [
        "filmes = [\"Um sonho de liberdade\" , \"Poderoso Chefao\" , \"Batman cavaleiro das trevas\" , \"Poderoso Chefao 2\" , \"12 homens e uma sentença\" , \"A lista de schindle\" , \"O senhor dos aneis : O retorno dos Reis\" , \"Pulp Fiction\" , \"O senhor dos aneis : A sociedade dos aneis\" , \"Tres homens em conflito\" ,  \"Pulp Fiction\" , \"O senhor dos aneis : A sociedade dos aneis\" , \"Tres homens em conflito\"]\n",
        "print(filmes)\n",
        "print(len(filmes))"
      ],
      "execution_count": 12,
      "outputs": [
        {
          "output_type": "stream",
          "name": "stdout",
          "text": [
            "['Um sonho de liberdade', 'Poderoso Chefao', 'Batman cavaleiro das trevas', 'Poderoso Chefao 2', '12 homens e uma sentença', 'A lista de schindle', 'O senhor dos aneis : O retorno dos Reis', 'Pulp Fiction', 'O senhor dos aneis : A sociedade dos aneis', 'Tres homens em conflito', 'Pulp Fiction', 'O senhor dos aneis : A sociedade dos aneis', 'Tres homens em conflito']\n",
            "13\n"
          ]
        }
      ]
    },
    {
      "cell_type": "markdown",
      "metadata": {
        "id": "suxTfCJB6ZiX"
      },
      "source": [
        "Utiliza a conversão `set` e `list` para remover os valores duplicados. Imprima o resultado."
      ]
    },
    {
      "cell_type": "code",
      "metadata": {
        "id": "ZvUGN-0n6joM",
        "colab": {
          "base_uri": "https://localhost:8080/"
        },
        "outputId": "bf45e943-4d6a-4104-f9a6-11eeef3843c6"
      },
      "source": [
        "filmes = list(set(filmes))\n",
        "print(filmes)\n",
        "print(len(filmes))\n"
      ],
      "execution_count": 13,
      "outputs": [
        {
          "output_type": "stream",
          "name": "stdout",
          "text": [
            "['Um sonho de liberdade', '12 homens e uma sentença', 'Pulp Fiction', 'Poderoso Chefao 2', 'O senhor dos aneis : O retorno dos Reis', 'Tres homens em conflito', 'Poderoso Chefao', 'O senhor dos aneis : A sociedade dos aneis', 'Batman cavaleiro das trevas', 'A lista de schindle']\n",
            "10\n"
          ]
        }
      ]
    },
    {
      "cell_type": "markdown",
      "metadata": {
        "id": "ShkK35eQ6pAM"
      },
      "source": [
        "---"
      ]
    },
    {
      "cell_type": "markdown",
      "metadata": {
        "id": "EL_FzmxL6rTv"
      },
      "source": [
        "## 3\\. Dicionários"
      ]
    },
    {
      "cell_type": "markdown",
      "metadata": {
        "id": "i8l0gFqRCpfT"
      },
      "source": [
        "Repita os exercícios da parte 1 (listas). Os elementos da lista `filmes` devem ser dicionários no seguinte formato: `{'nome': <nome-do-filme>, 'ano': <ano do filme>, 'sinopse': <sinopse do filme>}`."
      ]
    },
    {
      "cell_type": "code",
      "metadata": {
        "id": "tu6MSFwGDnHv"
      },
      "source": [
        "#Exercicio 3\n",
        "\n",
        "filmes = [\"Um sonho de liberdade\" , \"Poderoso Chefao\" , \"Batman Caveleiro das trevas\" , \"Poderoso Chefao 2\" , \"12 Homens e uma sentença\" , \"A Lista de Schindler\" , \"O Senhor dos Anéis: O Retorno do Rei\" , \"Pulp Fiction - Tempo de Violência\" , \"O Senhor dos Anéis: A Sociedade do Anel\" , \"Três Homens em Conflito\", \"Pulp Fiction - Tempo de Violência\" , \"O Senhor dos Anéis: A Sociedade do Anel\" , \"Três Homens em Conflito\"]\n",
        "\n",
        "filmes = [\n",
        "    {\"nome\" : \"Um sonho de liberdade\" ,\n",
        "          \"ano\" : 1994 ,\n",
        "          \"sinopse\" : \"Dois homens presos se reúnem ao longo de vários anos, encontrando consolo e eventual redenção através de atos de decência comum.\"\n",
        "    },\n",
        "    {\n",
        "        'nome': \"O Poderoso Chefão\",\n",
        "        'ano': 1972,\n",
        "        'sinopse': \"O chefe de uma família mafiosa tenta transferir o controle de seus negócios ilegais para seu filho mais novo.\"\n",
        "    },\n",
        "    {\n",
        "        'nome': \"O Poderoso Chefão: Parte II\",\n",
        "        'ano': 1974,\n",
        "        'sinopse': \"A continuação da saga da família Corleone, explorando o passado e o presente do chefe da família.\"\n",
        "    },\n",
        "    {\n",
        "        'nome': \"Batman: O Cavaleiro das Trevas\",\n",
        "        'ano': 2008,\n",
        "        'sinopse': \"O Cavaleiro das Trevas enfrenta um criminoso conhecido como Coringa, que ameaça Gotham City com caos e destruição.\"\n",
        "    },\n",
        "    {\n",
        "        'nome': \"12 Homens e uma Sentença\",\n",
        "        'ano': 1957,\n",
        "        'sinopse': \"Doze jurados devem decidir o destino de um jovem acusado de homicídio, e um jurado luta para provar sua inocência.\"\n",
        "    },\n",
        "    {\n",
        "        'nome': \"A Lista de Schindler\",\n",
        "        'ano': 1993,\n",
        "        'sinopse': \"Um empresário alemão salva a vida de mais de mil refugiados judeus durante o Holocausto.\"\n",
        "    },\n",
        "    {\n",
        "        'nome': \"O Senhor dos Anéis: O Retorno do Rei\",\n",
        "        'ano': 2003,\n",
        "        'sinopse': \"A última parte da trilogia do Senhor dos Anéis, onde Frodo e Sam enfrentam desafios finais para destruir o Um Anel.\"\n",
        "    },\n",
        "    {\n",
        "        'nome': \"Clube da Luta\",\n",
        "        'ano': 1999,\n",
        "        'sinopse': \"Um homem desiludido forma um clube secreto de luta como uma forma de rebelião contra a sociedade consumista.\"\n",
        "    },\n",
        "    {\n",
        "        'nome': \"Pulp Fiction: Tempo de Violência\",\n",
        "        'ano': 1994,\n",
        "        'sinopse': \"Uma série de histórias interligadas envolvendo gangsters, boxeadores e personagens peculiares.\"\n",
        "    },\n",
        "    {\n",
        "        'nome': \"O Senhor dos Anéis: A Sociedade do Anel\",\n",
        "        'ano': 2001,\n",
        "        'sinopse': \"O início da jornada épica de Frodo Baggins para destruir o Um Anel e derrotar o Senhor das Trevas Sauron.\"\n",
        "    }\n",
        "]\n"
      ],
      "execution_count": 14,
      "outputs": []
    }
  ]
}