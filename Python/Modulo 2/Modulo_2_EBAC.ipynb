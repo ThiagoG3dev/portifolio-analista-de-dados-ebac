{
  "nbformat": 4,
  "nbformat_minor": 0,
  "metadata": {
    "colab": {
      "provenance": []
    },
    "kernelspec": {
      "name": "python3",
      "display_name": "Python 3"
    },
    "language_info": {
      "name": "python"
    }
  },
  "cells": [
    {
      "cell_type": "code",
      "execution_count": 16,
      "metadata": {
        "id": "TrpgMcg3AOSK"
      },
      "outputs": [],
      "source": [
        "dia_11_saldo_inicial = 1000"
      ]
    },
    {
      "cell_type": "code",
      "source": [
        "dia_11_transacao_1 = 243\n",
        "dia_11_transacao_2 = -798.58\n",
        "dia_11_transacao_3 = 427.12\n",
        "dia_11_transacao_4 = -10.91"
      ],
      "metadata": {
        "id": "lLcnSzdZCGKX"
      },
      "execution_count": 20,
      "outputs": []
    },
    {
      "cell_type": "code",
      "source": [
        "dia_11_saldo_final = dia_11_saldo_inicial + dia_11_transacao_1 + dia_11_transacao_2 + dia_11_transacao_3 + dia_11_transacao_4"
      ],
      "metadata": {
        "id": "aQtbmLxcCVi1"
      },
      "execution_count": 21,
      "outputs": []
    },
    {
      "cell_type": "code",
      "source": [
        "print(dia_11_saldo_final)"
      ],
      "metadata": {
        "colab": {
          "base_uri": "https://localhost:8080/"
        },
        "id": "NjBZ3UvACbcb",
        "outputId": "36415795-8263-4512-d4ca-c0eb2442d571"
      },
      "execution_count": 22,
      "outputs": [
        {
          "output_type": "stream",
          "name": "stdout",
          "text": [
            "860.63\n"
          ]
        }
      ]
    },
    {
      "cell_type": "code",
      "source": [
        "usuario_web = [\"Thiago Silva\" , \"thiago.silva\" , \"thiago123\" , \"thiago.g3.ofc@gmail.com\"]\n",
        "\n",
        "print(usuario_web)\n",
        "print(type(usuario_web))"
      ],
      "metadata": {
        "colab": {
          "base_uri": "https://localhost:8080/"
        },
        "id": "pi6m2FP0Dudi",
        "outputId": "ab3e05b5-c2f4-4454-de12-599d0adb766e"
      },
      "execution_count": 24,
      "outputs": [
        {
          "output_type": "stream",
          "name": "stdout",
          "text": [
            "['Thiago Silva', 'thiago.silva', 'thiago123', 'thiago.g3.ofc@gmail.com']\n",
            "<class 'list'>\n"
          ]
        }
      ]
    },
    {
      "cell_type": "code",
      "source": [
        "idade = 20\n",
        "saldo_em_conta = 723.15\n",
        "usuario_loggedin = True\n",
        "\n",
        "usuario_web = [\"Thiago Silva\" , idade , \"thiago.silva\" , \"thiago.g3.ofc@gmail.com\" , saldo_em_conta , usuario_loggedin]\n",
        "\n",
        "print(usuario_web)\n",
        "print(type(usuario_web))"
      ],
      "metadata": {
        "colab": {
          "base_uri": "https://localhost:8080/"
        },
        "id": "nA7RVAc5D8hz",
        "outputId": "9093cac6-fca0-40f0-b882-914755f44ad2"
      },
      "execution_count": 25,
      "outputs": [
        {
          "output_type": "stream",
          "name": "stdout",
          "text": [
            "['Thiago Silva', 20, 'thiago.silva', 'thiago.g3.ofc@gmail.com', 723.15, True]\n",
            "<class 'list'>\n"
          ]
        }
      ]
    },
    {
      "cell_type": "code",
      "source": [
        "print(\"CONCATENAÇÃO LISTAS\")\n",
        "\n",
        "fabricantes_mobile_china = [\"Xiaomi\" , \"Huawei\"]\n",
        "fabricantes_mobile_eua = [\"Apple\" , \"Motorola\"]\n",
        "\n",
        "fabricantes_mobile = fabricantes_mobile_china + fabricantes_mobile_eua\n",
        "\n",
        "print(fabricantes_mobile_eua)\n",
        "print(fabricantes_mobile_china)\n",
        "print(fabricantes_mobile)"
      ],
      "metadata": {
        "colab": {
          "base_uri": "https://localhost:8080/"
        },
        "id": "3liwB42mE1_V",
        "outputId": "c23e3429-6730-4526-aa32-538cccb121f0"
      },
      "execution_count": 27,
      "outputs": [
        {
          "output_type": "stream",
          "name": "stdout",
          "text": [
            "CONCATENAÇÃO LISTAS\n",
            "['Apple', 'Motorola']\n",
            "['Xiaomi', 'Huawei']\n",
            "['Xiaomi', 'Huawei', 'Apple', 'Motorola']\n"
          ]
        }
      ]
    },
    {
      "cell_type": "code",
      "source": [
        "fabricantes_mobile_china = fabricantes_mobile[:2]\n",
        "fabricantes_mobile_eua = fabricantes_mobile [2:]\n",
        "\n",
        "print(\"China\" , fabricantes_mobile_china)\n",
        "print(\"EUA\" , fabricantes_mobile_eua)\n"
      ],
      "metadata": {
        "colab": {
          "base_uri": "https://localhost:8080/"
        },
        "id": "llpdsrBgFUbD",
        "outputId": "e083dc78-bad6-42dd-84de-e461bd1e9cdf"
      },
      "execution_count": 31,
      "outputs": [
        {
          "output_type": "stream",
          "name": "stdout",
          "text": [
            "China ['Xiaomi', 'Huawei']\n",
            "EUA ['Apple', 'Motorola']\n"
          ]
        }
      ]
    },
    {
      "cell_type": "code",
      "source": [
        "fabricantes_mobile[2] = \"Nokia\"\n",
        "print(fabricantes_mobile)"
      ],
      "metadata": {
        "colab": {
          "base_uri": "https://localhost:8080/"
        },
        "id": "EnwJBp5oGFF_",
        "outputId": "1e6689e7-20c7-4c2d-f1db-7a314453ffe7"
      },
      "execution_count": 32,
      "outputs": [
        {
          "output_type": "stream",
          "name": "stdout",
          "text": [
            "['Xiaomi', 'Huawei', 'Nokia', 'Motorola']\n"
          ]
        }
      ]
    },
    {
      "cell_type": "code",
      "source": [
        "juros = [0.05 , 0.07 , 0.02 , 0.04 , 0.08]\n",
        "print(juros)\n"
      ],
      "metadata": {
        "colab": {
          "base_uri": "https://localhost:8080/"
        },
        "id": "5OcueMuLGwpV",
        "outputId": "440d9846-b344-4f5f-a740-0ec6508c1e91"
      },
      "execution_count": 46,
      "outputs": [
        {
          "output_type": "stream",
          "name": "stdout",
          "text": [
            "[0.05, 0.07, 0.02, 0.04, 0.08]\n"
          ]
        }
      ]
    },
    {
      "cell_type": "code",
      "source": [
        "juros.insert(0, 0.010)\n",
        "print(juros)"
      ],
      "metadata": {
        "colab": {
          "base_uri": "https://localhost:8080/"
        },
        "id": "T1bT4xJwG6AO",
        "outputId": "8f5f5057-cd84-4780-8c34-cf5d956bcb5f"
      },
      "execution_count": 55,
      "outputs": [
        {
          "output_type": "stream",
          "name": "stdout",
          "text": [
            "[0.01, 0.05, 0.07, 0.02, 0.04, 0.08, 0.09, 0.09]\n"
          ]
        }
      ]
    },
    {
      "cell_type": "code",
      "source": [
        "juros.append(0.09)\n",
        "print(juros)"
      ],
      "metadata": {
        "colab": {
          "base_uri": "https://localhost:8080/"
        },
        "id": "uFCw8OiGH3vt",
        "outputId": "4aac6111-bd8b-4e92-fc0b-362faf062bdf"
      },
      "execution_count": 56,
      "outputs": [
        {
          "output_type": "stream",
          "name": "stdout",
          "text": [
            "[0.01, 0.05, 0.07, 0.02, 0.04, 0.08, 0.09, 0.09, 0.09]\n"
          ]
        }
      ]
    },
    {
      "cell_type": "code",
      "source": [
        "juros.remove(0.01)\n",
        "print(juros)"
      ],
      "metadata": {
        "colab": {
          "base_uri": "https://localhost:8080/"
        },
        "id": "GpX4i6GMH7AN",
        "outputId": "6f911f0e-5ad7-4a4b-96c8-fd277faf37c7"
      },
      "execution_count": 57,
      "outputs": [
        {
          "output_type": "stream",
          "name": "stdout",
          "text": [
            "[0.05, 0.07, 0.02, 0.04, 0.08, 0.09, 0.09, 0.09]\n"
          ]
        }
      ]
    },
    {
      "cell_type": "code",
      "source": [
        "terceiro_juros = juros.pop(2)\n",
        "print(juros)\n",
        "print(terceiro_juros)"
      ],
      "metadata": {
        "colab": {
          "base_uri": "https://localhost:8080/"
        },
        "id": "1imkPsDZIJKL",
        "outputId": "61656928-34d2-471a-f887-01e2bbd98ba9"
      },
      "execution_count": 58,
      "outputs": [
        {
          "output_type": "stream",
          "name": "stdout",
          "text": [
            "[0.05, 0.07, 0.04, 0.08, 0.09, 0.09, 0.09]\n",
            "0.02\n"
          ]
        }
      ]
    },
    {
      "cell_type": "code",
      "source": [
        "email = \"thiago.g3.ofc@gmail.com\"\n",
        "caracteres_email = list(email)\n",
        "\n",
        "print(email)\n",
        "print(caracteres_email)\n"
      ],
      "metadata": {
        "colab": {
          "base_uri": "https://localhost:8080/"
        },
        "id": "FTagol0FImiQ",
        "outputId": "d13a7240-ebb2-4f9d-8011-05b61fb54ad6"
      },
      "execution_count": 60,
      "outputs": [
        {
          "output_type": "stream",
          "name": "stdout",
          "text": [
            "thiago.g3.ofc@gmail.com\n",
            "['t', 'h', 'i', 'a', 'g', 'o', '.', 'g', '3', '.', 'o', 'f', 'c', '@', 'g', 'm', 'a', 'i', 'l', '.', 'c', 'o', 'm']\n"
          ]
        }
      ]
    },
    {
      "cell_type": "code",
      "source": [
        "dia_11_saldo_inicial = 1000\n",
        "\n",
        "dia_11_transacoes = []\n",
        "\n",
        "dia_11_transacoes.append(243)\n",
        "dia_11_transacoes.append(-798.58)\n",
        "dia_11_transacoes.append(427.12)\n",
        "dia_11_transacoes.append(-10.91)\n",
        "\n",
        "print(dia_11_transacoes)"
      ],
      "metadata": {
        "colab": {
          "base_uri": "https://localhost:8080/"
        },
        "id": "n8ItLmugIz8m",
        "outputId": "2869bd41-df3c-4596-e0ae-17af3981c8cb"
      },
      "execution_count": 65,
      "outputs": [
        {
          "output_type": "stream",
          "name": "stdout",
          "text": [
            "[243, -798.58, 427.12, -10.91]\n"
          ]
        }
      ]
    },
    {
      "cell_type": "code",
      "source": [
        "dia_11_saldo_final = dia_11_saldo_inicial + dia_11_transacoes[0] + dia_11_transacoes[1] + dia_11_transacoes[2] + dia_11_transacoes[3]\n",
        "print(dia_11_saldo_final)"
      ],
      "metadata": {
        "colab": {
          "base_uri": "https://localhost:8080/"
        },
        "id": "NvCPmPAPJbRE",
        "outputId": "ce709943-9234-4da7-fd3c-13c672ee2c2f"
      },
      "execution_count": 67,
      "outputs": [
        {
          "output_type": "stream",
          "name": "stdout",
          "text": [
            "860.63\n"
          ]
        }
      ]
    },
    {
      "cell_type": "code",
      "source": [
        "hashtags_seg = [\"#tiago\" , \"#joao\" , \"#bbb\"]\n",
        "hashtags_ter = [\"#sarah\" , \"#bbb\" , \"#fiuk\"]\n",
        "hashtags_qua = [\"#gil\" , \"#thelma\" , \"#lourdes\"]\n",
        "hashtags_qui = [\"#rafa\" , \"#fora\" , \"#danilo\"]\n",
        "hashtags_sex = [\"#juliete\" , \"#arthur\" , \"#bbb\"]\n"
      ],
      "metadata": {
        "id": "0KQm6KaUKey0"
      },
      "execution_count": 69,
      "outputs": []
    },
    {
      "cell_type": "code",
      "source": [
        "hashtags_semana = hashtags_seg + hashtags_ter + hashtags_qua + hashtags_qui + hashtags_sex\n",
        "print(hashtags_semana)"
      ],
      "metadata": {
        "colab": {
          "base_uri": "https://localhost:8080/"
        },
        "id": "vH_-pmqtLTsg",
        "outputId": "b20d91fb-e094-4c21-ef2a-386d735eed7c"
      },
      "execution_count": 72,
      "outputs": [
        {
          "output_type": "stream",
          "name": "stdout",
          "text": [
            "['#tiago', '#joao', '#bbb', '#sarah', '#bbb', '#fiuk', '#gil', '#thelma', '#lourdes', '#rafa', '#fora', '#danilo', '#juliete', '#arthur', '#bbb']\n"
          ]
        }
      ]
    },
    {
      "cell_type": "code",
      "source": [
        "frutas = {\"banana\" , \"maca\" , \"uva\" , \"uva\"}\n",
        "print(frutas)"
      ],
      "metadata": {
        "colab": {
          "base_uri": "https://localhost:8080/"
        },
        "id": "-8ciQGOXLyFA",
        "outputId": "a78431aa-9d23-4f7e-e208-e9ddcab20e33"
      },
      "execution_count": 75,
      "outputs": [
        {
          "output_type": "stream",
          "name": "stdout",
          "text": [
            "{'maca', 'banana', 'uva'}\n"
          ]
        }
      ]
    },
    {
      "cell_type": "code",
      "source": [
        "norte_europa = {\"reino unido\" , \"suecia\" , \"russia\" , \"noruega\" , \"dinamarca\"}\n",
        "escandinavia = {\"noruega\" , \"dinamarca\" , \"suecia\"}\n"
      ],
      "metadata": {
        "id": "bRtgcPJKLexz"
      },
      "execution_count": 85,
      "outputs": []
    },
    {
      "cell_type": "code",
      "source": [
        "escandinavia_sem_norte_europa = escandinavia - norte_europa\n",
        "print(escandinavia_sem_norte_europa)"
      ],
      "metadata": {
        "colab": {
          "base_uri": "https://localhost:8080/"
        },
        "id": "UhpUPL6wMdmL",
        "outputId": "d1a554ae-cbed-4a02-c5f1-d7c597aace0e"
      },
      "execution_count": 86,
      "outputs": [
        {
          "output_type": "stream",
          "name": "stdout",
          "text": [
            "set()\n"
          ]
        }
      ]
    },
    {
      "cell_type": "code",
      "source": [
        "norte_europa_sem_escandinavia = norte_europa - escandinavia\n",
        "print(norte_europa_sem_escandinavia)"
      ],
      "metadata": {
        "colab": {
          "base_uri": "https://localhost:8080/"
        },
        "id": "d3EAwhLxMj--",
        "outputId": "946c802d-d4c0-4717-93f8-07cae3a6efeb"
      },
      "execution_count": 87,
      "outputs": [
        {
          "output_type": "stream",
          "name": "stdout",
          "text": [
            "{'reino unido', 'russia'}\n"
          ]
        }
      ]
    },
    {
      "cell_type": "code",
      "source": [
        "cursos = {\"Exatas\" , \"Humanas\" , \"Biologicas\"}\n",
        "print(cursos)"
      ],
      "metadata": {
        "colab": {
          "base_uri": "https://localhost:8080/"
        },
        "id": "BEx2VjKmNBh2",
        "outputId": "2f3184a1-3966-47be-937c-7aee6bff9dce"
      },
      "execution_count": 89,
      "outputs": [
        {
          "output_type": "stream",
          "name": "stdout",
          "text": [
            "{'Humanas', 'Exatas', 'Biologicas'}\n"
          ]
        }
      ]
    },
    {
      "cell_type": "code",
      "source": [
        "cursos.add(\"Saude\")\n",
        "print(cursos)"
      ],
      "metadata": {
        "colab": {
          "base_uri": "https://localhost:8080/"
        },
        "id": "6NWP0V6XNJeF",
        "outputId": "586ba6c7-d7a3-4497-c7f8-e2779c898f0c"
      },
      "execution_count": 94,
      "outputs": [
        {
          "output_type": "stream",
          "name": "stdout",
          "text": [
            "{'Humanas', 'Saude', 'Exatas', 'Biologicas'}\n"
          ]
        }
      ]
    },
    {
      "cell_type": "code",
      "source": [
        "cursos.remove(\"Saude\")\n",
        "print(cursos)"
      ],
      "metadata": {
        "colab": {
          "base_uri": "https://localhost:8080/"
        },
        "id": "uJHB1YTSNc5d",
        "outputId": "5a9a162b-3385-4153-ac97-96671195a959"
      },
      "execution_count": 95,
      "outputs": [
        {
          "output_type": "stream",
          "name": "stdout",
          "text": [
            "{'Humanas', 'Exatas', 'Biologicas'}\n"
          ]
        }
      ]
    },
    {
      "cell_type": "code",
      "source": [
        "times_paulistas = {\"São Paulo\" , \"Palmeiras\" , \"Santos\" , \"Corinthians\"}\n",
        "print(times_paulistas)\n",
        "print(type(times_paulistas))"
      ],
      "metadata": {
        "colab": {
          "base_uri": "https://localhost:8080/"
        },
        "id": "4dk9A7STNj0c",
        "outputId": "66b01140-3b81-44e3-9aae-b592d7c93478"
      },
      "execution_count": 97,
      "outputs": [
        {
          "output_type": "stream",
          "name": "stdout",
          "text": [
            "{'Corinthians', 'Santos', 'São Paulo', 'Palmeiras'}\n",
            "<class 'set'>\n"
          ]
        }
      ]
    },
    {
      "cell_type": "code",
      "source": [
        "print(list(times_paulistas))\n",
        "print(type(list(times_paulistas)))"
      ],
      "metadata": {
        "colab": {
          "base_uri": "https://localhost:8080/"
        },
        "id": "EHtoMYGGNw-K",
        "outputId": "dde17d5d-a8a1-4fe8-8a2c-9261c0bac1e6"
      },
      "execution_count": 100,
      "outputs": [
        {
          "output_type": "stream",
          "name": "stdout",
          "text": [
            "['Corinthians', 'Santos', 'São Paulo', 'Palmeiras']\n",
            "<class 'list'>\n"
          ]
        }
      ]
    },
    {
      "cell_type": "code",
      "source": [
        "print(hashtags_semana)\n",
        "print(len(hashtags_semana))"
      ],
      "metadata": {
        "colab": {
          "base_uri": "https://localhost:8080/"
        },
        "id": "Tym55ZgSOVfY",
        "outputId": "afe93cd9-c2d3-47ed-e744-9e7ce91cb957"
      },
      "execution_count": 102,
      "outputs": [
        {
          "output_type": "stream",
          "name": "stdout",
          "text": [
            "['#tiago', '#joao', '#bbb', '#sarah', '#bbb', '#fiuk', '#gil', '#thelma', '#lourdes', '#rafa', '#fora', '#danilo', '#juliete', '#arthur', '#bbb']\n",
            "15\n"
          ]
        }
      ]
    },
    {
      "cell_type": "code",
      "source": [
        "hashtags_semana = list(set(hashtags_seg + hashtags_ter + hashtags_qua + hashtags_qui + hashtags_sex))\n",
        "print(hashtags_semana)\n",
        "print(len(hashtags_semana))"
      ],
      "metadata": {
        "colab": {
          "base_uri": "https://localhost:8080/"
        },
        "id": "VEEWvKYMOc42",
        "outputId": "501b5e7d-16e3-4ebd-d9fb-b3c7b74f9ccf"
      },
      "execution_count": 104,
      "outputs": [
        {
          "output_type": "stream",
          "name": "stdout",
          "text": [
            "['#danilo', '#gil', '#juliete', '#fora', '#joao', '#tiago', '#thelma', '#lourdes', '#arthur', '#fiuk', '#bbb', '#rafa', '#sarah']\n",
            "13\n"
          ]
        }
      ]
    },
    {
      "cell_type": "code",
      "source": [
        "wifi_disponivel = [\"rede1\" , \"cnx_cnx\" , \"uai-fi\" ,\"r3d3\"]\n",
        "print(wifi_disponivel)"
      ],
      "metadata": {
        "colab": {
          "base_uri": "https://localhost:8080/"
        },
        "id": "t85WP9o8PBfg",
        "outputId": "c519ad13-c0e9-418b-8251-fe544685f76a"
      },
      "execution_count": 108,
      "outputs": [
        {
          "output_type": "stream",
          "name": "stdout",
          "text": [
            "['rede1', 'cnx_cnx', 'uai-fi', 'r3d3']\n"
          ]
        }
      ]
    },
    {
      "cell_type": "code",
      "source": [
        "brasil = {\"Capital\" : \"Brasilia\" , \"Idioma\" : \"Portugues\" , \"Populacao\" : 210}\n",
        "print(brasil)\n",
        "print(type(brasil))"
      ],
      "metadata": {
        "colab": {
          "base_uri": "https://localhost:8080/"
        },
        "id": "smmH19IoPYbx",
        "outputId": "23736b83-53b8-498e-c6a1-4ec2f7d7e445"
      },
      "execution_count": 110,
      "outputs": [
        {
          "output_type": "stream",
          "name": "stdout",
          "text": [
            "{'Capital': 'Brasilia', 'Idioma': 'Portugues', 'Populacao': 210}\n",
            "<class 'dict'>\n"
          ]
        }
      ]
    },
    {
      "cell_type": "code",
      "source": [
        "carro = {\"marca\" : \"volkswagem\" ,\n",
        "         \"modelo\" : \"polo\" ,\n",
        "         \"ano_atual\" : 2021 ,\n",
        "         \"ano\" : 2004}\n",
        "\n",
        "print(carro)"
      ],
      "metadata": {
        "colab": {
          "base_uri": "https://localhost:8080/"
        },
        "id": "abHoj5JCPtQA",
        "outputId": "27352249-5657-4501-b6d0-f806bcef8b1f"
      },
      "execution_count": 114,
      "outputs": [
        {
          "output_type": "stream",
          "name": "stdout",
          "text": [
            "{'marca': 'volkswagem', 'modelo': 'polo', 'ano_atual': 2021, 'ano': 2004}\n"
          ]
        }
      ]
    },
    {
      "cell_type": "code",
      "source": [
        "cadastro = {\n",
        "    'andre': {\n",
        "        'nome': 'Andre Perez',\n",
        "        'ano_nascimento': 1992,\n",
        "        'pais': {\n",
        "            'pai': {\n",
        "              'nome': '<nome-do-pai> Perez',\n",
        "              'ano_nascimento': 1971\n",
        "            },\n",
        "            'mae': {\n",
        "              'nome': '<nome-da-mae> Perez',\n",
        "              'ano_nascimento': 1973\n",
        "            },\n",
        "        }\n",
        "    }\n",
        "}\n",
        "\n",
        "print(cadastro)"
      ],
      "metadata": {
        "colab": {
          "base_uri": "https://localhost:8080/"
        },
        "id": "9yeEKZegQJgs",
        "outputId": "f021b667-21cb-4db8-ca21-4b8748f9fba6"
      },
      "execution_count": 116,
      "outputs": [
        {
          "output_type": "stream",
          "name": "stdout",
          "text": [
            "{'andre': {'nome': 'Andre Perez', 'ano_nascimento': 1992, 'pais': {'pai': {'nome': '<nome-do-pai> Perez', 'ano_nascimento': 1971}, 'mae': {'nome': '<nome-da-mae> Perez', 'ano_nascimento': 1973}}}}\n"
          ]
        }
      ]
    },
    {
      "cell_type": "code",
      "source": [
        "cadastro[\"andre\"][\"pais\"][\"mae\"][\"ano_nascimento\"]"
      ],
      "metadata": {
        "colab": {
          "base_uri": "https://localhost:8080/"
        },
        "id": "GWx8ryu6QzU4",
        "outputId": "00ba8d8e-5ae8-4f62-8da7-15a693b23a8a"
      },
      "execution_count": 118,
      "outputs": [
        {
          "output_type": "execute_result",
          "data": {
            "text/plain": [
              "1973"
            ]
          },
          "metadata": {},
          "execution_count": 118
        }
      ]
    },
    {
      "cell_type": "code",
      "source": [
        "credito = {\"123\" : 750 , \"789\" : 980}"
      ],
      "metadata": {
        "id": "RHIvcfTlRAXl"
      },
      "execution_count": 120,
      "outputs": []
    },
    {
      "cell_type": "code",
      "source": [
        "score_123 = credito[\"123\"]\n",
        "score_789 = credito[\"789\"]\n",
        "\n",
        "print(score_123)\n",
        "print(score_789)"
      ],
      "metadata": {
        "colab": {
          "base_uri": "https://localhost:8080/"
        },
        "id": "RtHMbu0xRIPq",
        "outputId": "b143425e-2f2b-43f3-f479-ea6be932ec08"
      },
      "execution_count": 121,
      "outputs": [
        {
          "output_type": "stream",
          "name": "stdout",
          "text": [
            "750\n",
            "980\n"
          ]
        }
      ]
    },
    {
      "cell_type": "code",
      "source": [
        "credito[\"123\"] = 435\n",
        "print(credito)"
      ],
      "metadata": {
        "colab": {
          "base_uri": "https://localhost:8080/"
        },
        "id": "W9_TDjheRXHk",
        "outputId": "44196832-2975-4add-dff5-4b12dd31cf44"
      },
      "execution_count": 122,
      "outputs": [
        {
          "output_type": "stream",
          "name": "stdout",
          "text": [
            "{'123': 435, '789': 980}\n"
          ]
        }
      ]
    },
    {
      "cell_type": "code",
      "source": [
        "credito[\"456\"] = 1000\n",
        "print(credito)"
      ],
      "metadata": {
        "colab": {
          "base_uri": "https://localhost:8080/"
        },
        "id": "kzM9RFLURXBG",
        "outputId": "a5092733-c227-4c14-eef1-f97f4ce4cada"
      },
      "execution_count": 124,
      "outputs": [
        {
          "output_type": "stream",
          "name": "stdout",
          "text": [
            "{'123': 435, '789': 980, '456': 1000}\n"
          ]
        }
      ]
    },
    {
      "cell_type": "code",
      "source": [
        "artigo = dict(\n",
        "    titulo = \"Modulo 02 | Python : Estruturas de dados\" ,\n",
        "    corpo = \"Topicos, Aulas, Listas, Conjuntos, Dicionarios,...\",\n",
        "    total_caracteres=1530\n",
        ")"
      ],
      "metadata": {
        "id": "fY8Ac6QwRh_4"
      },
      "execution_count": 127,
      "outputs": []
    },
    {
      "cell_type": "code",
      "source": [
        "print(artigo)\n",
        "artigo.update({\"total_caracteres\" : 7850})\n",
        "print(artigo)"
      ],
      "metadata": {
        "colab": {
          "base_uri": "https://localhost:8080/"
        },
        "id": "lp5wdRgJSkf0",
        "outputId": "0ddc852f-efc1-4a89-a85e-641b8f36aa7b"
      },
      "execution_count": 132,
      "outputs": [
        {
          "output_type": "stream",
          "name": "stdout",
          "text": [
            "{'titulo': 'Modulo 02 | Python : Estruturas de dados', 'corpo': 'Topicos, Aulas, Listas, Conjuntos, Dicionarios,...'}\n",
            "{'titulo': 'Modulo 02 | Python : Estruturas de dados', 'corpo': 'Topicos, Aulas, Listas, Conjuntos, Dicionarios,...', 'total_caracteres': 7850}\n"
          ]
        }
      ]
    },
    {
      "cell_type": "code",
      "source": [
        "print(artigo)\n",
        "artigo.pop(\"total_caracteres\")\n",
        "print(artigo)"
      ],
      "metadata": {
        "colab": {
          "base_uri": "https://localhost:8080/"
        },
        "id": "qGyJhZSdS90a",
        "outputId": "250fea8a-7a4f-49a7-e625-3403547ca33d"
      },
      "execution_count": 133,
      "outputs": [
        {
          "output_type": "stream",
          "name": "stdout",
          "text": [
            "{'titulo': 'Modulo 02 | Python : Estruturas de dados', 'corpo': 'Topicos, Aulas, Listas, Conjuntos, Dicionarios,...', 'total_caracteres': 7850}\n",
            "{'titulo': 'Modulo 02 | Python : Estruturas de dados', 'corpo': 'Topicos, Aulas, Listas, Conjuntos, Dicionarios,...'}\n"
          ]
        }
      ]
    },
    {
      "cell_type": "code",
      "source": [
        "artigo = {\n",
        "    \"titulo\" : \"Modulo 02 | Python : Estruturas de dados\" ,\n",
        "    \"corpo\" : \"Topicos, Aulas, Listas, Conjuntos, Dicionarios,...\",\n",
        "    \"total_caracteres \": 1530\n",
        "}"
      ],
      "metadata": {
        "id": "Sod09rmcTjqm"
      },
      "execution_count": 135,
      "outputs": []
    },
    {
      "cell_type": "code",
      "source": [
        "chaves = list(artigo.keys())\n",
        "print(chaves)\n",
        "print(type(chaves))"
      ],
      "metadata": {
        "colab": {
          "base_uri": "https://localhost:8080/"
        },
        "id": "6iSt8GRPTykC",
        "outputId": "fbe5b9c8-1f7f-4fb7-afd2-ddff15f3d1ec"
      },
      "execution_count": 137,
      "outputs": [
        {
          "output_type": "stream",
          "name": "stdout",
          "text": [
            "['titulo', 'corpo', 'total_caracteres ']\n",
            "<class 'list'>\n"
          ]
        }
      ]
    },
    {
      "cell_type": "code",
      "source": [
        "valores = list(artigo.values())\n",
        "print(valores)\n",
        "print(type(valores))"
      ],
      "metadata": {
        "colab": {
          "base_uri": "https://localhost:8080/"
        },
        "id": "1hTS7nNjT7GE",
        "outputId": "aee4f33e-5a63-4b1f-deaf-861e135fa6cf"
      },
      "execution_count": 139,
      "outputs": [
        {
          "output_type": "stream",
          "name": "stdout",
          "text": [
            "['Modulo 02 | Python : Estruturas de dados', 'Topicos, Aulas, Listas, Conjuntos, Dicionarios,...', 1530]\n",
            "<class 'list'>\n"
          ]
        }
      ]
    },
    {
      "cell_type": "code",
      "source": [
        "wifi_disponiveis = []\n",
        "\n",
        "rede = {\"nome\" : \"rede1\" , \"senha\" : \"cnx_cnx\"}\n",
        "wifi_disponiveis.append(rede)\n"
      ],
      "metadata": {
        "id": "xoc0qXFdUV-l"
      },
      "execution_count": 142,
      "outputs": []
    },
    {
      "cell_type": "code",
      "source": [
        "rede = {\"nome\" : \"uai-fi\" , \"senha\" : \"r3d3\"}\n",
        "wifi_disponiveis.append(rede)\n"
      ],
      "metadata": {
        "id": "UJjVAEO2UsNB"
      },
      "execution_count": 143,
      "outputs": []
    },
    {
      "cell_type": "code",
      "source": [
        "print(wifi_disponiveis)"
      ],
      "metadata": {
        "colab": {
          "base_uri": "https://localhost:8080/"
        },
        "id": "YwVkGDjtU4JG",
        "outputId": "4743b207-8a3e-433a-d9b4-8418f88a0907"
      },
      "execution_count": 144,
      "outputs": [
        {
          "output_type": "stream",
          "name": "stdout",
          "text": [
            "[{'nome': 'rede1', 'senha': 'cnx_cnx'}, {'nome': 'uai-fi', 'senha': 'r3d3'}]\n"
          ]
        }
      ]
    }
  ]
}