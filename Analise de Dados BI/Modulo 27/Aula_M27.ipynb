{
  "nbformat": 4,
  "nbformat_minor": 0,
  "metadata": {
    "colab": {
      "provenance": []
    },
    "kernelspec": {
      "name": "python3",
      "display_name": "Python 3"
    }
  },
  "cells": [
    {
      "cell_type": "markdown",
      "metadata": {
        "id": "KJqp9AANOCtf"
      },
      "source": [
        "<img src=\"https://raw.githubusercontent.com/andre-marcos-perez/ebac-course-utils/main/media/logo/newebac_logo_black_half.png\" alt=\"ebac-logo\">\n",
        "\n",
        "---\n",
        "\n",
        "# **Módulo** | Análise de Dados: Visualização Interativa de Dados\n",
        "Caderno de **Aula**<br>\n",
        "Professor [André Perez](https://www.linkedin.com/in/andremarcosperez/)\n",
        "\n",
        "---"
      ]
    },
    {
      "cell_type": "markdown",
      "metadata": {
        "id": "d9jDtUbDOE1-"
      },
      "source": [
        "# **Tópicos**\n",
        "\n",
        "<ol type=\"1\">\n",
        "  <li>Google Data Studio;</li>\n",
        "  <li>Dados;</li>\n",
        "  <li>Relatório.</li>\n",
        "</ol>"
      ]
    },
    {
      "cell_type": "markdown",
      "metadata": {
        "id": "SmoHgt-lwkpD"
      },
      "source": [
        "---"
      ]
    },
    {
      "cell_type": "markdown",
      "metadata": {
        "id": "GABI6OW8OfQ2"
      },
      "source": [
        "# **Aulas**"
      ]
    },
    {
      "cell_type": "markdown",
      "metadata": {
        "id": "muD1vxozykSC"
      },
      "source": [
        "## 1\\. Google Data Studio"
      ]
    },
    {
      "cell_type": "markdown",
      "metadata": {
        "id": "MHESfVrl-rPV"
      },
      "source": [
        "### **1.1. Inteligência de negócio**"
      ]
    },
    {
      "cell_type": "markdown",
      "source": [
        "> Inteligência de negócio, do inglês *Business Intelligenc*e (BI), é uma especialidade da análise de dados que busca facilitar o acesso a informação para tomada de decisão através de ferramentas de visualização interativa de dados."
      ],
      "metadata": {
        "id": "caKO04G0tzxc"
      }
    },
    {
      "cell_type": "markdown",
      "metadata": {
        "id": "UrsxlQhH7WrD"
      },
      "source": [
        "Um dos objetivos da área é a definição (e exposição) de **indicadores chaves de desempenho** (*key performance indicato*r ou KPI) e facilitação do uso da **análise exploratória de dados** (*exploratory data analysis* ou EDA) de forma interativa para usuário de negócio (geralmente não técnicos) através do uso de ferramentas de BI."
      ]
    },
    {
      "cell_type": "markdown",
      "source": [
        "### **1.2. Ferramentas de BI**"
      ],
      "metadata": {
        "id": "uBq6aQxeB4r0"
      }
    },
    {
      "cell_type": "markdown",
      "source": [
        "As ferramentas líderes de mercado são o [Tableau](https://www.tableau.com) e o [Microsoft Power BI](https://powerbi.microsoft.com/), ambas pagas com uma limitada versão gratuita. Neste curso utilizaremos o [Google Data Studio](https://datastudio.google.com/) que apresenta uma versão completa e gratuita."
      ],
      "metadata": {
        "id": "soKC-e5CEzJS"
      }
    },
    {
      "cell_type": "markdown",
      "source": [
        "### **1.3. Termos técnicos**"
      ],
      "metadata": {
        "id": "oo-6n3_GH0CT"
      }
    },
    {
      "cell_type": "markdown",
      "source": [
        "Diferentes ferramentas de visualização interativa de dados utilizam um conjunto de termos técnicos comun para construção de painéis de dados:"
      ],
      "metadata": {
        "id": "q9Kj_d3c3Hmd"
      }
    },
    {
      "cell_type": "markdown",
      "source": [
        " - **Relatório** (*report*): o painel de dados (*dashboard*);\n",
        " - **Fonte de dados** (*data source*): conjunto de dados usado nas visualizações de dados do painel;\n",
        " - **Dimensões** (*dimensions*): coluna do conjunto de dados;\n",
        " - **Métricas** (*metrics*): operação de agregação aplicada a uma ou mais dimensões (soma, média, etc.)."
      ],
      "metadata": {
        "id": "WuCGTBN6B_xw"
      }
    },
    {
      "cell_type": "markdown",
      "source": [
        "### **1.4. Google Data Studio**"
      ],
      "metadata": {
        "id": "U1BmqEkp2-Kh"
      }
    },
    {
      "cell_type": "markdown",
      "source": [
        "O Data Studio é uma ferramenta *online* e gratuita de visualização interativa de dados da Google. Para ter acesso a ferramenta, basta ter um conta Google e clicar neste [link](https://datastudio.google.com/). As duas principais ferramentas são:\n",
        "\n",
        " - **Reports** para criar painéis de dados;\n",
        " - **Data source** para criar conectar painéis a fontes de dados."
      ],
      "metadata": {
        "id": "tXy4jf7U3K1T"
      }
    },
    {
      "cell_type": "markdown",
      "source": [
        "## 2\\. Dados"
      ],
      "metadata": {
        "id": "EkVv4SCzIrxS"
      }
    },
    {
      "cell_type": "markdown",
      "source": [
        "Neste módulo, vamos analisar dados sobre o a população mundial, em milhares de habitantes, entre os anos de 1950 e 2021. O conjunto de dados está neste [link](https://raw.githubusercontent.com/andre-marcos-perez/ebac-course-utils/main/dataset/world-population.csv) e foi inspirado no conjunto de dados (compilados pelas nações unidas, sobre o tema do Kaggle, presente neste [link](https://www.kaggle.com/ahmethoso/wpp-population-by-age-and-sex?select=PopulationByAgeSex.csv). O painel de dados é o destino final dos dados, logo, todo o processo de manipulação deve ser feito a priori."
      ],
      "metadata": {
        "id": "5qb_q_g0W1xq"
      }
    },
    {
      "cell_type": "code",
      "metadata": {
        "id": "1X3WC_QYUlAz"
      },
      "source": [
        "import pandas as pd\n",
        "from datetime import datetime"
      ],
      "execution_count": 1,
      "outputs": []
    },
    {
      "cell_type": "markdown",
      "source": [
        "### **2.1. Extração**"
      ],
      "metadata": {
        "id": "aP2Dlk9kOqCf"
      }
    },
    {
      "cell_type": "markdown",
      "source": [
        "Nesta etapa, vamos extrair os dados da fonte de dados original e avaliar a sua qualidade."
      ],
      "metadata": {
        "id": "8L5p6NGWaeSi"
      }
    },
    {
      "cell_type": "code",
      "metadata": {
        "id": "DY7ouJfRTew7"
      },
      "source": [
        "!wget -q 'https://raw.githubusercontent.com/andre-marcos-perez/ebac-course-utils/main/dataset/world-population.csv' -O 'world_population.csv'"
      ],
      "execution_count": 2,
      "outputs": []
    },
    {
      "cell_type": "code",
      "metadata": {
        "id": "G8nM5lc0USbd"
      },
      "source": [
        "data = pd.read_csv('world_population.csv', sep=',', parse_dates=[2], infer_datetime_format=True)"
      ],
      "execution_count": 3,
      "outputs": []
    },
    {
      "cell_type": "code",
      "metadata": {
        "id": "UCLtev1dUnuY",
        "colab": {
          "base_uri": "https://localhost:8080/",
          "height": 201
        },
        "outputId": "61e7b362-b21b-44ef-a945-a79d55367059"
      },
      "source": [
        "data.head()"
      ],
      "execution_count": 4,
      "outputs": [
        {
          "output_type": "execute_result",
          "data": {
            "text/plain": [
              "   id     location       time     child  adolescent     adult      old  \\\n",
              "0   1  Afghanistan 1950-01-01  3179.867     783.732  3398.243  390.275   \n",
              "1   2  Afghanistan 1951-01-01  3235.425     790.341  3418.766  395.619   \n",
              "2   3  Afghanistan 1952-01-01  3281.624     801.420  3452.410  400.542   \n",
              "3   4  Afghanistan 1953-01-01  3327.335     814.914  3493.155  404.280   \n",
              "4   5  Afghanistan 1954-01-01  3376.382     829.684  3538.851  406.399   \n",
              "\n",
              "       male    female     total  \n",
              "0  4099.243  3652.874  7752.117  \n",
              "1  4134.756  3705.395  7840.151  \n",
              "2  4174.450  3761.546  7935.996  \n",
              "3  4218.336  3821.348  8039.684  \n",
              "4  4266.484  3884.832  8151.316  "
            ],
            "text/html": [
              "\n",
              "  <div id=\"df-2f173529-448d-429b-8812-ff5ceb6bc7b8\" class=\"colab-df-container\">\n",
              "    <div>\n",
              "<style scoped>\n",
              "    .dataframe tbody tr th:only-of-type {\n",
              "        vertical-align: middle;\n",
              "    }\n",
              "\n",
              "    .dataframe tbody tr th {\n",
              "        vertical-align: top;\n",
              "    }\n",
              "\n",
              "    .dataframe thead th {\n",
              "        text-align: right;\n",
              "    }\n",
              "</style>\n",
              "<table border=\"1\" class=\"dataframe\">\n",
              "  <thead>\n",
              "    <tr style=\"text-align: right;\">\n",
              "      <th></th>\n",
              "      <th>id</th>\n",
              "      <th>location</th>\n",
              "      <th>time</th>\n",
              "      <th>child</th>\n",
              "      <th>adolescent</th>\n",
              "      <th>adult</th>\n",
              "      <th>old</th>\n",
              "      <th>male</th>\n",
              "      <th>female</th>\n",
              "      <th>total</th>\n",
              "    </tr>\n",
              "  </thead>\n",
              "  <tbody>\n",
              "    <tr>\n",
              "      <th>0</th>\n",
              "      <td>1</td>\n",
              "      <td>Afghanistan</td>\n",
              "      <td>1950-01-01</td>\n",
              "      <td>3179.867</td>\n",
              "      <td>783.732</td>\n",
              "      <td>3398.243</td>\n",
              "      <td>390.275</td>\n",
              "      <td>4099.243</td>\n",
              "      <td>3652.874</td>\n",
              "      <td>7752.117</td>\n",
              "    </tr>\n",
              "    <tr>\n",
              "      <th>1</th>\n",
              "      <td>2</td>\n",
              "      <td>Afghanistan</td>\n",
              "      <td>1951-01-01</td>\n",
              "      <td>3235.425</td>\n",
              "      <td>790.341</td>\n",
              "      <td>3418.766</td>\n",
              "      <td>395.619</td>\n",
              "      <td>4134.756</td>\n",
              "      <td>3705.395</td>\n",
              "      <td>7840.151</td>\n",
              "    </tr>\n",
              "    <tr>\n",
              "      <th>2</th>\n",
              "      <td>3</td>\n",
              "      <td>Afghanistan</td>\n",
              "      <td>1952-01-01</td>\n",
              "      <td>3281.624</td>\n",
              "      <td>801.420</td>\n",
              "      <td>3452.410</td>\n",
              "      <td>400.542</td>\n",
              "      <td>4174.450</td>\n",
              "      <td>3761.546</td>\n",
              "      <td>7935.996</td>\n",
              "    </tr>\n",
              "    <tr>\n",
              "      <th>3</th>\n",
              "      <td>4</td>\n",
              "      <td>Afghanistan</td>\n",
              "      <td>1953-01-01</td>\n",
              "      <td>3327.335</td>\n",
              "      <td>814.914</td>\n",
              "      <td>3493.155</td>\n",
              "      <td>404.280</td>\n",
              "      <td>4218.336</td>\n",
              "      <td>3821.348</td>\n",
              "      <td>8039.684</td>\n",
              "    </tr>\n",
              "    <tr>\n",
              "      <th>4</th>\n",
              "      <td>5</td>\n",
              "      <td>Afghanistan</td>\n",
              "      <td>1954-01-01</td>\n",
              "      <td>3376.382</td>\n",
              "      <td>829.684</td>\n",
              "      <td>3538.851</td>\n",
              "      <td>406.399</td>\n",
              "      <td>4266.484</td>\n",
              "      <td>3884.832</td>\n",
              "      <td>8151.316</td>\n",
              "    </tr>\n",
              "  </tbody>\n",
              "</table>\n",
              "</div>\n",
              "    <div class=\"colab-df-buttons\">\n",
              "\n",
              "  <div class=\"colab-df-container\">\n",
              "    <button class=\"colab-df-convert\" onclick=\"convertToInteractive('df-2f173529-448d-429b-8812-ff5ceb6bc7b8')\"\n",
              "            title=\"Convert this dataframe to an interactive table.\"\n",
              "            style=\"display:none;\">\n",
              "\n",
              "  <svg xmlns=\"http://www.w3.org/2000/svg\" height=\"24px\" viewBox=\"0 -960 960 960\">\n",
              "    <path d=\"M120-120v-720h720v720H120Zm60-500h600v-160H180v160Zm220 220h160v-160H400v160Zm0 220h160v-160H400v160ZM180-400h160v-160H180v160Zm440 0h160v-160H620v160ZM180-180h160v-160H180v160Zm440 0h160v-160H620v160Z\"/>\n",
              "  </svg>\n",
              "    </button>\n",
              "\n",
              "  <style>\n",
              "    .colab-df-container {\n",
              "      display:flex;\n",
              "      gap: 12px;\n",
              "    }\n",
              "\n",
              "    .colab-df-convert {\n",
              "      background-color: #E8F0FE;\n",
              "      border: none;\n",
              "      border-radius: 50%;\n",
              "      cursor: pointer;\n",
              "      display: none;\n",
              "      fill: #1967D2;\n",
              "      height: 32px;\n",
              "      padding: 0 0 0 0;\n",
              "      width: 32px;\n",
              "    }\n",
              "\n",
              "    .colab-df-convert:hover {\n",
              "      background-color: #E2EBFA;\n",
              "      box-shadow: 0px 1px 2px rgba(60, 64, 67, 0.3), 0px 1px 3px 1px rgba(60, 64, 67, 0.15);\n",
              "      fill: #174EA6;\n",
              "    }\n",
              "\n",
              "    .colab-df-buttons div {\n",
              "      margin-bottom: 4px;\n",
              "    }\n",
              "\n",
              "    [theme=dark] .colab-df-convert {\n",
              "      background-color: #3B4455;\n",
              "      fill: #D2E3FC;\n",
              "    }\n",
              "\n",
              "    [theme=dark] .colab-df-convert:hover {\n",
              "      background-color: #434B5C;\n",
              "      box-shadow: 0px 1px 3px 1px rgba(0, 0, 0, 0.15);\n",
              "      filter: drop-shadow(0px 1px 2px rgba(0, 0, 0, 0.3));\n",
              "      fill: #FFFFFF;\n",
              "    }\n",
              "  </style>\n",
              "\n",
              "    <script>\n",
              "      const buttonEl =\n",
              "        document.querySelector('#df-2f173529-448d-429b-8812-ff5ceb6bc7b8 button.colab-df-convert');\n",
              "      buttonEl.style.display =\n",
              "        google.colab.kernel.accessAllowed ? 'block' : 'none';\n",
              "\n",
              "      async function convertToInteractive(key) {\n",
              "        const element = document.querySelector('#df-2f173529-448d-429b-8812-ff5ceb6bc7b8');\n",
              "        const dataTable =\n",
              "          await google.colab.kernel.invokeFunction('convertToInteractive',\n",
              "                                                    [key], {});\n",
              "        if (!dataTable) return;\n",
              "\n",
              "        const docLinkHtml = 'Like what you see? Visit the ' +\n",
              "          '<a target=\"_blank\" href=https://colab.research.google.com/notebooks/data_table.ipynb>data table notebook</a>'\n",
              "          + ' to learn more about interactive tables.';\n",
              "        element.innerHTML = '';\n",
              "        dataTable['output_type'] = 'display_data';\n",
              "        await google.colab.output.renderOutput(dataTable, element);\n",
              "        const docLink = document.createElement('div');\n",
              "        docLink.innerHTML = docLinkHtml;\n",
              "        element.appendChild(docLink);\n",
              "      }\n",
              "    </script>\n",
              "  </div>\n",
              "\n",
              "\n",
              "<div id=\"df-9d167b47-bbf5-43be-9943-36f5cc7bf331\">\n",
              "  <button class=\"colab-df-quickchart\" onclick=\"quickchart('df-9d167b47-bbf5-43be-9943-36f5cc7bf331')\"\n",
              "            title=\"Suggest charts\"\n",
              "            style=\"display:none;\">\n",
              "\n",
              "<svg xmlns=\"http://www.w3.org/2000/svg\" height=\"24px\"viewBox=\"0 0 24 24\"\n",
              "     width=\"24px\">\n",
              "    <g>\n",
              "        <path d=\"M19 3H5c-1.1 0-2 .9-2 2v14c0 1.1.9 2 2 2h14c1.1 0 2-.9 2-2V5c0-1.1-.9-2-2-2zM9 17H7v-7h2v7zm4 0h-2V7h2v10zm4 0h-2v-4h2v4z\"/>\n",
              "    </g>\n",
              "</svg>\n",
              "  </button>\n",
              "\n",
              "<style>\n",
              "  .colab-df-quickchart {\n",
              "      --bg-color: #E8F0FE;\n",
              "      --fill-color: #1967D2;\n",
              "      --hover-bg-color: #E2EBFA;\n",
              "      --hover-fill-color: #174EA6;\n",
              "      --disabled-fill-color: #AAA;\n",
              "      --disabled-bg-color: #DDD;\n",
              "  }\n",
              "\n",
              "  [theme=dark] .colab-df-quickchart {\n",
              "      --bg-color: #3B4455;\n",
              "      --fill-color: #D2E3FC;\n",
              "      --hover-bg-color: #434B5C;\n",
              "      --hover-fill-color: #FFFFFF;\n",
              "      --disabled-bg-color: #3B4455;\n",
              "      --disabled-fill-color: #666;\n",
              "  }\n",
              "\n",
              "  .colab-df-quickchart {\n",
              "    background-color: var(--bg-color);\n",
              "    border: none;\n",
              "    border-radius: 50%;\n",
              "    cursor: pointer;\n",
              "    display: none;\n",
              "    fill: var(--fill-color);\n",
              "    height: 32px;\n",
              "    padding: 0;\n",
              "    width: 32px;\n",
              "  }\n",
              "\n",
              "  .colab-df-quickchart:hover {\n",
              "    background-color: var(--hover-bg-color);\n",
              "    box-shadow: 0 1px 2px rgba(60, 64, 67, 0.3), 0 1px 3px 1px rgba(60, 64, 67, 0.15);\n",
              "    fill: var(--button-hover-fill-color);\n",
              "  }\n",
              "\n",
              "  .colab-df-quickchart-complete:disabled,\n",
              "  .colab-df-quickchart-complete:disabled:hover {\n",
              "    background-color: var(--disabled-bg-color);\n",
              "    fill: var(--disabled-fill-color);\n",
              "    box-shadow: none;\n",
              "  }\n",
              "\n",
              "  .colab-df-spinner {\n",
              "    border: 2px solid var(--fill-color);\n",
              "    border-color: transparent;\n",
              "    border-bottom-color: var(--fill-color);\n",
              "    animation:\n",
              "      spin 1s steps(1) infinite;\n",
              "  }\n",
              "\n",
              "  @keyframes spin {\n",
              "    0% {\n",
              "      border-color: transparent;\n",
              "      border-bottom-color: var(--fill-color);\n",
              "      border-left-color: var(--fill-color);\n",
              "    }\n",
              "    20% {\n",
              "      border-color: transparent;\n",
              "      border-left-color: var(--fill-color);\n",
              "      border-top-color: var(--fill-color);\n",
              "    }\n",
              "    30% {\n",
              "      border-color: transparent;\n",
              "      border-left-color: var(--fill-color);\n",
              "      border-top-color: var(--fill-color);\n",
              "      border-right-color: var(--fill-color);\n",
              "    }\n",
              "    40% {\n",
              "      border-color: transparent;\n",
              "      border-right-color: var(--fill-color);\n",
              "      border-top-color: var(--fill-color);\n",
              "    }\n",
              "    60% {\n",
              "      border-color: transparent;\n",
              "      border-right-color: var(--fill-color);\n",
              "    }\n",
              "    80% {\n",
              "      border-color: transparent;\n",
              "      border-right-color: var(--fill-color);\n",
              "      border-bottom-color: var(--fill-color);\n",
              "    }\n",
              "    90% {\n",
              "      border-color: transparent;\n",
              "      border-bottom-color: var(--fill-color);\n",
              "    }\n",
              "  }\n",
              "</style>\n",
              "\n",
              "  <script>\n",
              "    async function quickchart(key) {\n",
              "      const quickchartButtonEl =\n",
              "        document.querySelector('#' + key + ' button');\n",
              "      quickchartButtonEl.disabled = true;  // To prevent multiple clicks.\n",
              "      quickchartButtonEl.classList.add('colab-df-spinner');\n",
              "      try {\n",
              "        const charts = await google.colab.kernel.invokeFunction(\n",
              "            'suggestCharts', [key], {});\n",
              "      } catch (error) {\n",
              "        console.error('Error during call to suggestCharts:', error);\n",
              "      }\n",
              "      quickchartButtonEl.classList.remove('colab-df-spinner');\n",
              "      quickchartButtonEl.classList.add('colab-df-quickchart-complete');\n",
              "    }\n",
              "    (() => {\n",
              "      let quickchartButtonEl =\n",
              "        document.querySelector('#df-9d167b47-bbf5-43be-9943-36f5cc7bf331 button');\n",
              "      quickchartButtonEl.style.display =\n",
              "        google.colab.kernel.accessAllowed ? 'block' : 'none';\n",
              "    })();\n",
              "  </script>\n",
              "</div>\n",
              "\n",
              "    </div>\n",
              "  </div>\n"
            ]
          },
          "metadata": {},
          "execution_count": 4
        }
      ]
    },
    {
      "cell_type": "code",
      "metadata": {
        "id": "jd0QLT5P-zkh",
        "colab": {
          "base_uri": "https://localhost:8080/"
        },
        "outputId": "0adbfd06-3dc7-4872-e284-07c51f2f4daa"
      },
      "source": [
        "data.shape"
      ],
      "execution_count": 5,
      "outputs": [
        {
          "output_type": "execute_result",
          "data": {
            "text/plain": [
              "(14040, 10)"
            ]
          },
          "metadata": {},
          "execution_count": 5
        }
      ]
    },
    {
      "cell_type": "code",
      "metadata": {
        "id": "4RNfnnUZW6DY",
        "colab": {
          "base_uri": "https://localhost:8080/"
        },
        "outputId": "645ca243-1137-4336-c04d-a633057f7c32"
      },
      "source": [
        "data.info()"
      ],
      "execution_count": 6,
      "outputs": [
        {
          "output_type": "stream",
          "name": "stdout",
          "text": [
            "<class 'pandas.core.frame.DataFrame'>\n",
            "RangeIndex: 14040 entries, 0 to 14039\n",
            "Data columns (total 10 columns):\n",
            " #   Column      Non-Null Count  Dtype         \n",
            "---  ------      --------------  -----         \n",
            " 0   id          14040 non-null  int64         \n",
            " 1   location    14040 non-null  object        \n",
            " 2   time        14040 non-null  datetime64[ns]\n",
            " 3   child       14040 non-null  float64       \n",
            " 4   adolescent  14040 non-null  float64       \n",
            " 5   adult       14040 non-null  float64       \n",
            " 6   old         14040 non-null  float64       \n",
            " 7   male        14040 non-null  float64       \n",
            " 8   female      14040 non-null  float64       \n",
            " 9   total       14040 non-null  float64       \n",
            "dtypes: datetime64[ns](1), float64(7), int64(1), object(1)\n",
            "memory usage: 1.1+ MB\n"
          ]
        }
      ]
    },
    {
      "cell_type": "markdown",
      "source": [
        "### **2.2. Transformação**"
      ],
      "metadata": {
        "id": "ndJlwEdGpvRO"
      }
    },
    {
      "cell_type": "markdown",
      "source": [
        "Vamos então aplicar uma série de transformações para limpar e pre-processar a base de dados."
      ],
      "metadata": {
        "id": "4KimqDnGbHbI"
      }
    },
    {
      "cell_type": "markdown",
      "source": [
        " - Descartar a coluna `id`:"
      ],
      "metadata": {
        "id": "cgWn-1lZqsVB"
      }
    },
    {
      "cell_type": "code",
      "source": [
        "data = data.drop(['id'], axis=1)"
      ],
      "metadata": {
        "id": "G66lP6tOqya_"
      },
      "execution_count": 7,
      "outputs": []
    },
    {
      "cell_type": "markdown",
      "source": [
        " - Renomear a coluna `location` para `country` e `time` para `date`:"
      ],
      "metadata": {
        "id": "yTl6ew9kq5DP"
      }
    },
    {
      "cell_type": "code",
      "source": [
        "data = data.rename(columns={'location': 'country', 'time': 'date'})"
      ],
      "metadata": {
        "id": "JhMCbw3qrAvW"
      },
      "execution_count": 8,
      "outputs": []
    },
    {
      "cell_type": "markdown",
      "source": [
        " - Ajustar a coluna `date` para o [formato](https://support.google.com/datastudio/answer/6401549?hl=en#zippy=%2Cin-this-article) do Google Data Studio:"
      ],
      "metadata": {
        "id": "rj4MUFnXUaqZ"
      }
    },
    {
      "cell_type": "code",
      "source": [
        "data['date'] = data['date'].apply(lambda num: datetime.strftime(num, '%b %d, %Y'))"
      ],
      "metadata": {
        "id": "1w9pQ8d_UCJO"
      },
      "execution_count": 9,
      "outputs": []
    },
    {
      "cell_type": "markdown",
      "source": [
        " - Adicionar valores relativos as colunas de população parcial:"
      ],
      "metadata": {
        "id": "a4fIGAEpqL5S"
      }
    },
    {
      "cell_type": "code",
      "source": [
        "data['child_perc'] = 100 * data['child'] / data['total']\n",
        "data['adolescent_perc'] = 100 * data['adolescent'] / data['total']\n",
        "data['adult_perc'] = 100 * data['adult'] / data['total']\n",
        "data['old_perc'] = 100 * data['old'] / data['total']"
      ],
      "metadata": {
        "id": "Aonn3kZTrpD0"
      },
      "execution_count": 10,
      "outputs": []
    },
    {
      "cell_type": "code",
      "source": [
        "data['male_perc'] = 100 * data['male'] / data['total']\n",
        "data['female_perc'] = 100 * data['female'] / data['total']"
      ],
      "metadata": {
        "id": "CwiT_asZrz34"
      },
      "execution_count": 11,
      "outputs": []
    },
    {
      "cell_type": "markdown",
      "source": [
        " - Arredondar todas as colunas de população para duas casas decimais:"
      ],
      "metadata": {
        "id": "9MyeAHRltnUX"
      }
    },
    {
      "cell_type": "code",
      "source": [
        "for col in data.columns:\n",
        "  if col not in ['date', 'country']:\n",
        "    data[col] = data[col].apply(lambda num: round(num, 2))"
      ],
      "metadata": {
        "id": "01GDoMubtmRy"
      },
      "execution_count": 12,
      "outputs": []
    },
    {
      "cell_type": "markdown",
      "source": [
        " - Reorganizar as colunas:"
      ],
      "metadata": {
        "id": "BU8ks3JBsFj8"
      }
    },
    {
      "cell_type": "code",
      "source": [
        "data = data[['date', 'country', 'total', 'male', 'male_perc', 'female',\t'female_perc', 'child', 'child_perc', 'adolescent', 'adolescent_perc', 'adult', 'adult_perc', 'old', 'old_perc']]"
      ],
      "metadata": {
        "id": "yoLy-J3vsOf6"
      },
      "execution_count": 13,
      "outputs": []
    },
    {
      "cell_type": "markdown",
      "source": [
        "Vamos conferir o resultado final."
      ],
      "metadata": {
        "id": "-pCTvYw-sJ-I"
      }
    },
    {
      "cell_type": "code",
      "source": [
        "data.head()"
      ],
      "metadata": {
        "id": "d2urw_u-rmOe",
        "colab": {
          "base_uri": "https://localhost:8080/",
          "height": 201
        },
        "outputId": "bb188114-df76-4c17-9d5c-78dc849c244d"
      },
      "execution_count": 14,
      "outputs": [
        {
          "output_type": "execute_result",
          "data": {
            "text/plain": [
              "           date      country    total     male  male_perc   female  \\\n",
              "0  Jan 01, 1950  Afghanistan  7752.12  4099.24      52.88  3652.87   \n",
              "1  Jan 01, 1951  Afghanistan  7840.15  4134.76      52.74  3705.39   \n",
              "2  Jan 01, 1952  Afghanistan  7936.00  4174.45      52.60  3761.55   \n",
              "3  Jan 01, 1953  Afghanistan  8039.68  4218.34      52.47  3821.35   \n",
              "4  Jan 01, 1954  Afghanistan  8151.32  4266.48      52.34  3884.83   \n",
              "\n",
              "   female_perc    child  child_perc  adolescent  adolescent_perc    adult  \\\n",
              "0        47.12  3179.87       41.02      783.73            10.11  3398.24   \n",
              "1        47.26  3235.43       41.27      790.34            10.08  3418.77   \n",
              "2        47.40  3281.62       41.35      801.42            10.10  3452.41   \n",
              "3        47.53  3327.34       41.39      814.91            10.14  3493.16   \n",
              "4        47.66  3376.38       41.42      829.68            10.18  3538.85   \n",
              "\n",
              "   adult_perc     old  old_perc  \n",
              "0       43.84  390.27      5.03  \n",
              "1       43.61  395.62      5.05  \n",
              "2       43.50  400.54      5.05  \n",
              "3       43.45  404.28      5.03  \n",
              "4       43.41  406.40      4.99  "
            ],
            "text/html": [
              "\n",
              "  <div id=\"df-ec0ac35d-381f-4c99-8f5f-eb58fb256b93\" class=\"colab-df-container\">\n",
              "    <div>\n",
              "<style scoped>\n",
              "    .dataframe tbody tr th:only-of-type {\n",
              "        vertical-align: middle;\n",
              "    }\n",
              "\n",
              "    .dataframe tbody tr th {\n",
              "        vertical-align: top;\n",
              "    }\n",
              "\n",
              "    .dataframe thead th {\n",
              "        text-align: right;\n",
              "    }\n",
              "</style>\n",
              "<table border=\"1\" class=\"dataframe\">\n",
              "  <thead>\n",
              "    <tr style=\"text-align: right;\">\n",
              "      <th></th>\n",
              "      <th>date</th>\n",
              "      <th>country</th>\n",
              "      <th>total</th>\n",
              "      <th>male</th>\n",
              "      <th>male_perc</th>\n",
              "      <th>female</th>\n",
              "      <th>female_perc</th>\n",
              "      <th>child</th>\n",
              "      <th>child_perc</th>\n",
              "      <th>adolescent</th>\n",
              "      <th>adolescent_perc</th>\n",
              "      <th>adult</th>\n",
              "      <th>adult_perc</th>\n",
              "      <th>old</th>\n",
              "      <th>old_perc</th>\n",
              "    </tr>\n",
              "  </thead>\n",
              "  <tbody>\n",
              "    <tr>\n",
              "      <th>0</th>\n",
              "      <td>Jan 01, 1950</td>\n",
              "      <td>Afghanistan</td>\n",
              "      <td>7752.12</td>\n",
              "      <td>4099.24</td>\n",
              "      <td>52.88</td>\n",
              "      <td>3652.87</td>\n",
              "      <td>47.12</td>\n",
              "      <td>3179.87</td>\n",
              "      <td>41.02</td>\n",
              "      <td>783.73</td>\n",
              "      <td>10.11</td>\n",
              "      <td>3398.24</td>\n",
              "      <td>43.84</td>\n",
              "      <td>390.27</td>\n",
              "      <td>5.03</td>\n",
              "    </tr>\n",
              "    <tr>\n",
              "      <th>1</th>\n",
              "      <td>Jan 01, 1951</td>\n",
              "      <td>Afghanistan</td>\n",
              "      <td>7840.15</td>\n",
              "      <td>4134.76</td>\n",
              "      <td>52.74</td>\n",
              "      <td>3705.39</td>\n",
              "      <td>47.26</td>\n",
              "      <td>3235.43</td>\n",
              "      <td>41.27</td>\n",
              "      <td>790.34</td>\n",
              "      <td>10.08</td>\n",
              "      <td>3418.77</td>\n",
              "      <td>43.61</td>\n",
              "      <td>395.62</td>\n",
              "      <td>5.05</td>\n",
              "    </tr>\n",
              "    <tr>\n",
              "      <th>2</th>\n",
              "      <td>Jan 01, 1952</td>\n",
              "      <td>Afghanistan</td>\n",
              "      <td>7936.00</td>\n",
              "      <td>4174.45</td>\n",
              "      <td>52.60</td>\n",
              "      <td>3761.55</td>\n",
              "      <td>47.40</td>\n",
              "      <td>3281.62</td>\n",
              "      <td>41.35</td>\n",
              "      <td>801.42</td>\n",
              "      <td>10.10</td>\n",
              "      <td>3452.41</td>\n",
              "      <td>43.50</td>\n",
              "      <td>400.54</td>\n",
              "      <td>5.05</td>\n",
              "    </tr>\n",
              "    <tr>\n",
              "      <th>3</th>\n",
              "      <td>Jan 01, 1953</td>\n",
              "      <td>Afghanistan</td>\n",
              "      <td>8039.68</td>\n",
              "      <td>4218.34</td>\n",
              "      <td>52.47</td>\n",
              "      <td>3821.35</td>\n",
              "      <td>47.53</td>\n",
              "      <td>3327.34</td>\n",
              "      <td>41.39</td>\n",
              "      <td>814.91</td>\n",
              "      <td>10.14</td>\n",
              "      <td>3493.16</td>\n",
              "      <td>43.45</td>\n",
              "      <td>404.28</td>\n",
              "      <td>5.03</td>\n",
              "    </tr>\n",
              "    <tr>\n",
              "      <th>4</th>\n",
              "      <td>Jan 01, 1954</td>\n",
              "      <td>Afghanistan</td>\n",
              "      <td>8151.32</td>\n",
              "      <td>4266.48</td>\n",
              "      <td>52.34</td>\n",
              "      <td>3884.83</td>\n",
              "      <td>47.66</td>\n",
              "      <td>3376.38</td>\n",
              "      <td>41.42</td>\n",
              "      <td>829.68</td>\n",
              "      <td>10.18</td>\n",
              "      <td>3538.85</td>\n",
              "      <td>43.41</td>\n",
              "      <td>406.40</td>\n",
              "      <td>4.99</td>\n",
              "    </tr>\n",
              "  </tbody>\n",
              "</table>\n",
              "</div>\n",
              "    <div class=\"colab-df-buttons\">\n",
              "\n",
              "  <div class=\"colab-df-container\">\n",
              "    <button class=\"colab-df-convert\" onclick=\"convertToInteractive('df-ec0ac35d-381f-4c99-8f5f-eb58fb256b93')\"\n",
              "            title=\"Convert this dataframe to an interactive table.\"\n",
              "            style=\"display:none;\">\n",
              "\n",
              "  <svg xmlns=\"http://www.w3.org/2000/svg\" height=\"24px\" viewBox=\"0 -960 960 960\">\n",
              "    <path d=\"M120-120v-720h720v720H120Zm60-500h600v-160H180v160Zm220 220h160v-160H400v160Zm0 220h160v-160H400v160ZM180-400h160v-160H180v160Zm440 0h160v-160H620v160ZM180-180h160v-160H180v160Zm440 0h160v-160H620v160Z\"/>\n",
              "  </svg>\n",
              "    </button>\n",
              "\n",
              "  <style>\n",
              "    .colab-df-container {\n",
              "      display:flex;\n",
              "      gap: 12px;\n",
              "    }\n",
              "\n",
              "    .colab-df-convert {\n",
              "      background-color: #E8F0FE;\n",
              "      border: none;\n",
              "      border-radius: 50%;\n",
              "      cursor: pointer;\n",
              "      display: none;\n",
              "      fill: #1967D2;\n",
              "      height: 32px;\n",
              "      padding: 0 0 0 0;\n",
              "      width: 32px;\n",
              "    }\n",
              "\n",
              "    .colab-df-convert:hover {\n",
              "      background-color: #E2EBFA;\n",
              "      box-shadow: 0px 1px 2px rgba(60, 64, 67, 0.3), 0px 1px 3px 1px rgba(60, 64, 67, 0.15);\n",
              "      fill: #174EA6;\n",
              "    }\n",
              "\n",
              "    .colab-df-buttons div {\n",
              "      margin-bottom: 4px;\n",
              "    }\n",
              "\n",
              "    [theme=dark] .colab-df-convert {\n",
              "      background-color: #3B4455;\n",
              "      fill: #D2E3FC;\n",
              "    }\n",
              "\n",
              "    [theme=dark] .colab-df-convert:hover {\n",
              "      background-color: #434B5C;\n",
              "      box-shadow: 0px 1px 3px 1px rgba(0, 0, 0, 0.15);\n",
              "      filter: drop-shadow(0px 1px 2px rgba(0, 0, 0, 0.3));\n",
              "      fill: #FFFFFF;\n",
              "    }\n",
              "  </style>\n",
              "\n",
              "    <script>\n",
              "      const buttonEl =\n",
              "        document.querySelector('#df-ec0ac35d-381f-4c99-8f5f-eb58fb256b93 button.colab-df-convert');\n",
              "      buttonEl.style.display =\n",
              "        google.colab.kernel.accessAllowed ? 'block' : 'none';\n",
              "\n",
              "      async function convertToInteractive(key) {\n",
              "        const element = document.querySelector('#df-ec0ac35d-381f-4c99-8f5f-eb58fb256b93');\n",
              "        const dataTable =\n",
              "          await google.colab.kernel.invokeFunction('convertToInteractive',\n",
              "                                                    [key], {});\n",
              "        if (!dataTable) return;\n",
              "\n",
              "        const docLinkHtml = 'Like what you see? Visit the ' +\n",
              "          '<a target=\"_blank\" href=https://colab.research.google.com/notebooks/data_table.ipynb>data table notebook</a>'\n",
              "          + ' to learn more about interactive tables.';\n",
              "        element.innerHTML = '';\n",
              "        dataTable['output_type'] = 'display_data';\n",
              "        await google.colab.output.renderOutput(dataTable, element);\n",
              "        const docLink = document.createElement('div');\n",
              "        docLink.innerHTML = docLinkHtml;\n",
              "        element.appendChild(docLink);\n",
              "      }\n",
              "    </script>\n",
              "  </div>\n",
              "\n",
              "\n",
              "<div id=\"df-f0999087-ac25-444e-9586-0f5491c53403\">\n",
              "  <button class=\"colab-df-quickchart\" onclick=\"quickchart('df-f0999087-ac25-444e-9586-0f5491c53403')\"\n",
              "            title=\"Suggest charts\"\n",
              "            style=\"display:none;\">\n",
              "\n",
              "<svg xmlns=\"http://www.w3.org/2000/svg\" height=\"24px\"viewBox=\"0 0 24 24\"\n",
              "     width=\"24px\">\n",
              "    <g>\n",
              "        <path d=\"M19 3H5c-1.1 0-2 .9-2 2v14c0 1.1.9 2 2 2h14c1.1 0 2-.9 2-2V5c0-1.1-.9-2-2-2zM9 17H7v-7h2v7zm4 0h-2V7h2v10zm4 0h-2v-4h2v4z\"/>\n",
              "    </g>\n",
              "</svg>\n",
              "  </button>\n",
              "\n",
              "<style>\n",
              "  .colab-df-quickchart {\n",
              "      --bg-color: #E8F0FE;\n",
              "      --fill-color: #1967D2;\n",
              "      --hover-bg-color: #E2EBFA;\n",
              "      --hover-fill-color: #174EA6;\n",
              "      --disabled-fill-color: #AAA;\n",
              "      --disabled-bg-color: #DDD;\n",
              "  }\n",
              "\n",
              "  [theme=dark] .colab-df-quickchart {\n",
              "      --bg-color: #3B4455;\n",
              "      --fill-color: #D2E3FC;\n",
              "      --hover-bg-color: #434B5C;\n",
              "      --hover-fill-color: #FFFFFF;\n",
              "      --disabled-bg-color: #3B4455;\n",
              "      --disabled-fill-color: #666;\n",
              "  }\n",
              "\n",
              "  .colab-df-quickchart {\n",
              "    background-color: var(--bg-color);\n",
              "    border: none;\n",
              "    border-radius: 50%;\n",
              "    cursor: pointer;\n",
              "    display: none;\n",
              "    fill: var(--fill-color);\n",
              "    height: 32px;\n",
              "    padding: 0;\n",
              "    width: 32px;\n",
              "  }\n",
              "\n",
              "  .colab-df-quickchart:hover {\n",
              "    background-color: var(--hover-bg-color);\n",
              "    box-shadow: 0 1px 2px rgba(60, 64, 67, 0.3), 0 1px 3px 1px rgba(60, 64, 67, 0.15);\n",
              "    fill: var(--button-hover-fill-color);\n",
              "  }\n",
              "\n",
              "  .colab-df-quickchart-complete:disabled,\n",
              "  .colab-df-quickchart-complete:disabled:hover {\n",
              "    background-color: var(--disabled-bg-color);\n",
              "    fill: var(--disabled-fill-color);\n",
              "    box-shadow: none;\n",
              "  }\n",
              "\n",
              "  .colab-df-spinner {\n",
              "    border: 2px solid var(--fill-color);\n",
              "    border-color: transparent;\n",
              "    border-bottom-color: var(--fill-color);\n",
              "    animation:\n",
              "      spin 1s steps(1) infinite;\n",
              "  }\n",
              "\n",
              "  @keyframes spin {\n",
              "    0% {\n",
              "      border-color: transparent;\n",
              "      border-bottom-color: var(--fill-color);\n",
              "      border-left-color: var(--fill-color);\n",
              "    }\n",
              "    20% {\n",
              "      border-color: transparent;\n",
              "      border-left-color: var(--fill-color);\n",
              "      border-top-color: var(--fill-color);\n",
              "    }\n",
              "    30% {\n",
              "      border-color: transparent;\n",
              "      border-left-color: var(--fill-color);\n",
              "      border-top-color: var(--fill-color);\n",
              "      border-right-color: var(--fill-color);\n",
              "    }\n",
              "    40% {\n",
              "      border-color: transparent;\n",
              "      border-right-color: var(--fill-color);\n",
              "      border-top-color: var(--fill-color);\n",
              "    }\n",
              "    60% {\n",
              "      border-color: transparent;\n",
              "      border-right-color: var(--fill-color);\n",
              "    }\n",
              "    80% {\n",
              "      border-color: transparent;\n",
              "      border-right-color: var(--fill-color);\n",
              "      border-bottom-color: var(--fill-color);\n",
              "    }\n",
              "    90% {\n",
              "      border-color: transparent;\n",
              "      border-bottom-color: var(--fill-color);\n",
              "    }\n",
              "  }\n",
              "</style>\n",
              "\n",
              "  <script>\n",
              "    async function quickchart(key) {\n",
              "      const quickchartButtonEl =\n",
              "        document.querySelector('#' + key + ' button');\n",
              "      quickchartButtonEl.disabled = true;  // To prevent multiple clicks.\n",
              "      quickchartButtonEl.classList.add('colab-df-spinner');\n",
              "      try {\n",
              "        const charts = await google.colab.kernel.invokeFunction(\n",
              "            'suggestCharts', [key], {});\n",
              "      } catch (error) {\n",
              "        console.error('Error during call to suggestCharts:', error);\n",
              "      }\n",
              "      quickchartButtonEl.classList.remove('colab-df-spinner');\n",
              "      quickchartButtonEl.classList.add('colab-df-quickchart-complete');\n",
              "    }\n",
              "    (() => {\n",
              "      let quickchartButtonEl =\n",
              "        document.querySelector('#df-f0999087-ac25-444e-9586-0f5491c53403 button');\n",
              "      quickchartButtonEl.style.display =\n",
              "        google.colab.kernel.accessAllowed ? 'block' : 'none';\n",
              "    })();\n",
              "  </script>\n",
              "</div>\n",
              "\n",
              "    </div>\n",
              "  </div>\n"
            ]
          },
          "metadata": {},
          "execution_count": 14
        }
      ]
    },
    {
      "cell_type": "markdown",
      "source": [
        "### **2.3. Carregamento**"
      ],
      "metadata": {
        "id": "yhTcLXpaV5-F"
      }
    },
    {
      "cell_type": "markdown",
      "source": [
        "Com os dados manipulados, vamos persisti-lo em disco, fazer o seu download e carrega-lo no Google Data Studio."
      ],
      "metadata": {
        "id": "ciQaKaE8WDYL"
      }
    },
    {
      "cell_type": "code",
      "source": [
        "data.to_csv('./world-population-wrangled.csv', sep=',', index=False)"
      ],
      "metadata": {
        "id": "ur-OHsXIWN_-"
      },
      "execution_count": 15,
      "outputs": []
    },
    {
      "cell_type": "markdown",
      "metadata": {
        "id": "PD0FiM7UJOGT"
      },
      "source": [
        "## 3\\. Relatório"
      ]
    },
    {
      "cell_type": "markdown",
      "metadata": {
        "id": "qUiilNFGciA1"
      },
      "source": [
        "Como dito na aula anterior, o relátorio ou painel de dados é o destino final dos dados. É atavés que pessoas interessadas no acompanhamento da atividade exercída vão se informar, em geral, pessoas menos técnicas e mais orientadas a negócio como analistas, gerentes e executivos. Portanto, um bom design de um painel (cores, tipografia, escolha e organização de elementos, etc.) é fundamental para transmitir a informação com qualidade."
      ]
    },
    {
      "cell_type": "markdown",
      "metadata": {
        "id": "AAwJC4RyS0xa"
      },
      "source": [
        "### **3.1. EDA & KPIs**"
      ]
    },
    {
      "cell_type": "markdown",
      "metadata": {
        "id": "9LIHnwDuiN47"
      },
      "source": [
        "Os paineis de dados buscam entregar duas funcionalidades para o usuário final:"
      ]
    },
    {
      "cell_type": "markdown",
      "source": [
        "1. o consumo de **indicadores chaves de desempenho** (*key performance indicator* ou KPI) consolidados;\n",
        "1. a capacidade de praticar a **análise exploratória de dados** (*exploratory data analysis* ou EDA) interativa."
      ],
      "metadata": {
        "id": "rllIx255dOOu"
      }
    },
    {
      "cell_type": "markdown",
      "source": [
        "Em geral, o primeiro são métricas consolidadas que fazem parte do acompanhamento da atividade exercida, costumam aparecer no topo do painel. O restante do espaço útil é preenchido por elementos interativos (gráficos, mapas, etc.) que permitem o usuário a entender melhor uma dimensão específica."
      ],
      "metadata": {
        "id": "AZPbGM3cdOyi"
      }
    },
    {
      "cell_type": "markdown",
      "source": [
        "### **3.2. Elementos**"
      ],
      "metadata": {
        "id": "z2jzX5EgDa05"
      }
    },
    {
      "cell_type": "markdown",
      "source": [
        "As ferramentes de visualização de dados interativa possuem diversos elementos para a composição de um relatório como ferramentas gerais de edição de texto e imagens, gráficos, tabelas, cartões, etc. Em geral, a manipulação dos elementos se resume a interação entre três sub elementos:"
      ],
      "metadata": {
        "id": "p6FBTX7DDut6"
      }
    },
    {
      "cell_type": "markdown",
      "source": [
        " - Dimensões (colunas);\n",
        " - Métricas (agregações);\n",
        " - Filtros."
      ],
      "metadata": {
        "id": "7D9nVCnGDwh-"
      }
    },
    {
      "cell_type": "markdown",
      "source": [
        "### **3.3. Compartilhamento**"
      ],
      "metadata": {
        "id": "TigFwqbZf__2"
      }
    },
    {
      "cell_type": "markdown",
      "source": [
        "Por fim, painéis de dados do Google Data Studio podem ser compartilhados na internet, assim como os cadernos do Kaggle."
      ],
      "metadata": {
        "id": "j35aIkobgErR"
      }
    }
  ]
}