{
  "nbformat": 4,
  "nbformat_minor": 0,
  "metadata": {
    "colab": {
      "provenance": [],
      "collapsed_sections": [
        "JG1HL69-j0lH",
        "s_Dj-BgThLg5",
        "jeEzLmuRhDQy",
        "PoTeRwlihDQ0",
        "QpMlxqRyhDQ1",
        "ov7Fg-mWhDQ1",
        "DvHPNAoPgdiG",
        "3SMp5GwjglJm",
        "e3ieQfXTgqd3",
        "L0pKWNr5fm9z",
        "DMhCpOU_gupo",
        "l3h0WP2Eg2ht",
        "rWG4Vk6XaWtf",
        "wkibgd8rB8y3",
        "IjPaJtnYE0MI",
        "2lpj1rszc--m",
        "HnWg_mhLd5gC",
        "RhqmXiHQo-is",
        "SvT9xrajLL7J",
        "91eSyA2cLLqv"
      ],
      "toc_visible": true
    },
    "kernelspec": {
      "name": "python3",
      "display_name": "Python 3"
    }
  },
  "cells": [
    {
      "cell_type": "markdown",
      "metadata": {
        "id": "KJqp9AANOCtf"
      },
      "source": [
        "<img src=\"https://raw.githubusercontent.com/andre-marcos-perez/ebac-course-utils/main/media/logo/newebac_logo_black_half.png\" alt=\"ebac-logo\">\n",
        "\n",
        "---\n",
        "\n",
        "# **Módulo** | Computação em Nuvem I\n",
        "Caderno de **Aula**<br>\n",
        "Professor [André Perez](https://www.linkedin.com/in/andremarcosperez/)\n",
        "\n",
        "---"
      ]
    },
    {
      "cell_type": "markdown",
      "metadata": {
        "id": "d9jDtUbDOE1-"
      },
      "source": [
        "# **Tópicos**\n",
        "\n",
        "<ol type=\"1\">\n",
        "  <li>Amazon Web Services;</li>\n",
        "  <li>AWS IAM;</li>\n",
        "  <li>AWS S3;</li>\n",
        "  <li>AWS Athena.</li>\n",
        "</ol>"
      ]
    },
    {
      "cell_type": "markdown",
      "metadata": {
        "id": "SmoHgt-lwkpD"
      },
      "source": [
        "---"
      ]
    },
    {
      "cell_type": "markdown",
      "metadata": {
        "id": "GABI6OW8OfQ2"
      },
      "source": [
        "# **Aulas**"
      ]
    },
    {
      "cell_type": "markdown",
      "metadata": {
        "id": "ne7Ay0HKaGSv"
      },
      "source": [
        "## 1\\. Amazon Web Services"
      ]
    },
    {
      "cell_type": "markdown",
      "metadata": {
        "id": "nnIh0P08zG9H"
      },
      "source": [
        "### **2.1. Computação em nuvem**"
      ]
    },
    {
      "cell_type": "markdown",
      "metadata": {
        "id": "OQxOVktrzG9I"
      },
      "source": [
        "Computação em nuvem é um termo genérico para o oferecimento *web* de serviços e recursos computacionais **sob demanda** e **auto gerenciados**, especialmente processamento (cpu, memória RAM, etc.) e armazenamento."
      ]
    },
    {
      "cell_type": "markdown",
      "metadata": {
        "id": "tiqtyJkmzG9J"
      },
      "source": [
        "### **2.2. Plataformas**"
      ]
    },
    {
      "cell_type": "markdown",
      "metadata": {
        "id": "yVPdVRfZzG9K"
      },
      "source": [
        "As principais plataformas de computação em nuvem são:\n",
        "\n",
        " - [Amazon Web Services (AWS)](https://aws.amazon.com);\n",
        " - [Microsoft Azure](https://azure.microsoft.com);\n",
        " - [Google Cloud](https://cloud.google.com)."
      ]
    },
    {
      "cell_type": "markdown",
      "metadata": {
        "id": "PQP0Via3zVeD"
      },
      "source": [
        "### **2.3. AWS**"
      ]
    },
    {
      "cell_type": "markdown",
      "metadata": {
        "id": "2zLVibiQtAly"
      },
      "source": [
        "A Amazon Web Service (AWS) é uma plataforma de computação em nuvem da Amazon (*e-commerce*). Para criar a sua conta e navegar pelo console da AWS, basta acessar este [link](https://portal.aws.amazon.com/)."
      ]
    },
    {
      "cell_type": "markdown",
      "source": [
        "### **2.4. AWS Billing**"
      ],
      "metadata": {
        "id": "eTnESY3MaDwd"
      }
    },
    {
      "cell_type": "markdown",
      "metadata": {
        "id": "b0xVVZSBSWio"
      },
      "source": [
        "> **Atenção:** Todo serviço da AWS tem o seu custo associado!"
      ]
    },
    {
      "cell_type": "markdown",
      "source": [
        "Uma nova conta da AWS é elegível a o nível gratuito. Confira neste [link](https://aws.amazon.com/pt/free) a oferta atual (podem mudar ao longo do tempo). A AWS oferece o AWS [Billing](https://docs.aws.amazon.com/account-billing/index.html), um serviço de acompanhamento de custos."
      ],
      "metadata": {
        "id": "FacXoPFacef2"
      }
    },
    {
      "cell_type": "markdown",
      "source": [
        "## 2\\. AWS IAM"
      ],
      "metadata": {
        "id": "-Rig-cljwJdi"
      }
    },
    {
      "cell_type": "markdown",
      "metadata": {
        "id": "JUonSt7kxZyj"
      },
      "source": [
        "O AWS [IAM](https://aws.amazon.com/pt/iam/) (*Identity and Access Management*) é um serviço de gestão de usuários e recursos. Nele, criamos usuários, providenciamos/revogamos acessos, etc."
      ]
    },
    {
      "cell_type": "markdown",
      "metadata": {
        "id": "9YhdREnYxZyj"
      },
      "source": [
        "### **2.1. Funcionamento**"
      ]
    },
    {
      "cell_type": "markdown",
      "metadata": {
        "id": "VHNT6j-IxZyk"
      },
      "source": [
        " 1. Um *user* representa um usuário ou aplicação que pode interagir com os recursos da AWS;\n",
        " 1. Um *user group* é um conjunto de usuários que compartilham permissões, exemplo: *admin*, *dev*, *analyst*, etc.;\n",
        " 1. Uma *role* é semelhante a um usuário temporário, *users* podem assumir uma *role* por um tempo."
      ]
    },
    {
      "cell_type": "markdown",
      "metadata": {
        "id": "PnJI1bszxZyk"
      },
      "source": [
        "### **2.2. Preço**"
      ]
    },
    {
      "cell_type": "markdown",
      "metadata": {
        "id": "8OGjIWy9xZyk"
      },
      "source": [
        "O AWS [IAM](https://aws.amazon.com/pt/iam/) é gratuito."
      ]
    },
    {
      "cell_type": "markdown",
      "source": [
        "### **2.3. Atividade**"
      ],
      "metadata": {
        "id": "V3boVORDZh78"
      }
    },
    {
      "cell_type": "markdown",
      "source": [
        "Vamos utilizar o AWS [IAM](https://aws.amazon.com/pt/iam/) durante as próximas aulas e módulos para configurar diversos serviços da AWS."
      ],
      "metadata": {
        "id": "VNN_kXeFZkwA"
      }
    },
    {
      "cell_type": "markdown",
      "metadata": {
        "id": "EvJTE2FpaGeU"
      },
      "source": [
        "## 3\\. AWS S3"
      ]
    },
    {
      "cell_type": "markdown",
      "metadata": {
        "id": "ISYXZbomlb1x"
      },
      "source": [
        "O AWS [S3](https://aws.amazon.com/pt/s3/) (*Simple Storage Service*) é um serviço de armazenameto distribuido e sem servidor. No contexto de dados, pode atuar como repositório de dados. O serviço é inspirado no famoso projeto *open source* [Apache Hadoop](https://hadoop.apache.org/).\n",
        "\n"
      ]
    },
    {
      "cell_type": "markdown",
      "metadata": {
        "id": "pnxYnr6flb1y"
      },
      "source": [
        "### **3.1. Funcionamento**"
      ]
    },
    {
      "cell_type": "markdown",
      "metadata": {
        "id": "NY8c3fEWlb1y"
      },
      "source": [
        "1. Um *bucket* é uma partição lógica de dados, como uma pasta do seu computador;\n",
        "2. Um objeto é um arquivo armazenado dentro de um um *bucket*;\n",
        "3. Outros serviços da plataforma podem interagir com os objetos de um *bucket*."
      ]
    },
    {
      "cell_type": "markdown",
      "metadata": {
        "id": "h_7ULt6Wlb1z"
      },
      "source": [
        "### **3.2. Preço**"
      ]
    },
    {
      "cell_type": "markdown",
      "metadata": {
        "id": "J54rLu4Mlb10"
      },
      "source": [
        "O AWS [S3](https://aws.amazon.com/pt/s3/) cobra por volume de dados armazenado. O preço atual é complexo, mas inicia-se com 0,0405 USD por mês por *gigabyte* (GB) armazenado (0,22 BRL aproximadamente). Você sempre deve consultar o preço na página *web* do serviço ([link](https://aws.amazon.com/pt/s3/pricing/?nc=sn&loc=4))."
      ]
    },
    {
      "cell_type": "markdown",
      "metadata": {
        "id": "oA6uhSthxAfi"
      },
      "source": [
        "### **3.3. Atividade**"
      ]
    },
    {
      "cell_type": "markdown",
      "metadata": {
        "id": "vBIT5n-3xAfj"
      },
      "source": [
        " - Criar um *bucket*;\n",
        " - Inserir um objeto no *bucket*."
      ]
    },
    {
      "cell_type": "markdown",
      "source": [
        "Como objeto, gere o arquivo `iris.csv` com os códigos abaixo."
      ],
      "metadata": {
        "id": "Eyrnf0m7q1wS"
      }
    },
    {
      "cell_type": "code",
      "source": [
        "import pandas as pd\n",
        "import seaborn as sns"
      ],
      "metadata": {
        "id": "s0bXKJ_xpMzC"
      },
      "execution_count": 1,
      "outputs": []
    },
    {
      "cell_type": "code",
      "source": [
        "iris = sns.load_dataset('iris')\n",
        "iris.head()"
      ],
      "metadata": {
        "id": "AaKdPheWqHdp",
        "colab": {
          "base_uri": "https://localhost:8080/",
          "height": 201
        },
        "outputId": "ce0555a9-4f7a-46c9-8381-469d1df66ac6"
      },
      "execution_count": 2,
      "outputs": [
        {
          "output_type": "execute_result",
          "data": {
            "text/plain": [
              "   sepal_length  sepal_width  petal_length  petal_width species\n",
              "0           5.1          3.5           1.4          0.2  setosa\n",
              "1           4.9          3.0           1.4          0.2  setosa\n",
              "2           4.7          3.2           1.3          0.2  setosa\n",
              "3           4.6          3.1           1.5          0.2  setosa\n",
              "4           5.0          3.6           1.4          0.2  setosa"
            ],
            "text/html": [
              "\n",
              "  <div id=\"df-a1665ca9-6f4c-4144-ad7b-561ea496064a\" class=\"colab-df-container\">\n",
              "    <div>\n",
              "<style scoped>\n",
              "    .dataframe tbody tr th:only-of-type {\n",
              "        vertical-align: middle;\n",
              "    }\n",
              "\n",
              "    .dataframe tbody tr th {\n",
              "        vertical-align: top;\n",
              "    }\n",
              "\n",
              "    .dataframe thead th {\n",
              "        text-align: right;\n",
              "    }\n",
              "</style>\n",
              "<table border=\"1\" class=\"dataframe\">\n",
              "  <thead>\n",
              "    <tr style=\"text-align: right;\">\n",
              "      <th></th>\n",
              "      <th>sepal_length</th>\n",
              "      <th>sepal_width</th>\n",
              "      <th>petal_length</th>\n",
              "      <th>petal_width</th>\n",
              "      <th>species</th>\n",
              "    </tr>\n",
              "  </thead>\n",
              "  <tbody>\n",
              "    <tr>\n",
              "      <th>0</th>\n",
              "      <td>5.1</td>\n",
              "      <td>3.5</td>\n",
              "      <td>1.4</td>\n",
              "      <td>0.2</td>\n",
              "      <td>setosa</td>\n",
              "    </tr>\n",
              "    <tr>\n",
              "      <th>1</th>\n",
              "      <td>4.9</td>\n",
              "      <td>3.0</td>\n",
              "      <td>1.4</td>\n",
              "      <td>0.2</td>\n",
              "      <td>setosa</td>\n",
              "    </tr>\n",
              "    <tr>\n",
              "      <th>2</th>\n",
              "      <td>4.7</td>\n",
              "      <td>3.2</td>\n",
              "      <td>1.3</td>\n",
              "      <td>0.2</td>\n",
              "      <td>setosa</td>\n",
              "    </tr>\n",
              "    <tr>\n",
              "      <th>3</th>\n",
              "      <td>4.6</td>\n",
              "      <td>3.1</td>\n",
              "      <td>1.5</td>\n",
              "      <td>0.2</td>\n",
              "      <td>setosa</td>\n",
              "    </tr>\n",
              "    <tr>\n",
              "      <th>4</th>\n",
              "      <td>5.0</td>\n",
              "      <td>3.6</td>\n",
              "      <td>1.4</td>\n",
              "      <td>0.2</td>\n",
              "      <td>setosa</td>\n",
              "    </tr>\n",
              "  </tbody>\n",
              "</table>\n",
              "</div>\n",
              "    <div class=\"colab-df-buttons\">\n",
              "\n",
              "  <div class=\"colab-df-container\">\n",
              "    <button class=\"colab-df-convert\" onclick=\"convertToInteractive('df-a1665ca9-6f4c-4144-ad7b-561ea496064a')\"\n",
              "            title=\"Convert this dataframe to an interactive table.\"\n",
              "            style=\"display:none;\">\n",
              "\n",
              "  <svg xmlns=\"http://www.w3.org/2000/svg\" height=\"24px\" viewBox=\"0 -960 960 960\">\n",
              "    <path d=\"M120-120v-720h720v720H120Zm60-500h600v-160H180v160Zm220 220h160v-160H400v160Zm0 220h160v-160H400v160ZM180-400h160v-160H180v160Zm440 0h160v-160H620v160ZM180-180h160v-160H180v160Zm440 0h160v-160H620v160Z\"/>\n",
              "  </svg>\n",
              "    </button>\n",
              "\n",
              "  <style>\n",
              "    .colab-df-container {\n",
              "      display:flex;\n",
              "      gap: 12px;\n",
              "    }\n",
              "\n",
              "    .colab-df-convert {\n",
              "      background-color: #E8F0FE;\n",
              "      border: none;\n",
              "      border-radius: 50%;\n",
              "      cursor: pointer;\n",
              "      display: none;\n",
              "      fill: #1967D2;\n",
              "      height: 32px;\n",
              "      padding: 0 0 0 0;\n",
              "      width: 32px;\n",
              "    }\n",
              "\n",
              "    .colab-df-convert:hover {\n",
              "      background-color: #E2EBFA;\n",
              "      box-shadow: 0px 1px 2px rgba(60, 64, 67, 0.3), 0px 1px 3px 1px rgba(60, 64, 67, 0.15);\n",
              "      fill: #174EA6;\n",
              "    }\n",
              "\n",
              "    .colab-df-buttons div {\n",
              "      margin-bottom: 4px;\n",
              "    }\n",
              "\n",
              "    [theme=dark] .colab-df-convert {\n",
              "      background-color: #3B4455;\n",
              "      fill: #D2E3FC;\n",
              "    }\n",
              "\n",
              "    [theme=dark] .colab-df-convert:hover {\n",
              "      background-color: #434B5C;\n",
              "      box-shadow: 0px 1px 3px 1px rgba(0, 0, 0, 0.15);\n",
              "      filter: drop-shadow(0px 1px 2px rgba(0, 0, 0, 0.3));\n",
              "      fill: #FFFFFF;\n",
              "    }\n",
              "  </style>\n",
              "\n",
              "    <script>\n",
              "      const buttonEl =\n",
              "        document.querySelector('#df-a1665ca9-6f4c-4144-ad7b-561ea496064a button.colab-df-convert');\n",
              "      buttonEl.style.display =\n",
              "        google.colab.kernel.accessAllowed ? 'block' : 'none';\n",
              "\n",
              "      async function convertToInteractive(key) {\n",
              "        const element = document.querySelector('#df-a1665ca9-6f4c-4144-ad7b-561ea496064a');\n",
              "        const dataTable =\n",
              "          await google.colab.kernel.invokeFunction('convertToInteractive',\n",
              "                                                    [key], {});\n",
              "        if (!dataTable) return;\n",
              "\n",
              "        const docLinkHtml = 'Like what you see? Visit the ' +\n",
              "          '<a target=\"_blank\" href=https://colab.research.google.com/notebooks/data_table.ipynb>data table notebook</a>'\n",
              "          + ' to learn more about interactive tables.';\n",
              "        element.innerHTML = '';\n",
              "        dataTable['output_type'] = 'display_data';\n",
              "        await google.colab.output.renderOutput(dataTable, element);\n",
              "        const docLink = document.createElement('div');\n",
              "        docLink.innerHTML = docLinkHtml;\n",
              "        element.appendChild(docLink);\n",
              "      }\n",
              "    </script>\n",
              "  </div>\n",
              "\n",
              "\n",
              "<div id=\"df-bd8405b5-ab88-4f10-872b-98bc3df0ead7\">\n",
              "  <button class=\"colab-df-quickchart\" onclick=\"quickchart('df-bd8405b5-ab88-4f10-872b-98bc3df0ead7')\"\n",
              "            title=\"Suggest charts\"\n",
              "            style=\"display:none;\">\n",
              "\n",
              "<svg xmlns=\"http://www.w3.org/2000/svg\" height=\"24px\"viewBox=\"0 0 24 24\"\n",
              "     width=\"24px\">\n",
              "    <g>\n",
              "        <path d=\"M19 3H5c-1.1 0-2 .9-2 2v14c0 1.1.9 2 2 2h14c1.1 0 2-.9 2-2V5c0-1.1-.9-2-2-2zM9 17H7v-7h2v7zm4 0h-2V7h2v10zm4 0h-2v-4h2v4z\"/>\n",
              "    </g>\n",
              "</svg>\n",
              "  </button>\n",
              "\n",
              "<style>\n",
              "  .colab-df-quickchart {\n",
              "      --bg-color: #E8F0FE;\n",
              "      --fill-color: #1967D2;\n",
              "      --hover-bg-color: #E2EBFA;\n",
              "      --hover-fill-color: #174EA6;\n",
              "      --disabled-fill-color: #AAA;\n",
              "      --disabled-bg-color: #DDD;\n",
              "  }\n",
              "\n",
              "  [theme=dark] .colab-df-quickchart {\n",
              "      --bg-color: #3B4455;\n",
              "      --fill-color: #D2E3FC;\n",
              "      --hover-bg-color: #434B5C;\n",
              "      --hover-fill-color: #FFFFFF;\n",
              "      --disabled-bg-color: #3B4455;\n",
              "      --disabled-fill-color: #666;\n",
              "  }\n",
              "\n",
              "  .colab-df-quickchart {\n",
              "    background-color: var(--bg-color);\n",
              "    border: none;\n",
              "    border-radius: 50%;\n",
              "    cursor: pointer;\n",
              "    display: none;\n",
              "    fill: var(--fill-color);\n",
              "    height: 32px;\n",
              "    padding: 0;\n",
              "    width: 32px;\n",
              "  }\n",
              "\n",
              "  .colab-df-quickchart:hover {\n",
              "    background-color: var(--hover-bg-color);\n",
              "    box-shadow: 0 1px 2px rgba(60, 64, 67, 0.3), 0 1px 3px 1px rgba(60, 64, 67, 0.15);\n",
              "    fill: var(--button-hover-fill-color);\n",
              "  }\n",
              "\n",
              "  .colab-df-quickchart-complete:disabled,\n",
              "  .colab-df-quickchart-complete:disabled:hover {\n",
              "    background-color: var(--disabled-bg-color);\n",
              "    fill: var(--disabled-fill-color);\n",
              "    box-shadow: none;\n",
              "  }\n",
              "\n",
              "  .colab-df-spinner {\n",
              "    border: 2px solid var(--fill-color);\n",
              "    border-color: transparent;\n",
              "    border-bottom-color: var(--fill-color);\n",
              "    animation:\n",
              "      spin 1s steps(1) infinite;\n",
              "  }\n",
              "\n",
              "  @keyframes spin {\n",
              "    0% {\n",
              "      border-color: transparent;\n",
              "      border-bottom-color: var(--fill-color);\n",
              "      border-left-color: var(--fill-color);\n",
              "    }\n",
              "    20% {\n",
              "      border-color: transparent;\n",
              "      border-left-color: var(--fill-color);\n",
              "      border-top-color: var(--fill-color);\n",
              "    }\n",
              "    30% {\n",
              "      border-color: transparent;\n",
              "      border-left-color: var(--fill-color);\n",
              "      border-top-color: var(--fill-color);\n",
              "      border-right-color: var(--fill-color);\n",
              "    }\n",
              "    40% {\n",
              "      border-color: transparent;\n",
              "      border-right-color: var(--fill-color);\n",
              "      border-top-color: var(--fill-color);\n",
              "    }\n",
              "    60% {\n",
              "      border-color: transparent;\n",
              "      border-right-color: var(--fill-color);\n",
              "    }\n",
              "    80% {\n",
              "      border-color: transparent;\n",
              "      border-right-color: var(--fill-color);\n",
              "      border-bottom-color: var(--fill-color);\n",
              "    }\n",
              "    90% {\n",
              "      border-color: transparent;\n",
              "      border-bottom-color: var(--fill-color);\n",
              "    }\n",
              "  }\n",
              "</style>\n",
              "\n",
              "  <script>\n",
              "    async function quickchart(key) {\n",
              "      const quickchartButtonEl =\n",
              "        document.querySelector('#' + key + ' button');\n",
              "      quickchartButtonEl.disabled = true;  // To prevent multiple clicks.\n",
              "      quickchartButtonEl.classList.add('colab-df-spinner');\n",
              "      try {\n",
              "        const charts = await google.colab.kernel.invokeFunction(\n",
              "            'suggestCharts', [key], {});\n",
              "      } catch (error) {\n",
              "        console.error('Error during call to suggestCharts:', error);\n",
              "      }\n",
              "      quickchartButtonEl.classList.remove('colab-df-spinner');\n",
              "      quickchartButtonEl.classList.add('colab-df-quickchart-complete');\n",
              "    }\n",
              "    (() => {\n",
              "      let quickchartButtonEl =\n",
              "        document.querySelector('#df-bd8405b5-ab88-4f10-872b-98bc3df0ead7 button');\n",
              "      quickchartButtonEl.style.display =\n",
              "        google.colab.kernel.accessAllowed ? 'block' : 'none';\n",
              "    })();\n",
              "  </script>\n",
              "</div>\n",
              "\n",
              "    </div>\n",
              "  </div>\n"
            ]
          },
          "metadata": {},
          "execution_count": 2
        }
      ]
    },
    {
      "cell_type": "code",
      "source": [
        "iris.to_csv('iris.csv', index=False, header=False)"
      ],
      "metadata": {
        "id": "jiBD8RgyqJKE"
      },
      "execution_count": 3,
      "outputs": []
    },
    {
      "cell_type": "markdown",
      "metadata": {
        "id": "oVejInuPakz5"
      },
      "source": [
        "## 4\\. AWS Athena"
      ]
    },
    {
      "cell_type": "markdown",
      "metadata": {
        "id": "CZbuPphXakz7"
      },
      "source": [
        "O AWS [Athena](https://aws.amazon.com/pt/athena/) é um serviço de computação distribuída e sem servidor que atua como um motor de consulta (*query engine*). O serviço implementa na infrastrutura computacional da AWS o projeto *open source* [Presto](https://prestodb.io/).\n"
      ]
    },
    {
      "cell_type": "markdown",
      "source": [
        "> A combinação do AWS [Athena](https://aws.amazon.com/pt/athena/) e o AWS [S3](https://aws.amazon.com/pt/s3/) forma uma poderosa base de dados para processamento de grandes volumes de dados de **baixo custo** e **alta latência**, ideal para *data lakes*.\n"
      ],
      "metadata": {
        "id": "blsZvWrssCdb"
      }
    },
    {
      "cell_type": "markdown",
      "metadata": {
        "id": "SadRMFFVjAY1"
      },
      "source": [
        "### **4.1. Funcionamento**"
      ]
    },
    {
      "cell_type": "markdown",
      "metadata": {
        "id": "N2j-pN5VjAY3"
      },
      "source": [
        "1. Transforma uma *query* SQL em código [Spark](https://spark.apache.org);\n",
        "2. Processa os objetos armazenados no AWS [S3](https://aws.amazon.com/pt/s3/) com o código [Spark](https://spark.apache.org) gerado;\n",
        "4. Salva o resultado da *query* SQL como um objeto em um *bucket* no AWS [S3](https://aws.amazon.com/pt/s3/);\n",
        "3. Retorna o resultado da *query* SQL no console."
      ]
    },
    {
      "cell_type": "markdown",
      "metadata": {
        "id": "dYWYEfZajAiE"
      },
      "source": [
        "### **4.2. Preço**"
      ]
    },
    {
      "cell_type": "markdown",
      "metadata": {
        "id": "ESQ6yMH0jAiE"
      },
      "source": [
        "O AWS [Athena](https://aws.amazon.com/pt/athena/) cobra por consulta. O preço atual é de 9,00 USD por *terabyte* escaneado (49,65 BRL aproximadamente). Você sempre deve consultar o preço na página web do serviço ([link](https://aws.amazon.com/pt/athena/pricing/?nc=sn&loc=3))."
      ]
    },
    {
      "cell_type": "markdown",
      "metadata": {
        "id": "-BYWYKk1xMWm"
      },
      "source": [
        "### **4.3. Atividade**"
      ]
    },
    {
      "cell_type": "markdown",
      "metadata": {
        "id": "UfARE2g0xMWn"
      },
      "source": [
        " - Criar um *bucket* no AWS [S3](https://aws.amazon.com/pt/s3/) para armazenar os resultados;\n",
        " - Configurar o AWS [Athena](https://aws.amazon.com/pt/athena/) para utilizar o *bucket* criado;\n",
        " - Criar uma tabela (com SQL) utilizando o *bucket* da aula 3, item 3.3;\n",
        " - Executar uma consulta SQL."
      ]
    },
    {
      "cell_type": "markdown",
      "source": [
        "Código SQL para criar a tabela.\n",
        "\n",
        "```sql\n",
        "CREATE EXTERNAL TABLE iris (\n",
        "  sepal_length double,\n",
        "  sepal_width double,\n",
        "  petal_length double,\n",
        "  petal_width double,\n",
        "  specie string\n",
        ")\n",
        "ROW FORMAT SERDE 'org.apache.hadoop.hive.serde2.OpenCSVSerde'\n",
        "WITH SERDEPROPERTIES ('separatorChar'=',')\n",
        "LOCATION 's3://<bucket-name>/'\n",
        "```"
      ],
      "metadata": {
        "id": "gQ_Z9nKkvSYO"
      }
    },
    {
      "cell_type": "markdown",
      "source": [
        "Códigos SQL para executar consultas.\n",
        "\n",
        "```sql\n",
        "SELECT * FROM iris LIMIT 10;\n",
        "```\n",
        "\n",
        "```sql\n",
        "SELECT\n",
        "    specie,\n",
        "    round(avg(sepal_length), 4) as avg_sepal_length,\n",
        "    round(avg(sepal_width),  4) as avg_sepal_width,\n",
        "    round(avg(petal_length), 4) as avg_petal_length,\n",
        "    round(avg(petal_width),  4) as avg_petal_width\n",
        "FROM iris\n",
        "GROUP BY specie;\n",
        "```"
      ],
      "metadata": {
        "id": "cqPkq7Pnv2jN"
      }
    }
  ]
}