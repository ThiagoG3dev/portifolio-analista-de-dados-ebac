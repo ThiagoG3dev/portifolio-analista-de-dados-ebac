{
  "nbformat": 4,
  "nbformat_minor": 0,
  "metadata": {
    "colab": {
      "provenance": []
    },
    "kernelspec": {
      "name": "python3",
      "display_name": "Python 3"
    }
  },
  "cells": [
    {
      "cell_type": "markdown",
      "metadata": {
        "id": "KJqp9AANOCtf"
      },
      "source": [
        "<img src=\"https://raw.githubusercontent.com/andre-marcos-perez/ebac-course-utils/main/media/logo/newebac_logo_black_half.png\" alt=\"ebac-logo\">\n",
        "\n",
        "---\n",
        "\n",
        "# **Módulo** | Big Data II - Armazenamento\n",
        "Caderno de **Aula**<br>\n",
        "Professor [André Perez](https://www.linkedin.com/in/andremarcosperez/)\n",
        "\n",
        "---"
      ]
    },
    {
      "cell_type": "markdown",
      "metadata": {
        "id": "d9jDtUbDOE1-"
      },
      "source": [
        "# **Tópicos**\n",
        "\n",
        "<ol type=\"1\">\n",
        "  <li>Introdução;</li>\n",
        "  <li>Orientação a coluna;</li>\n",
        "  <li>Particionamento.</li>\n",
        "</ol>"
      ]
    },
    {
      "cell_type": "markdown",
      "metadata": {
        "id": "SmoHgt-lwkpD"
      },
      "source": [
        "---"
      ]
    },
    {
      "cell_type": "markdown",
      "metadata": {
        "id": "GABI6OW8OfQ2"
      },
      "source": [
        "# **Aulas**"
      ]
    },
    {
      "cell_type": "markdown",
      "source": [
        "## 1\\. Introdução"
      ],
      "metadata": {
        "id": "-Rig-cljwJdi"
      }
    },
    {
      "cell_type": "markdown",
      "source": [
        "### **1.1. Armazenamento distribuído**"
      ],
      "metadata": {
        "id": "Ay4UkojwGskg"
      }
    },
    {
      "cell_type": "markdown",
      "metadata": {
        "id": "JUonSt7kxZyj"
      },
      "source": [
        "A escala horizontal de recursos faz com que os dados sejam armazenados em arquivos (`csv`, `txt`, `parquet`, etc.), \"quebrados\" em blocos (128 MB geralmente) e **distribuídos** e **replicados** (três vezes geralmente) entre os nós do cluster. O gerenciador de *cluster* mantem um mapa da distribuição dos blocos. Esta característica de sistemas distribuídos é abstraída dos usuários comuns de um *cluster*."
      ]
    },
    {
      "cell_type": "markdown",
      "metadata": {
        "id": "9YhdREnYxZyj"
      },
      "source": [
        "### **1.2. Orientação a coluna**"
      ]
    },
    {
      "cell_type": "markdown",
      "source": [
        "Tradicionalmente, os sistemas de armazenamento de dados (arquivos, bases de dados, etc.) trabalham com **orientação a linha**, ou seja, para acessar o valor de uma coluna, primeiro encontra-se sua linha. Como exemplo, imagine uma base de dados de vendas de jogos eletrônicos com a seguinte estrutura."
      ],
      "metadata": {
        "id": "PUDMrBks-1MF"
      }
    },
    {
      "cell_type": "code",
      "source": [
        "%%writefile jogos.csv\n",
        "\"id\",\"nome\",\"plataforma\",\"ano_lancamento\",\"total_vendas_mm\"\n",
        "100,\"Final Fantasy VII\",\"PSX\",1997,12.3\n",
        "101,\"Final Fantasy VIII\",\"PSX\",1999,9.6\n",
        "102,\"Final Fantasy IX\",\"PSX\",2000,5.5"
      ],
      "metadata": {
        "id": "LdOkyenE0hNp",
        "colab": {
          "base_uri": "https://localhost:8080/"
        },
        "outputId": "2c1932ab-ff3a-4548-be31-0b9617af305d"
      },
      "execution_count": 1,
      "outputs": [
        {
          "output_type": "stream",
          "name": "stdout",
          "text": [
            "Writing jogos.csv\n"
          ]
        }
      ]
    },
    {
      "cell_type": "markdown",
      "source": [
        "A consulta SQL abaixo primeiro encontraria a linha com o `id` igual a 102 para então acessar o valor de 5.5 na coluna `total_vendas_mm`."
      ],
      "metadata": {
        "id": "oZ1ZhOOh2ESI"
      }
    },
    {
      "cell_type": "markdown",
      "source": [
        "```sql\n",
        "SELECT total_vendas_mm FROM jogos WHERE id = 102\n",
        "```"
      ],
      "metadata": {
        "id": "1BrLhw1e2g6f"
      }
    },
    {
      "cell_type": "markdown",
      "source": [
        "Portanto, no formato **orientado a linha**, consultas com métricas de **agregação** faz com que o acesso ao dado da coluna a ser agregada também seja extraído linha a linha. Como exemplo, a consulta SQL abaixo seria equivalente ao código Python também abaixo:"
      ],
      "metadata": {
        "id": "iNNvDoQo2oNs"
      }
    },
    {
      "cell_type": "markdown",
      "source": [
        "```sql\n",
        "SELECT SUM(total_vendas_mm) FROM jogos\n",
        "```"
      ],
      "metadata": {
        "id": "b4TM0YGE3aqf"
      }
    },
    {
      "cell_type": "code",
      "source": [
        "import csv\n",
        "from functools import reduce\n",
        "\n",
        "vals = []\n",
        "lines = None\n",
        "\n",
        "with open('jogos.csv', mode='r') as fp:\n",
        "  lines = csv.reader(fp)\n",
        "  next(lines, None)\n",
        "  for line in lines:\n",
        "    vals.append(float(line[4]))\n",
        "\n",
        "sum_vals = reduce(lambda x, y: x + y, vals)\n",
        "\n",
        "print(sum_vals)"
      ],
      "metadata": {
        "id": "4jOFkVLe5Uhh"
      },
      "execution_count": null,
      "outputs": []
    },
    {
      "cell_type": "markdown",
      "source": [
        "Em geral, para o volume das bases de dados modernas, essa abordagem é inviável. Para lidar com essa situação, foram criados tipos de arquivos (`Apache Parquet`), bases de dados (`Apache HBase`) e estruturas de dados (`Apache Arrow`) **orientados a colunas**, onde os dados são \"pivotados\", ou seja, dados de uma mesma coluna são organizados como se estivessem em mesma linha. Portanto, a mesma consulta SQL (replicada abaixo) realizada em um sistema **orientado a colunas** executaria muito mais rápido."
      ],
      "metadata": {
        "id": "bIJJGU5V6VYN"
      }
    },
    {
      "cell_type": "markdown",
      "source": [
        "```sql\n",
        "SELECT SUM(total_vendas_mm) FROM jogos\n",
        "```"
      ],
      "metadata": {
        "id": "ef5X1baT98tq"
      }
    },
    {
      "cell_type": "markdown",
      "source": [
        "> Sistemas **orientados a colunas** são ideias para **agregações** (base de cargas analíticas)."
      ],
      "metadata": {
        "id": "CnGd-HIuG9NI"
      }
    },
    {
      "cell_type": "markdown",
      "source": [
        "Vamos explorar o `Apache Parquet` e o `Apache Arrow` na aula 2."
      ],
      "metadata": {
        "id": "iJd9OU2599pD"
      }
    },
    {
      "cell_type": "markdown",
      "metadata": {
        "id": "PnJI1bszxZyk"
      },
      "source": [
        "### **1.3. Particionamento**"
      ]
    },
    {
      "cell_type": "markdown",
      "metadata": {
        "id": "8OGjIWy9xZyk"
      },
      "source": [
        "Dados são armazenados em uma estrutura de pastas, conhecidas como partições, de tal forma que apenas os dados nas partições de interesse são acessados. Como exemplo, imagine uma base de dados de entregas de um aplicativo de entrega de comidas com a seguinte estrutura:"
      ]
    },
    {
      "cell_type": "code",
      "source": [
        "%%writefile entrega.csv\n",
        "\"id_entrega\",\"id_resturante\",\"cidade\",\"estado\",\"data\"\n",
        "100,24,\"Piracicaba\",\"SP\",2022-01-01\n",
        "101,25,\"Piracicaba\",\"SP\",2022-01-01\n",
        "102,26,\"Campinas\",\"SP\",2022-01-02\n",
        "103,27,\"Florianopolis\",\"SC\",2022-01-02\n",
        "104,28,\"Florianopolis\",\"SC\",2022-01-03"
      ],
      "metadata": {
        "id": "uj2xGZUsglc8"
      },
      "execution_count": null,
      "outputs": []
    },
    {
      "cell_type": "markdown",
      "source": [
        "Particionar a base por `data` geraria três partições: `2022-01-01`, `2022-01-02` e `2022-01-03`. O efeito no sistema de arquivos seria equivalente ao resultado da execução do código abaixo. Note que a operação \"move\" a coluna de particionamento `data` dos arquivos `csv` para a estrutura de pastas."
      ],
      "metadata": {
        "id": "jlIrLCdZl4DE"
      }
    },
    {
      "cell_type": "markdown",
      "source": [
        "> **Nota**: Não se preocupe em entender o código `bash` abaixo, os pacotes Python de interesse abstraem essa complexidade."
      ],
      "metadata": {
        "id": "iih2uMpLydG6"
      }
    },
    {
      "cell_type": "code",
      "source": [
        "!mkdir ./entregas\n",
        "!mkdir ./entregas/data=2022-01-01\n",
        "!mkdir ./entregas/data=2022-01-02\n",
        "!mkdir ./entregas/data=2022-01-03\n",
        "\n",
        "!echo \"id_entrega,id_resturante,cidade,estado\" >> ./entregas/data=2022-01-01/entregas_part1.csv\n",
        "!echo \"100,24,Piracicaba,SP\" >> ./entregas/data=2022-01-01/entregas_part1.csv\n",
        "!echo \"101,25,Piracicaba,SP\" >> ./entregas/data=2022-01-01/entregas_part1.csv\n",
        "\n",
        "!echo \"id_entrega,id_resturante,cidade,estado\" >> ./entregas/data=2022-01-02/entregas_part2.csv\n",
        "!echo \"102,26,Campinas,SP\" >> ./entregas/data=2022-01-02/entregas_part2.csv\n",
        "!echo \"103,27,Florianopolis,SC\" >> ./entregas/data=2022-01-02/entregas_part2.csv\n",
        "\n",
        "!echo \"id_entrega,id_resturante,cidade,estado\" >> ./entregas/data=2022-01-03/entregas_part3.csv\n",
        "!echo \"104,28,Florianopolis,SC\" >> ./entregas/data=2022-01-03/entregas_part3.csv"
      ],
      "metadata": {
        "id": "i9LR8YrKmU2j"
      },
      "execution_count": null,
      "outputs": []
    },
    {
      "cell_type": "markdown",
      "source": [
        "Logo, a consulta SQL abaixo retornaria apenas o conteúdo do arquivo `csv` da pasta `data=2022-01-02`, reduzindo assim o tráfego de dados pela rede de computadores que conecta os nós do clusters, o que se traduz em velocidade na consulta (e redução do preço caso esteja usando serviços de computação em nuvem como o AWS Athena)."
      ],
      "metadata": {
        "id": "hp4GpbH6pgw_"
      }
    },
    {
      "cell_type": "markdown",
      "source": [
        "```sql\n",
        "SELECT * FROM entregas WHERE \"data\" = DATE '2022-01-02'\n",
        "```"
      ],
      "metadata": {
        "id": "Hg5AWE2YpqLi"
      }
    },
    {
      "cell_type": "markdown",
      "source": [
        "É possível o particionamento em multinível também. Como exemplo, um particionamento por `data` e `estado` geraria uma estrutura de pastas equivalente ao resultado da execução do código abaixo. Note que desta vez tanto a coluna `data` como a coluna `estado` são \"movidas\" dos arquivos `csv` para a estrutua de pastas."
      ],
      "metadata": {
        "id": "EhIXyNkerP2H"
      }
    },
    {
      "cell_type": "markdown",
      "source": [
        "> **Nota**: Não se preocupe em entender o código `bash` abaixo, os pacotes Python de interesse abstraem essa complexidade."
      ],
      "metadata": {
        "id": "kUlJdXR8yLtI"
      }
    },
    {
      "cell_type": "code",
      "source": [
        "!mkdir ./entregas_multi\n",
        "!mkdir ./entregas_multi/data=2022-01-01\n",
        "!mkdir ./entregas_multi/data=2022-01-01/estado=SP\n",
        "!mkdir ./entregas_multi/data=2022-01-02\n",
        "!mkdir ./entregas_multi/data=2022-01-02/estado=SP\n",
        "!mkdir ./entregas_multi/data=2022-01-02/estado=SC\n",
        "!mkdir ./entregas_multi/data=2022-01-03\n",
        "!mkdir ./entregas_multi/data=2022-01-03/estado=SC\n",
        "\n",
        "!echo \"id_entrega,id_resturante,cidade\" >> ./entregas_multi/data=2022-01-01/estado=SP/entregas_part1.csv\n",
        "!echo \"100,24,Piracicaba\" >> ./entregas_multi/data=2022-01-01/estado=SP/entregas_part1.csv\n",
        "!echo \"101,25,Piracicaba\" >> ./entregas_multi/data=2022-01-01/estado=SP/entregas_part1.csv\n",
        "\n",
        "!echo \"id_entrega,id_resturante,cidade\" >> ./entregas_multi/data=2022-01-02/estado=SP/entregas_part2.csv\n",
        "!echo \"102,26,Campinas\" >> ./entregas_multi/data=2022-01-02/estado=SP/entregas_part2.csv\n",
        "\n",
        "!echo \"id_entrega,id_resturante,cidade\" >> ./entregas_multi/data=2022-01-02/estado=SC/entregas_part3.csv\n",
        "!echo \"103,27,Florianopolis\" >> ./entregas_multi/data=2022-01-02/estado=SC/entregas_part3.csv\n",
        "\n",
        "!echo \"id_entrega,id_resturante,cidade\" >> ./entregas_multi/data=2022-01-03/estado=SC/entregas_part4.csv\n",
        "!echo \"104,28,Florianopolis\" >> ./entregas_multi/data=2022-01-03/estado=SC/entregas_part4.csv"
      ],
      "metadata": {
        "id": "6tod53ncsHGD"
      },
      "execution_count": null,
      "outputs": []
    },
    {
      "cell_type": "markdown",
      "source": [
        "Logo, a consulta SQL abaixo retornaria apenas o conteúdo do arquivo `csv` da pasta `estado=SC` dentro da pasta `data=2022-01-02`, diminuindo ainda mais o trafego de dados na rede de computadores do cluster mas aumentando o processameno necessário para \"varrer\" as pastas do sistema de arquivos."
      ],
      "metadata": {
        "id": "-mjl_zcCtE1f"
      }
    },
    {
      "cell_type": "markdown",
      "source": [
        "```sql\n",
        "SELECT * FROM entregas WHERE \"data\" = DATE '2022-01-02' AND estado = 'SC'\n",
        "```"
      ],
      "metadata": {
        "id": "kQrGILjZtKlB"
      }
    },
    {
      "cell_type": "markdown",
      "source": [
        "> Portanto, as escolha das colunas de partição é uma escolha de compromisso entre **tráfego** (custo) e **velocidade** (processamento)."
      ],
      "metadata": {
        "id": "WOym8jmht7V5"
      }
    },
    {
      "cell_type": "markdown",
      "source": [
        "Colunas como `id_entrega` ou ainda `id_resturante` seriam escolhas infelizes pois gerariam muitas partições com arquivos com poucas linhas."
      ],
      "metadata": {
        "id": "OH9FPa9zuXEG"
      }
    },
    {
      "cell_type": "markdown",
      "source": [
        "> **Dica**: Em geral, colunas de tempo no formato YYYY-MM-DD é uma escolha razoável."
      ],
      "metadata": {
        "id": "vvf9r7KBuw4w"
      }
    },
    {
      "cell_type": "markdown",
      "source": [
        "> **Dica**: Se possível, demais colunas de partição (além das que remetem ao tempo) devem ser selecionadas de acordo com o padrão de consulta dos dados. Contudo, é muito improvável prever esse tipo de padrão com uma boa assertividade."
      ],
      "metadata": {
        "id": "XiaOtH9lvCwW"
      }
    },
    {
      "cell_type": "markdown",
      "source": [
        "Vamos explorar técnicas de particionamento (e orientação a coluna) na nuvem da AWS com o AWS S3 e AWS Athena na aula 3."
      ],
      "metadata": {
        "id": "nj8pCF_jE0Nd"
      }
    },
    {
      "cell_type": "markdown",
      "metadata": {
        "id": "EvJTE2FpaGeU"
      },
      "source": [
        "## 2\\. Orientação a coluna"
      ]
    },
    {
      "cell_type": "markdown",
      "metadata": {
        "id": "ISYXZbomlb1x"
      },
      "source": [
        "Para obsevar os benefícios que a orientação a coluna trás para o armazenamento de grandes volumes de dados, vamos explorar duas tecnologias orientadas a colunas: o formato de arquivo `Apache Parquet` (disco) e a estrutura de dados `Apache Arrow` (memória). Vamos também compará-las com seus pares orientados a linha, como arquivos do tipo `csv` e o pacote Python Pandas.  "
      ]
    },
    {
      "cell_type": "markdown",
      "source": [
        "Como exemplo, vamos utilizar os dados de crime da cidade de Chicago, Estados Unidos da América, em 2014. Os dados estão armazenados em um arquivo no formato `csv` de aproimadamente 50MB e foram extraídos do Kaggle ([link](https://www.kaggle.com/yamqwe/chicago-crimee?select=chicago_crime_2014.csv))."
      ],
      "metadata": {
        "id": "_MlzEchdu0cP"
      }
    },
    {
      "cell_type": "code",
      "source": [
        "!wget https://raw.githubusercontent.com/andre-marcos-perez/ebac-course-utils/main/dataset/crime.csv -q -O crime.csv"
      ],
      "metadata": {
        "id": "rvhhltq3Zm5-"
      },
      "execution_count": 2,
      "outputs": []
    },
    {
      "cell_type": "markdown",
      "source": [
        "Vamos criar um DataFrame Pandas com os dados."
      ],
      "metadata": {
        "id": "bVSxCr2VZmD0"
      }
    },
    {
      "cell_type": "code",
      "source": [
        "import pandas as pd\n",
        "\n",
        "filename = './crime'\n",
        "\n",
        "df = pd.read_csv(f'./{filename}.csv')"
      ],
      "metadata": {
        "id": "6pIIqjB0Ab1j"
      },
      "execution_count": 3,
      "outputs": []
    },
    {
      "cell_type": "code",
      "source": [
        "df.head()"
      ],
      "metadata": {
        "id": "IdZ6pagbZ0hV",
        "colab": {
          "base_uri": "https://localhost:8080/",
          "height": 402
        },
        "outputId": "0af19f23-2adc-40fa-8769-4993641d0fcf"
      },
      "execution_count": 4,
      "outputs": [
        {
          "output_type": "execute_result",
          "data": {
            "text/plain": [
              "   index       ID Case Number                    Date                   Block  \\\n",
              "0      0  9446824    HX100141  01/01/2014 02:00:00 AM     0000X W ILLINOIS ST   \n",
              "1      1  9446748    HX100020  01/01/2014 12:00:00 AM     006XX N DEARBORN ST   \n",
              "2      2  9446758    HX100030  01/01/2014 12:30:00 AM        052XX W RACE AVE   \n",
              "3      3  9446760    HX100027  01/01/2014 12:30:00 AM  053XX W WELLINGTON AVE   \n",
              "4      4  9446764    HX100054  01/01/2014 12:10:00 AM    014XX W LEXINGTON ST   \n",
              "\n",
              "   IUCR     Primary Type    Description Location Description  Arrest  \\\n",
              "0  0460          BATTERY         SIMPLE               STREET   False   \n",
              "1  0890            THEFT  FROM BUILDING        BAR OR TAVERN   False   \n",
              "2  1310  CRIMINAL DAMAGE    TO PROPERTY            APARTMENT   False   \n",
              "3  0460          BATTERY         SIMPLE            APARTMENT    True   \n",
              "4  0460          BATTERY         SIMPLE               STREET   False   \n",
              "\n",
              "   Domestic  Beat  District  Ward  Community Area FBI Code   Latitude  \\\n",
              "0     False  1831        18  42.0             8.0      08B  41.890828   \n",
              "1     False  1832        18  42.0             8.0       06  41.893542   \n",
              "2     False  1523        15  28.0            25.0       14  41.890046   \n",
              "3     False  2514        25  31.0            19.0      08B  41.935011   \n",
              "4     False  1231        12  25.0            28.0      08B  41.872509   \n",
              "\n",
              "   Longitude  \n",
              "0 -87.630235  \n",
              "1 -87.629702  \n",
              "2 -87.756333  \n",
              "3 -87.759739  \n",
              "4 -87.663069  "
            ],
            "text/html": [
              "\n",
              "  <div id=\"df-a3d20b53-23cd-4dbe-bd84-6b3f9dc8dd18\" class=\"colab-df-container\">\n",
              "    <div>\n",
              "<style scoped>\n",
              "    .dataframe tbody tr th:only-of-type {\n",
              "        vertical-align: middle;\n",
              "    }\n",
              "\n",
              "    .dataframe tbody tr th {\n",
              "        vertical-align: top;\n",
              "    }\n",
              "\n",
              "    .dataframe thead th {\n",
              "        text-align: right;\n",
              "    }\n",
              "</style>\n",
              "<table border=\"1\" class=\"dataframe\">\n",
              "  <thead>\n",
              "    <tr style=\"text-align: right;\">\n",
              "      <th></th>\n",
              "      <th>index</th>\n",
              "      <th>ID</th>\n",
              "      <th>Case Number</th>\n",
              "      <th>Date</th>\n",
              "      <th>Block</th>\n",
              "      <th>IUCR</th>\n",
              "      <th>Primary Type</th>\n",
              "      <th>Description</th>\n",
              "      <th>Location Description</th>\n",
              "      <th>Arrest</th>\n",
              "      <th>Domestic</th>\n",
              "      <th>Beat</th>\n",
              "      <th>District</th>\n",
              "      <th>Ward</th>\n",
              "      <th>Community Area</th>\n",
              "      <th>FBI Code</th>\n",
              "      <th>Latitude</th>\n",
              "      <th>Longitude</th>\n",
              "    </tr>\n",
              "  </thead>\n",
              "  <tbody>\n",
              "    <tr>\n",
              "      <th>0</th>\n",
              "      <td>0</td>\n",
              "      <td>9446824</td>\n",
              "      <td>HX100141</td>\n",
              "      <td>01/01/2014 02:00:00 AM</td>\n",
              "      <td>0000X W ILLINOIS ST</td>\n",
              "      <td>0460</td>\n",
              "      <td>BATTERY</td>\n",
              "      <td>SIMPLE</td>\n",
              "      <td>STREET</td>\n",
              "      <td>False</td>\n",
              "      <td>False</td>\n",
              "      <td>1831</td>\n",
              "      <td>18</td>\n",
              "      <td>42.0</td>\n",
              "      <td>8.0</td>\n",
              "      <td>08B</td>\n",
              "      <td>41.890828</td>\n",
              "      <td>-87.630235</td>\n",
              "    </tr>\n",
              "    <tr>\n",
              "      <th>1</th>\n",
              "      <td>1</td>\n",
              "      <td>9446748</td>\n",
              "      <td>HX100020</td>\n",
              "      <td>01/01/2014 12:00:00 AM</td>\n",
              "      <td>006XX N DEARBORN ST</td>\n",
              "      <td>0890</td>\n",
              "      <td>THEFT</td>\n",
              "      <td>FROM BUILDING</td>\n",
              "      <td>BAR OR TAVERN</td>\n",
              "      <td>False</td>\n",
              "      <td>False</td>\n",
              "      <td>1832</td>\n",
              "      <td>18</td>\n",
              "      <td>42.0</td>\n",
              "      <td>8.0</td>\n",
              "      <td>06</td>\n",
              "      <td>41.893542</td>\n",
              "      <td>-87.629702</td>\n",
              "    </tr>\n",
              "    <tr>\n",
              "      <th>2</th>\n",
              "      <td>2</td>\n",
              "      <td>9446758</td>\n",
              "      <td>HX100030</td>\n",
              "      <td>01/01/2014 12:30:00 AM</td>\n",
              "      <td>052XX W RACE AVE</td>\n",
              "      <td>1310</td>\n",
              "      <td>CRIMINAL DAMAGE</td>\n",
              "      <td>TO PROPERTY</td>\n",
              "      <td>APARTMENT</td>\n",
              "      <td>False</td>\n",
              "      <td>False</td>\n",
              "      <td>1523</td>\n",
              "      <td>15</td>\n",
              "      <td>28.0</td>\n",
              "      <td>25.0</td>\n",
              "      <td>14</td>\n",
              "      <td>41.890046</td>\n",
              "      <td>-87.756333</td>\n",
              "    </tr>\n",
              "    <tr>\n",
              "      <th>3</th>\n",
              "      <td>3</td>\n",
              "      <td>9446760</td>\n",
              "      <td>HX100027</td>\n",
              "      <td>01/01/2014 12:30:00 AM</td>\n",
              "      <td>053XX W WELLINGTON AVE</td>\n",
              "      <td>0460</td>\n",
              "      <td>BATTERY</td>\n",
              "      <td>SIMPLE</td>\n",
              "      <td>APARTMENT</td>\n",
              "      <td>True</td>\n",
              "      <td>False</td>\n",
              "      <td>2514</td>\n",
              "      <td>25</td>\n",
              "      <td>31.0</td>\n",
              "      <td>19.0</td>\n",
              "      <td>08B</td>\n",
              "      <td>41.935011</td>\n",
              "      <td>-87.759739</td>\n",
              "    </tr>\n",
              "    <tr>\n",
              "      <th>4</th>\n",
              "      <td>4</td>\n",
              "      <td>9446764</td>\n",
              "      <td>HX100054</td>\n",
              "      <td>01/01/2014 12:10:00 AM</td>\n",
              "      <td>014XX W LEXINGTON ST</td>\n",
              "      <td>0460</td>\n",
              "      <td>BATTERY</td>\n",
              "      <td>SIMPLE</td>\n",
              "      <td>STREET</td>\n",
              "      <td>False</td>\n",
              "      <td>False</td>\n",
              "      <td>1231</td>\n",
              "      <td>12</td>\n",
              "      <td>25.0</td>\n",
              "      <td>28.0</td>\n",
              "      <td>08B</td>\n",
              "      <td>41.872509</td>\n",
              "      <td>-87.663069</td>\n",
              "    </tr>\n",
              "  </tbody>\n",
              "</table>\n",
              "</div>\n",
              "    <div class=\"colab-df-buttons\">\n",
              "\n",
              "  <div class=\"colab-df-container\">\n",
              "    <button class=\"colab-df-convert\" onclick=\"convertToInteractive('df-a3d20b53-23cd-4dbe-bd84-6b3f9dc8dd18')\"\n",
              "            title=\"Convert this dataframe to an interactive table.\"\n",
              "            style=\"display:none;\">\n",
              "\n",
              "  <svg xmlns=\"http://www.w3.org/2000/svg\" height=\"24px\" viewBox=\"0 -960 960 960\">\n",
              "    <path d=\"M120-120v-720h720v720H120Zm60-500h600v-160H180v160Zm220 220h160v-160H400v160Zm0 220h160v-160H400v160ZM180-400h160v-160H180v160Zm440 0h160v-160H620v160ZM180-180h160v-160H180v160Zm440 0h160v-160H620v160Z\"/>\n",
              "  </svg>\n",
              "    </button>\n",
              "\n",
              "  <style>\n",
              "    .colab-df-container {\n",
              "      display:flex;\n",
              "      gap: 12px;\n",
              "    }\n",
              "\n",
              "    .colab-df-convert {\n",
              "      background-color: #E8F0FE;\n",
              "      border: none;\n",
              "      border-radius: 50%;\n",
              "      cursor: pointer;\n",
              "      display: none;\n",
              "      fill: #1967D2;\n",
              "      height: 32px;\n",
              "      padding: 0 0 0 0;\n",
              "      width: 32px;\n",
              "    }\n",
              "\n",
              "    .colab-df-convert:hover {\n",
              "      background-color: #E2EBFA;\n",
              "      box-shadow: 0px 1px 2px rgba(60, 64, 67, 0.3), 0px 1px 3px 1px rgba(60, 64, 67, 0.15);\n",
              "      fill: #174EA6;\n",
              "    }\n",
              "\n",
              "    .colab-df-buttons div {\n",
              "      margin-bottom: 4px;\n",
              "    }\n",
              "\n",
              "    [theme=dark] .colab-df-convert {\n",
              "      background-color: #3B4455;\n",
              "      fill: #D2E3FC;\n",
              "    }\n",
              "\n",
              "    [theme=dark] .colab-df-convert:hover {\n",
              "      background-color: #434B5C;\n",
              "      box-shadow: 0px 1px 3px 1px rgba(0, 0, 0, 0.15);\n",
              "      filter: drop-shadow(0px 1px 2px rgba(0, 0, 0, 0.3));\n",
              "      fill: #FFFFFF;\n",
              "    }\n",
              "  </style>\n",
              "\n",
              "    <script>\n",
              "      const buttonEl =\n",
              "        document.querySelector('#df-a3d20b53-23cd-4dbe-bd84-6b3f9dc8dd18 button.colab-df-convert');\n",
              "      buttonEl.style.display =\n",
              "        google.colab.kernel.accessAllowed ? 'block' : 'none';\n",
              "\n",
              "      async function convertToInteractive(key) {\n",
              "        const element = document.querySelector('#df-a3d20b53-23cd-4dbe-bd84-6b3f9dc8dd18');\n",
              "        const dataTable =\n",
              "          await google.colab.kernel.invokeFunction('convertToInteractive',\n",
              "                                                    [key], {});\n",
              "        if (!dataTable) return;\n",
              "\n",
              "        const docLinkHtml = 'Like what you see? Visit the ' +\n",
              "          '<a target=\"_blank\" href=https://colab.research.google.com/notebooks/data_table.ipynb>data table notebook</a>'\n",
              "          + ' to learn more about interactive tables.';\n",
              "        element.innerHTML = '';\n",
              "        dataTable['output_type'] = 'display_data';\n",
              "        await google.colab.output.renderOutput(dataTable, element);\n",
              "        const docLink = document.createElement('div');\n",
              "        docLink.innerHTML = docLinkHtml;\n",
              "        element.appendChild(docLink);\n",
              "      }\n",
              "    </script>\n",
              "  </div>\n",
              "\n",
              "\n",
              "<div id=\"df-bbe209d3-33b9-432e-8f8a-3856c4bcc3cf\">\n",
              "  <button class=\"colab-df-quickchart\" onclick=\"quickchart('df-bbe209d3-33b9-432e-8f8a-3856c4bcc3cf')\"\n",
              "            title=\"Suggest charts\"\n",
              "            style=\"display:none;\">\n",
              "\n",
              "<svg xmlns=\"http://www.w3.org/2000/svg\" height=\"24px\"viewBox=\"0 0 24 24\"\n",
              "     width=\"24px\">\n",
              "    <g>\n",
              "        <path d=\"M19 3H5c-1.1 0-2 .9-2 2v14c0 1.1.9 2 2 2h14c1.1 0 2-.9 2-2V5c0-1.1-.9-2-2-2zM9 17H7v-7h2v7zm4 0h-2V7h2v10zm4 0h-2v-4h2v4z\"/>\n",
              "    </g>\n",
              "</svg>\n",
              "  </button>\n",
              "\n",
              "<style>\n",
              "  .colab-df-quickchart {\n",
              "      --bg-color: #E8F0FE;\n",
              "      --fill-color: #1967D2;\n",
              "      --hover-bg-color: #E2EBFA;\n",
              "      --hover-fill-color: #174EA6;\n",
              "      --disabled-fill-color: #AAA;\n",
              "      --disabled-bg-color: #DDD;\n",
              "  }\n",
              "\n",
              "  [theme=dark] .colab-df-quickchart {\n",
              "      --bg-color: #3B4455;\n",
              "      --fill-color: #D2E3FC;\n",
              "      --hover-bg-color: #434B5C;\n",
              "      --hover-fill-color: #FFFFFF;\n",
              "      --disabled-bg-color: #3B4455;\n",
              "      --disabled-fill-color: #666;\n",
              "  }\n",
              "\n",
              "  .colab-df-quickchart {\n",
              "    background-color: var(--bg-color);\n",
              "    border: none;\n",
              "    border-radius: 50%;\n",
              "    cursor: pointer;\n",
              "    display: none;\n",
              "    fill: var(--fill-color);\n",
              "    height: 32px;\n",
              "    padding: 0;\n",
              "    width: 32px;\n",
              "  }\n",
              "\n",
              "  .colab-df-quickchart:hover {\n",
              "    background-color: var(--hover-bg-color);\n",
              "    box-shadow: 0 1px 2px rgba(60, 64, 67, 0.3), 0 1px 3px 1px rgba(60, 64, 67, 0.15);\n",
              "    fill: var(--button-hover-fill-color);\n",
              "  }\n",
              "\n",
              "  .colab-df-quickchart-complete:disabled,\n",
              "  .colab-df-quickchart-complete:disabled:hover {\n",
              "    background-color: var(--disabled-bg-color);\n",
              "    fill: var(--disabled-fill-color);\n",
              "    box-shadow: none;\n",
              "  }\n",
              "\n",
              "  .colab-df-spinner {\n",
              "    border: 2px solid var(--fill-color);\n",
              "    border-color: transparent;\n",
              "    border-bottom-color: var(--fill-color);\n",
              "    animation:\n",
              "      spin 1s steps(1) infinite;\n",
              "  }\n",
              "\n",
              "  @keyframes spin {\n",
              "    0% {\n",
              "      border-color: transparent;\n",
              "      border-bottom-color: var(--fill-color);\n",
              "      border-left-color: var(--fill-color);\n",
              "    }\n",
              "    20% {\n",
              "      border-color: transparent;\n",
              "      border-left-color: var(--fill-color);\n",
              "      border-top-color: var(--fill-color);\n",
              "    }\n",
              "    30% {\n",
              "      border-color: transparent;\n",
              "      border-left-color: var(--fill-color);\n",
              "      border-top-color: var(--fill-color);\n",
              "      border-right-color: var(--fill-color);\n",
              "    }\n",
              "    40% {\n",
              "      border-color: transparent;\n",
              "      border-right-color: var(--fill-color);\n",
              "      border-top-color: var(--fill-color);\n",
              "    }\n",
              "    60% {\n",
              "      border-color: transparent;\n",
              "      border-right-color: var(--fill-color);\n",
              "    }\n",
              "    80% {\n",
              "      border-color: transparent;\n",
              "      border-right-color: var(--fill-color);\n",
              "      border-bottom-color: var(--fill-color);\n",
              "    }\n",
              "    90% {\n",
              "      border-color: transparent;\n",
              "      border-bottom-color: var(--fill-color);\n",
              "    }\n",
              "  }\n",
              "</style>\n",
              "\n",
              "  <script>\n",
              "    async function quickchart(key) {\n",
              "      const quickchartButtonEl =\n",
              "        document.querySelector('#' + key + ' button');\n",
              "      quickchartButtonEl.disabled = true;  // To prevent multiple clicks.\n",
              "      quickchartButtonEl.classList.add('colab-df-spinner');\n",
              "      try {\n",
              "        const charts = await google.colab.kernel.invokeFunction(\n",
              "            'suggestCharts', [key], {});\n",
              "      } catch (error) {\n",
              "        console.error('Error during call to suggestCharts:', error);\n",
              "      }\n",
              "      quickchartButtonEl.classList.remove('colab-df-spinner');\n",
              "      quickchartButtonEl.classList.add('colab-df-quickchart-complete');\n",
              "    }\n",
              "    (() => {\n",
              "      let quickchartButtonEl =\n",
              "        document.querySelector('#df-bbe209d3-33b9-432e-8f8a-3856c4bcc3cf button');\n",
              "      quickchartButtonEl.style.display =\n",
              "        google.colab.kernel.accessAllowed ? 'block' : 'none';\n",
              "    })();\n",
              "  </script>\n",
              "</div>\n",
              "\n",
              "    </div>\n",
              "  </div>\n"
            ]
          },
          "metadata": {},
          "execution_count": 4
        }
      ]
    },
    {
      "cell_type": "markdown",
      "source": [
        "Vamos então conferir alguns metadados do DataFrame."
      ],
      "metadata": {
        "id": "pdC-IMZLrUGp"
      }
    },
    {
      "cell_type": "code",
      "source": [
        "df.shape"
      ],
      "metadata": {
        "id": "lt3J8_Q8qNlL",
        "colab": {
          "base_uri": "https://localhost:8080/"
        },
        "outputId": "897a877c-d3dd-46bd-cf29-cce53c296d1b"
      },
      "execution_count": 5,
      "outputs": [
        {
          "output_type": "execute_result",
          "data": {
            "text/plain": [
              "(274423, 18)"
            ]
          },
          "metadata": {},
          "execution_count": 5
        }
      ]
    },
    {
      "cell_type": "code",
      "source": [
        "df.info()"
      ],
      "metadata": {
        "id": "sqomksa6Pvfb",
        "colab": {
          "base_uri": "https://localhost:8080/"
        },
        "outputId": "f6f7651a-aadd-4696-b21d-b725cee57052"
      },
      "execution_count": 6,
      "outputs": [
        {
          "output_type": "stream",
          "name": "stdout",
          "text": [
            "<class 'pandas.core.frame.DataFrame'>\n",
            "RangeIndex: 274423 entries, 0 to 274422\n",
            "Data columns (total 18 columns):\n",
            " #   Column                Non-Null Count   Dtype  \n",
            "---  ------                --------------   -----  \n",
            " 0   index                 274423 non-null  int64  \n",
            " 1   ID                    274423 non-null  int64  \n",
            " 2   Case Number           274423 non-null  object \n",
            " 3   Date                  274423 non-null  object \n",
            " 4   Block                 274423 non-null  object \n",
            " 5   IUCR                  274423 non-null  object \n",
            " 6   Primary Type          274423 non-null  object \n",
            " 7   Description           274423 non-null  object \n",
            " 8   Location Description  274247 non-null  object \n",
            " 9   Arrest                274423 non-null  bool   \n",
            " 10  Domestic              274423 non-null  bool   \n",
            " 11  Beat                  274423 non-null  int64  \n",
            " 12  District              274423 non-null  int64  \n",
            " 13  Ward                  274421 non-null  float64\n",
            " 14  Community Area        274422 non-null  float64\n",
            " 15  FBI Code              274423 non-null  object \n",
            " 16  Latitude              269464 non-null  float64\n",
            " 17  Longitude             269464 non-null  float64\n",
            "dtypes: bool(2), float64(4), int64(4), object(8)\n",
            "memory usage: 34.0+ MB\n"
          ]
        }
      ]
    },
    {
      "cell_type": "markdown",
      "source": [
        "Por fim, vamos realizar uma agregação para futura comparação. Nela, vamos contar a frequencia de ocorrência dos crimes agrupados localidades da cidade (coluna `Location Description`)."
      ],
      "metadata": {
        "id": "h2Thqn0jrWbr"
      }
    },
    {
      "cell_type": "code",
      "source": [
        "agg_df = df['Location Description'].value_counts()"
      ],
      "metadata": {
        "id": "yGviw8b3sPUu"
      },
      "execution_count": 7,
      "outputs": []
    },
    {
      "cell_type": "code",
      "source": [
        "agg_df"
      ],
      "metadata": {
        "id": "vWftDL9jsqxh",
        "colab": {
          "base_uri": "https://localhost:8080/"
        },
        "outputId": "d927a96e-e484-4062-c435-910b53e12fc4"
      },
      "execution_count": 8,
      "outputs": [
        {
          "output_type": "execute_result",
          "data": {
            "text/plain": [
              "STREET                     63057\n",
              "RESIDENCE                  43139\n",
              "APARTMENT                  35041\n",
              "SIDEWALK                   30901\n",
              "OTHER                      10735\n",
              "                           ...  \n",
              "GAS STATION DRIVE/PROP.        1\n",
              "BASEMENT                       1\n",
              "VESTIBULE                      1\n",
              "NURSING HOME                   1\n",
              "GOVERNMENT BUILDING            1\n",
              "Name: Location Description, Length: 119, dtype: int64"
            ]
          },
          "metadata": {},
          "execution_count": 8
        }
      ]
    },
    {
      "cell_type": "markdown",
      "source": [
        "### **2.1. Apache Parquet**"
      ],
      "metadata": {
        "id": "EhKOYuGqLMSo"
      }
    },
    {
      "cell_type": "markdown",
      "source": [
        "O `Apache Parquet` é o formato de arquivo **orientado a coluna** mais utilizado no ecossistema de *big data* ([documentação](https://parquet.apache.org/)). Entre suas funcionalidades, podemos destacar:"
      ],
      "metadata": {
        "id": "RvHMHCjZQHEm"
      }
    },
    {
      "cell_type": "markdown",
      "source": [
        "  - indexação por coluna (processamento);\n",
        "  - tipagem por coluna (processamento e armazenamento);\n",
        "  - compressão por coluna (armazenamento)."
      ],
      "metadata": {
        "id": "TaiZiLLhF23E"
      }
    },
    {
      "cell_type": "markdown",
      "source": [
        "A interoperabilidade com o pacote Python `Pandas` é alcançada atrás do uso de estruturas de dados **orientadas a coluna**, como o `Apache Arrow`. Exemplos:"
      ],
      "metadata": {
        "id": "pAwgjQOxF3mc"
      }
    },
    {
      "cell_type": "markdown",
      "source": [
        " - Salvar um `Pandas` DataFrame para um arquivo `Apache Parquet`:"
      ],
      "metadata": {
        "id": "9TkFYXMtGh0x"
      }
    },
    {
      "cell_type": "code",
      "source": [
        "df.to_parquet('./crime.parquet', engine='pyarrow')"
      ],
      "metadata": {
        "id": "cOFXezq7QFeu"
      },
      "execution_count": null,
      "outputs": []
    },
    {
      "cell_type": "markdown",
      "source": [
        " - Salvar um `Pandas` DataFrame para um arquivo `Apache Parquet` comprimido:"
      ],
      "metadata": {
        "id": "jB69_3ytRrmp"
      }
    },
    {
      "cell_type": "code",
      "source": [
        "df.to_parquet('./crime.parquet.gzip', engine='pyarrow', compression='gzip')"
      ],
      "metadata": {
        "id": "r3l85cqhQ9-n"
      },
      "execution_count": null,
      "outputs": []
    },
    {
      "cell_type": "markdown",
      "source": [
        "Vamos utilizar o método `getsize` do pacote nativo `os` para estimar o tamanho dos arquivos na memória persistente (ROM/SSD):"
      ],
      "metadata": {
        "id": "dMRVTkvnRtVN"
      }
    },
    {
      "cell_type": "code",
      "source": [
        "import os\n",
        "\n",
        "extensions = ['csv', 'parquet', 'parquet.gzip']\n",
        "\n",
        "for extension in extensions:\n",
        "\n",
        "  size = os.path.getsize(f'{filename}.{extension}')\n",
        "  size_mb = round(size / 1024 / 1024, 2)\n",
        "\n",
        "  print(f'{extension}: {size_mb} MB')"
      ],
      "metadata": {
        "id": "GtiQ431gQoco"
      },
      "execution_count": null,
      "outputs": []
    },
    {
      "cell_type": "markdown",
      "source": [
        "### **2.2. Apache Arrow**"
      ],
      "metadata": {
        "id": "xiCZBGWWYVO3"
      }
    },
    {
      "cell_type": "markdown",
      "source": [
        "O `Apache Arrow` é o uma estrutura de dados **orientado a coluna** muito utilizada no ecossistema de *big data* ([documentação](https://arrow.apache.org/)). É equivalente ao `Apache Parquet`, mas em memória, como listas, dicionários e objetos Python. O pacote Python `PyArrow` ([documentação](https://arrow.apache.org/docs/python/install.html)) permite a criação e manipulação das estruturas de dados do `Apache Arrow`."
      ],
      "metadata": {
        "id": "IaZMlCB7YXqx"
      }
    },
    {
      "cell_type": "code",
      "source": [
        "!pip install pyarrow==7.0.0"
      ],
      "metadata": {
        "id": "BAT98R6YephH"
      },
      "execution_count": null,
      "outputs": []
    },
    {
      "cell_type": "markdown",
      "source": [
        "O `PyArrow` trabalha com uma estrutura de dados orientada a coluna conhecida como `table` (tabela), similar aos DataFrames `Pandas`."
      ],
      "metadata": {
        "id": "EwW46ZsAhQbD"
      }
    },
    {
      "cell_type": "code",
      "source": [
        "from pyarrow import csv\n",
        "import pyarrow as pa\n",
        "import pandas as pd\n",
        "\n",
        "filename = './crime'\n",
        "\n",
        "table = csv.read_csv(f'{filename}.csv')\n",
        "df = pd.read_csv(f'./{filename}.csv')"
      ],
      "metadata": {
        "id": "sBZK5zlyYX1c"
      },
      "execution_count": null,
      "outputs": []
    },
    {
      "cell_type": "code",
      "source": [
        "table.shape"
      ],
      "metadata": {
        "id": "Cxyb2KkCqlHX"
      },
      "execution_count": null,
      "outputs": []
    },
    {
      "cell_type": "code",
      "source": [
        "table"
      ],
      "metadata": {
        "id": "Nxso4vVceLfb"
      },
      "execution_count": null,
      "outputs": []
    },
    {
      "cell_type": "markdown",
      "source": [
        "A similaridade com o Pandas fica evidente quando realizamos operações de agregação."
      ],
      "metadata": {
        "id": "6-ecMtXljQHV"
      }
    },
    {
      "cell_type": "markdown",
      "source": [
        " - Pandas"
      ],
      "metadata": {
        "id": "Xje6utUqI6Ib"
      }
    },
    {
      "cell_type": "code",
      "source": [
        "agg_df = df['Location Description'].value_counts()"
      ],
      "metadata": {
        "id": "Jyzjkvr3I0hp"
      },
      "execution_count": null,
      "outputs": []
    },
    {
      "cell_type": "code",
      "source": [
        "agg_df"
      ],
      "metadata": {
        "id": "zxvVaBgiI2jB"
      },
      "execution_count": null,
      "outputs": []
    },
    {
      "cell_type": "markdown",
      "source": [
        " - PyArrow"
      ],
      "metadata": {
        "id": "xzDMbplAI4Oj"
      }
    },
    {
      "cell_type": "code",
      "source": [
        "agg_table = table.group_by('Location Description').aggregate([('Location Description', 'count')])"
      ],
      "metadata": {
        "id": "wMMsgFnviVvK"
      },
      "execution_count": null,
      "outputs": []
    },
    {
      "cell_type": "code",
      "source": [
        "agg_table"
      ],
      "metadata": {
        "id": "0BvPcbQ6j80n"
      },
      "execution_count": null,
      "outputs": []
    },
    {
      "cell_type": "markdown",
      "source": [
        "Vamos utilizar o método `getsizeof` do pacote nativo `sys` para estimar o tamanho dos objetos na memória de trabalho (RAM):"
      ],
      "metadata": {
        "id": "LWqI4rUWmXnb"
      }
    },
    {
      "cell_type": "code",
      "source": [
        "import sys\n",
        "\n",
        "objects = [{'pandas': df}, {'pyarrow': table}]\n",
        "\n",
        "for obj_dict in objects:\n",
        "  for id, obj in obj_dict.items():\n",
        "\n",
        "    size = sys.getsizeof(obj)\n",
        "    size_mb = round(size / 1024 / 1024, 2)\n",
        "\n",
        "    print(f'{id}: {size_mb} MB')"
      ],
      "metadata": {
        "id": "85SNQ-MvmX6-"
      },
      "execution_count": null,
      "outputs": []
    },
    {
      "cell_type": "markdown",
      "source": [
        "Vemos que o objeto gerado pelo `PyArrow` (`table`) é aproximadamente 3 vezes menor que o objeto (`dataframe`) utilizado `Pandas`."
      ],
      "metadata": {
        "id": "RC9nVOOQtQQi"
      }
    },
    {
      "cell_type": "markdown",
      "metadata": {
        "id": "oVejInuPakz5"
      },
      "source": [
        "## 3\\. Particionamento"
      ]
    },
    {
      "cell_type": "markdown",
      "source": [
        "Para obsevar os benefícios que o **particionamento** trás para o armazenamento de grandes volumes de dados, vamos explorar as técnicas de particionamento na *cloud* da AWS, utilizando os serviços AWS S3 e AWS Athena, e o seu efeito combinado com a **orientação a coluna** através do `Apache Parquet`."
      ],
      "metadata": {
        "id": "POlvHFptrQFE"
      }
    },
    {
      "cell_type": "markdown",
      "source": [
        "### **3.1. Dados**"
      ],
      "metadata": {
        "id": "qNz6f1-6mDB0"
      }
    },
    {
      "cell_type": "markdown",
      "source": [
        "Vamos criar a coluna `reference_date` a partir da coluna `Date` no formato YYYY-MM-DD e entender se ela será uma boa coluna de partião."
      ],
      "metadata": {
        "id": "DTywnGJvAJ5r"
      }
    },
    {
      "cell_type": "code",
      "source": [
        "import pandas as pd\n",
        "\n",
        "filename = './crime'\n",
        "\n",
        "df = pd.read_csv(f'./{filename}.csv')"
      ],
      "metadata": {
        "id": "wMDjNrzCrR-Y"
      },
      "execution_count": null,
      "outputs": []
    },
    {
      "cell_type": "code",
      "source": [
        "df.head()"
      ],
      "metadata": {
        "id": "PGweKfDKjXmR"
      },
      "execution_count": null,
      "outputs": []
    },
    {
      "cell_type": "code",
      "source": [
        "from datetime import datetime\n",
        "\n",
        "df['reference_date'] = df['Date'].apply(lambda date: datetime.strptime(date.split(sep=' ')[0], '%m/%d/%Y').strftime('%Y-%m-%d'))"
      ],
      "metadata": {
        "id": "pCMnpj5ZjmX0"
      },
      "execution_count": null,
      "outputs": []
    },
    {
      "cell_type": "code",
      "source": [
        "df.tail()"
      ],
      "metadata": {
        "id": "DRbBtBs7JtGM"
      },
      "execution_count": null,
      "outputs": []
    },
    {
      "cell_type": "markdown",
      "source": [
        "Uma coluna que separa os dados em grupos bem distribuidos é uma boa candidata a uma coluna de partição. Vamos contar as ocorrências de crimes (logo, linhas) em cada um dos dias da coluna `reference_date` recém criada."
      ],
      "metadata": {
        "id": "3vGAKmCvo-lA"
      }
    },
    {
      "cell_type": "code",
      "source": [
        "agg_df = pd.DataFrame(df['reference_date'].value_counts()).sort_index().reset_index()\n",
        "agg_df = agg_df.rename(columns={'reference_date': 'amount'})\n",
        "agg_df = agg_df.rename(columns={'index': 'reference_date'})"
      ],
      "metadata": {
        "id": "wcfdAuZio-_O"
      },
      "execution_count": null,
      "outputs": []
    },
    {
      "cell_type": "code",
      "source": [
        "agg_df.tail()"
      ],
      "metadata": {
        "id": "v01g2HUIqTFY"
      },
      "execution_count": null,
      "outputs": []
    },
    {
      "cell_type": "code",
      "source": [
        "import seaborn as sns\n",
        "\n",
        "with sns.axes_style('whitegrid'):\n",
        "\n",
        "  chart = sns.barplot(x='reference_date', y='amount', data=agg_df)\n",
        "  chart.set(xticklabels=[])\n",
        "  chart.set(title='Frequency of Crime per Day (Chicago, 2014)', xlabel='Date (values ommited)', ylabel='Absolute Frequency');\n",
        "  chart.figure.set_size_inches(w=40/2.54, h=15/2.54)"
      ],
      "metadata": {
        "id": "RFyq1FtfkctQ"
      },
      "execution_count": null,
      "outputs": []
    },
    {
      "cell_type": "markdown",
      "source": [
        "Observa-se que a coluna `reference_date` de fato divide os dados em grupos equilibrados. Sendo assim, vamos salvar o `DataFrame` Pandas em arquivos comprimidos no formato `Parquet`, particionados pela coluna `reference_date`."
      ],
      "metadata": {
        "id": "DEXaqKv4MH4i"
      }
    },
    {
      "cell_type": "code",
      "source": [
        "df.to_parquet('./crime', engine='pyarrow', compression='gzip', partition_cols='reference_date')"
      ],
      "metadata": {
        "id": "99CJIbkpLC64"
      },
      "execution_count": null,
      "outputs": []
    },
    {
      "cell_type": "markdown",
      "source": [
        "Vamos também salver o `DataFrame` Pandas no formato `CSV` para garantir que os arquivos de ambas as abordagens possuem a coluna `reference_date`."
      ],
      "metadata": {
        "id": "3sizurY8Rty5"
      }
    },
    {
      "cell_type": "code",
      "source": [
        "df.to_csv('./crime_enriched.csv', sep=',', index=False)"
      ],
      "metadata": {
        "id": "jjcPDnVnRt9s"
      },
      "execution_count": null,
      "outputs": []
    },
    {
      "cell_type": "markdown",
      "source": [
        "### **3.2. AWS S3**"
      ],
      "metadata": {
        "id": "87VyfhxJJivU"
      }
    },
    {
      "cell_type": "markdown",
      "source": [
        "Na AWS, vamos criar os recursos tanto para o arquivo no formato `csv` quanto para os arquivos no formato `parquet`."
      ],
      "metadata": {
        "id": "nWj5ljVDLDsr"
      }
    },
    {
      "cell_type": "markdown",
      "source": [
        " - **CSV**"
      ],
      "metadata": {
        "id": "gElLw7ULNsx2"
      }
    },
    {
      "cell_type": "markdown",
      "source": [
        "Vamos criar os recursos na AWS:"
      ],
      "metadata": {
        "id": "qkTsE_hlRkRM"
      }
    },
    {
      "cell_type": "markdown",
      "source": [
        "1. `Bucket` no `AWS S3` para armazenar o arquivo."
      ],
      "metadata": {
        "id": "G27J4pgVRkRN"
      }
    },
    {
      "cell_type": "markdown",
      "source": [
        " - **Parquet**"
      ],
      "metadata": {
        "id": "mgsdR1cyNvoU"
      }
    },
    {
      "cell_type": "markdown",
      "source": [
        "Vamos começar criando os recursos na AWS:"
      ],
      "metadata": {
        "id": "FdeAengbOne3"
      }
    },
    {
      "cell_type": "markdown",
      "source": [
        "1. `Bucket` no `AWS S3` para armazenar os arquivos e suas partições;\n",
        "1. Usuário no `AWS IAM` para fazer o *upload* dos arquivos e suas partições."
      ],
      "metadata": {
        "id": "xoYiyC2uPTP9"
      }
    },
    {
      "cell_type": "markdown",
      "source": [
        "Então, vamos inserir as credenciais no Python."
      ],
      "metadata": {
        "id": "OBH2mGlhOFWR"
      }
    },
    {
      "cell_type": "code",
      "source": [
        "from getpass import getpass\n",
        "\n",
        "aws_access_key_id = getpass()"
      ],
      "metadata": {
        "id": "VZhq1Z3iMML8"
      },
      "execution_count": null,
      "outputs": []
    },
    {
      "cell_type": "code",
      "source": [
        "from getpass import getpass\n",
        "\n",
        "aws_secret_access_key = getpass()"
      ],
      "metadata": {
        "id": "f3udXTzFMPSV"
      },
      "execution_count": null,
      "outputs": []
    },
    {
      "cell_type": "markdown",
      "source": [
        "E instalar o pacote Boto3, o SDK Python da AWS."
      ],
      "metadata": {
        "id": "z77LJUMKN_Va"
      }
    },
    {
      "cell_type": "code",
      "source": [
        "!pip install boto3"
      ],
      "metadata": {
        "id": "PQXiK5nKMJKA"
      },
      "execution_count": null,
      "outputs": []
    },
    {
      "cell_type": "markdown",
      "source": [
        "Por fim, vamos criar o nosso cliente e fazer o *upload* das partições."
      ],
      "metadata": {
        "id": "Dw4zV7xnOkmF"
      }
    },
    {
      "cell_type": "code",
      "source": [
        "import boto3\n",
        "\n",
        "client = boto3.client(\n",
        "  's3',\n",
        "  aws_access_key_id=aws_access_key_id,\n",
        "  aws_secret_access_key=aws_secret_access_key\n",
        ")"
      ],
      "metadata": {
        "id": "aD72G2s-MR7K"
      },
      "execution_count": null,
      "outputs": []
    },
    {
      "cell_type": "code",
      "source": [
        "import os\n",
        "\n",
        "BUCKET = 'modulo-42-ebac-parquet'\n",
        "\n",
        "i = 0\n",
        "\n",
        "for root, dirs, files in os.walk('./crime'):\n",
        "  elapsed = f'{round(100*i/365, 2)} %'\n",
        "  print(elapsed)\n",
        "  for file in files:\n",
        "    path = os.path.join(root, file)\n",
        "    bucket_path = '/'.join(path.split(sep='/')[2:])\n",
        "    client.upload_file(path, BUCKET, bucket_path)\n",
        "  i = i + 1\n"
      ],
      "metadata": {
        "id": "ox1qvbcbMcHD"
      },
      "execution_count": null,
      "outputs": []
    },
    {
      "cell_type": "markdown",
      "source": [
        "### **3.3. AWS Athena**"
      ],
      "metadata": {
        "id": "nGD63S7KreZf"
      }
    },
    {
      "cell_type": "markdown",
      "source": [
        "Na AWS, vamos criar os recursos tanto para o arquivo no formato `csv` quanto para os arquivos no formato `parquet`."
      ],
      "metadata": {
        "id": "NclK_W44kdxQ"
      }
    },
    {
      "cell_type": "markdown",
      "source": [
        " - **CSV**"
      ],
      "metadata": {
        "id": "2d4PmPKId2O7"
      }
    },
    {
      "cell_type": "markdown",
      "source": [
        "Vamos criar os recursos na AWS:"
      ],
      "metadata": {
        "id": "8UcvQqeRd2PE"
      }
    },
    {
      "cell_type": "markdown",
      "source": [
        "1. Tabela no `AWS Athena` apontando para o arquivo."
      ],
      "metadata": {
        "id": "MVC5mDdad2PE"
      }
    },
    {
      "cell_type": "markdown",
      "source": [
        "```sql\n",
        "CREATE EXTERNAL TABLE `crime_csv`(\n",
        "  `index` bigint,\n",
        "  `id` string,\n",
        "  `case number` string,\n",
        "  `date` string,\n",
        "  `block` string,\n",
        "  `iucr` string,\n",
        "  `primary type` string,\n",
        "  `description` string,\n",
        "  `location description` string,\n",
        "  `arrest` string,\n",
        "  `domestic` string,\n",
        "  `beat` string,\n",
        "  `district` string,\n",
        "  `ward` string,\n",
        "  `community area` string,\n",
        "  `fbi code` string,\n",
        "  `latitude` string,\n",
        "  `longitude` string,\n",
        "  `reference_date` string)\n",
        "ROW FORMAT SERDE\n",
        "  'org.apache.hadoop.hive.serde2.OpenCSVSerde'\n",
        " WITH SERDEPROPERTIES (\n",
        "   'separatorChar' = ',',\n",
        "   'quoteChar' = '\\\"',\n",
        "   'escapeChar' = '\\\\'\n",
        "   )\n",
        "STORED AS INPUTFORMAT\n",
        "  'org.apache.hadoop.mapred.TextInputFormat'\n",
        "OUTPUTFORMAT\n",
        "  'org.apache.hadoop.hive.ql.io.HiveIgnoreKeyTextOutputFormat'\n",
        "LOCATION\n",
        "  's3://modulo-42-ebac-csv/'\n",
        "TBLPROPERTIES (\n",
        "  \"skip.header.line.count\"=\"1\")\n",
        "```"
      ],
      "metadata": {
        "id": "N9WoKyQ7gAc2"
      }
    },
    {
      "cell_type": "markdown",
      "source": [
        " - **Parquet**"
      ],
      "metadata": {
        "id": "B-nywk8Ad2PE"
      }
    },
    {
      "cell_type": "markdown",
      "source": [
        "Vamos criar os recursos na AWS:"
      ],
      "metadata": {
        "id": "SatlYFEKd2PE"
      }
    },
    {
      "cell_type": "markdown",
      "source": [
        "1. Tabela no `AWS Athena` apontando para os arquivos e suas partições.\n",
        "1. Carregar as partições."
      ],
      "metadata": {
        "id": "j7OeaaoPd78a"
      }
    },
    {
      "cell_type": "markdown",
      "source": [
        "```sql\n",
        "CREATE EXTERNAL TABLE `crime_parquet`(\n",
        "  `index` bigint,\n",
        "  `id` bigint,\n",
        "  `case number` string,\n",
        "  `date` string,\n",
        "  `block` string,\n",
        "  `iucr` string,\n",
        "  `primary type` string,\n",
        "  `description` string,\n",
        "  `location description` string,\n",
        "  `arrest` boolean,\n",
        "  `domestic` boolean,\n",
        "  `beat` bigint,\n",
        "  `district` bigint,\n",
        "  `ward` double,\n",
        "  `community area` double,\n",
        "  `fbi code` string,\n",
        "  `latitude` double,\n",
        "  `longitude` double)\n",
        "PARTITIONED BY (\n",
        "  `reference_date` string)\n",
        "ROW FORMAT SERDE\n",
        "  'org.apache.hadoop.hive.ql.io.parquet.serde.ParquetHiveSerDe'\n",
        "STORED AS INPUTFORMAT\n",
        "  'org.apache.hadoop.hive.ql.io.parquet.MapredParquetInputFormat'\n",
        "OUTPUTFORMAT\n",
        "  'org.apache.hadoop.hive.ql.io.parquet.MapredParquetOutputFormat'\n",
        "LOCATION\n",
        "  's3://modulo-42-ebac-parquet/'\n",
        "```"
      ],
      "metadata": {
        "id": "QmKucNY7fnZI"
      }
    },
    {
      "cell_type": "markdown",
      "source": [
        "```sql\n",
        "MSCK REPAIR TABLE `crime_parquet`;\n",
        "```"
      ],
      "metadata": {
        "id": "53p9CiWDkRh_"
      }
    },
    {
      "cell_type": "markdown",
      "source": [
        "Por fim, vamos executar um conjunto de consultas SQL em ambas as tabelas e observar a quantidade de dados escaneados."
      ],
      "metadata": {
        "id": "VhmDaLBfkgR0"
      }
    },
    {
      "cell_type": "markdown",
      "source": [
        " - Efeito da **orientação a coluna**:"
      ],
      "metadata": {
        "id": "FHv7bSnxmb2n"
      }
    },
    {
      "cell_type": "markdown",
      "source": [
        "```sql\n",
        "SELECT \"location description\", COUNT(1) as \"amount\"\n",
        "FROM crime_csv\n",
        "GROUP BY 1\n",
        "ORDER BY 2 DESC;\n",
        "```"
      ],
      "metadata": {
        "id": "7u2_angjmL9O"
      }
    },
    {
      "cell_type": "markdown",
      "source": [
        "```sql\n",
        "SELECT \"location description\", COUNT(1) as \"amount\"\n",
        "FROM crime_parquet\n",
        "GROUP BY 1\n",
        "ORDER BY 2 DESC;\n",
        "```"
      ],
      "metadata": {
        "id": "Lus8jJtJmPmF"
      }
    },
    {
      "cell_type": "markdown",
      "source": [
        "A consulta escaneou 47.34 MB para a tabela `crime_csv`, que é o mesmo tamanho do arquivo, logo um *full scan*. Já para a tabeka `crime_parquet`, a consulta escaneou 0.44 MB. Ou seja, a tabela com o dado **orientado a coluna** escaneou **108 vezes** menos dados para a consulta SQL que seu par em `csv`."
      ],
      "metadata": {
        "id": "RrEu9JgqmtVj"
      }
    },
    {
      "cell_type": "markdown",
      "source": [
        " - Efeito do **particionamento**:"
      ],
      "metadata": {
        "id": "QAEhG6_cnuls"
      }
    },
    {
      "cell_type": "markdown",
      "source": [
        "```sql\n",
        "SELECT *\n",
        "FROM crime_csv\n",
        "WHERE CAST(reference_date as DATE) BETWEEN DATE '2014-12-01' and DATE '2014-12-31'\n",
        "```"
      ],
      "metadata": {
        "id": "aeaDP0eQn6qH"
      }
    },
    {
      "cell_type": "markdown",
      "source": [
        "```sql\n",
        "SELECT *\n",
        "FROM crime_parquet\n",
        "WHERE CAST(reference_date as DATE) BETWEEN DATE '2014-12-01' and DATE '2014-12-31'\n",
        "```"
      ],
      "metadata": {
        "id": "hXgHc5iVn6qI"
      }
    },
    {
      "cell_type": "markdown",
      "source": [
        "A consulta escaneou 47.34 MB para a tabela `crime_csv`, que é o mesmo tamanho do arquivo, logo um *full scan*. Já para a tabeka `crime_parquet`, a consulta escaneou 1.00 MB. Ou seja, a tabela com o dado **particionado** escaneou **47.34 vezes** menos dados para a consulta SQL que seu par em `csv`."
      ],
      "metadata": {
        "id": "RpjcsoOIn6qI"
      }
    },
    {
      "cell_type": "markdown",
      "source": [
        " - Efeito da **orientação a coluna** e do **particionamento**:"
      ],
      "metadata": {
        "id": "4GimKNOuorQD"
      }
    },
    {
      "cell_type": "markdown",
      "source": [
        "```sql\n",
        "SELECT \"location description\", COUNT(1) as \"amount\"\n",
        "FROM crime_csv\n",
        "WHERE CAST(reference_date as DATE) BETWEEN DATE '2014-12-01' and DATE '2014-12-31'\n",
        "GROUP BY 1\n",
        "ORDER BY 2 DESC\n",
        "```"
      ],
      "metadata": {
        "id": "vIeMM80porQD"
      }
    },
    {
      "cell_type": "markdown",
      "source": [
        "```sql\n",
        "SELECT \"location description\", COUNT(1) as \"amount\"\n",
        "FROM crime_parquet\n",
        "WHERE CAST(reference_date as DATE) BETWEEN DATE '2014-12-01' and DATE '2014-12-31'\n",
        "GROUP BY 1\n",
        "ORDER BY 2 DESC\n",
        "```"
      ],
      "metadata": {
        "id": "uGHWrAMSorQE"
      }
    },
    {
      "cell_type": "markdown",
      "source": [
        "A consulta escaneou 47.34 MB para a tabela `crime_csv`, que é o mesmo tamanho do arquivo, logo um *full scan*. Já para a tabeka `crime_parquet`, a consulta escaneou 0.04 MB. Ou seja, a tabela com o dado **particionado** e **orientado a coluna** escaneou **1183.5 vezes** menos dados para a consulta SQL que seu par em `csv`."
      ],
      "metadata": {
        "id": "ksiGclEvorQE"
      }
    }
  ]
}